{
 "cells": [
  {
   "cell_type": "code",
   "execution_count": 1,
   "metadata": {},
   "outputs": [],
   "source": [
    "import numpy as np\n",
    "import pandas as pd\n",
    "import seaborn as sns\n",
    "\n",
    "from sklearn import preprocessing, svm \n",
    "from sklearn import tree\n",
    "from sklearn import neighbors\n",
    "\n",
    "from sklearn.model_selection import train_test_split \n",
    "\n",
    "from sklearn.linear_model import LinearRegression \n",
    "from sklearn.linear_model import LogisticRegression\n",
    "\n",
    "from sklearn.metrics import confusion_matrix\n",
    "from sklearn.metrics import accuracy_score\n",
    "from sklearn.metrics import classification_report\n",
    "from sklearn.metrics import mean_squared_error \n",
    "\n",
    "from sklearn.tree import DecisionTreeClassifier\n",
    "\n",
    "from sklearn.preprocessing import MinMaxScaler, StandardScaler\n",
    "\n",
    "from sklearn.ensemble import RandomForestRegressor\n",
    "\n",
    "from sklearn.neighbors import KNeighborsClassifier\n",
    "\n",
    "from scipy.stats import pearsonr\n",
    "\n",
    "\n",
    "from math import sqrt\n",
    "import matplotlib.pyplot as plt\n",
    "%matplotlib inline\n",
    "\n",
    "from xgboost import XGBRegressor\n",
    "from xgboost import XGBClassifier\n",
    "\n",
    "\n",
    "from keras.models import Sequential\n",
    "from keras.layers import Dense, Flatten, Dropout, Input, Conv1D, Activation, MaxPooling1D\n",
    "\n",
    "from sklearn.metrics import accuracy_score, confusion_matrix"
   ]
  },
  {
   "cell_type": "code",
   "execution_count": 2,
   "metadata": {},
   "outputs": [],
   "source": [
    "#Reading the CSV"
   ]
  },
  {
   "cell_type": "code",
   "execution_count": 3,
   "metadata": {},
   "outputs": [],
   "source": [
    "supernovae_df = pd.read_csv('./Documents/Supernovae.csv')"
   ]
  },
  {
   "cell_type": "code",
   "execution_count": 4,
   "metadata": {},
   "outputs": [],
   "source": [
    "supernovae_df.rename(columns={'Column1':'optical_depth','Column2':'optical_depth_unc','Column3':'max_exp_vel','Column4':'max_exp_vel_unc','Column5':'emergent_flux','Column6':'total_mass','Column7':'mass_ni_56','Column8':'explosion_energy','Column9':'init_mass_dist','Column10':'init_rad_dist'},inplace=True)"
   ]
  },
  {
   "cell_type": "code",
   "execution_count": 5,
   "metadata": {},
   "outputs": [
    {
     "data": {
      "text/html": [
       "<div>\n",
       "<style scoped>\n",
       "    .dataframe tbody tr th:only-of-type {\n",
       "        vertical-align: middle;\n",
       "    }\n",
       "\n",
       "    .dataframe tbody tr th {\n",
       "        vertical-align: top;\n",
       "    }\n",
       "\n",
       "    .dataframe thead th {\n",
       "        text-align: right;\n",
       "    }\n",
       "</style>\n",
       "<table border=\"1\" class=\"dataframe\">\n",
       "  <thead>\n",
       "    <tr style=\"text-align: right;\">\n",
       "      <th></th>\n",
       "      <th>optical_depth</th>\n",
       "      <th>optical_depth_unc</th>\n",
       "      <th>max_exp_vel</th>\n",
       "      <th>max_exp_vel_unc</th>\n",
       "      <th>emergent_flux</th>\n",
       "      <th>total_mass</th>\n",
       "      <th>mass_ni_56</th>\n",
       "      <th>explosion_energy</th>\n",
       "      <th>init_mass_dist</th>\n",
       "      <th>init_rad_dist</th>\n",
       "    </tr>\n",
       "  </thead>\n",
       "  <tbody>\n",
       "    <tr>\n",
       "      <th>0</th>\n",
       "      <td>1.940628</td>\n",
       "      <td>0.179354</td>\n",
       "      <td>0.013531</td>\n",
       "      <td>0.000670</td>\n",
       "      <td>0.000003</td>\n",
       "      <td>0.75</td>\n",
       "      <td>0.15</td>\n",
       "      <td>0.75</td>\n",
       "      <td>hed8</td>\n",
       "      <td>hed8</td>\n",
       "    </tr>\n",
       "    <tr>\n",
       "      <th>1</th>\n",
       "      <td>2.071999</td>\n",
       "      <td>0.210287</td>\n",
       "      <td>0.012423</td>\n",
       "      <td>0.000615</td>\n",
       "      <td>0.000003</td>\n",
       "      <td>0.75</td>\n",
       "      <td>0.15</td>\n",
       "      <td>0.75</td>\n",
       "      <td>hed8</td>\n",
       "      <td>mwd</td>\n",
       "    </tr>\n",
       "    <tr>\n",
       "      <th>2</th>\n",
       "      <td>2.007982</td>\n",
       "      <td>0.198804</td>\n",
       "      <td>0.012744</td>\n",
       "      <td>0.000685</td>\n",
       "      <td>0.000003</td>\n",
       "      <td>0.75</td>\n",
       "      <td>0.15</td>\n",
       "      <td>0.75</td>\n",
       "      <td>hed8</td>\n",
       "      <td>N100</td>\n",
       "    </tr>\n",
       "    <tr>\n",
       "      <th>3</th>\n",
       "      <td>1.661535</td>\n",
       "      <td>0.189436</td>\n",
       "      <td>0.009935</td>\n",
       "      <td>0.000349</td>\n",
       "      <td>0.000003</td>\n",
       "      <td>0.75</td>\n",
       "      <td>0.15</td>\n",
       "      <td>0.75</td>\n",
       "      <td>hed8</td>\n",
       "      <td>w7dt</td>\n",
       "    </tr>\n",
       "    <tr>\n",
       "      <th>4</th>\n",
       "      <td>1.907672</td>\n",
       "      <td>0.178607</td>\n",
       "      <td>0.013343</td>\n",
       "      <td>0.000745</td>\n",
       "      <td>0.000003</td>\n",
       "      <td>0.75</td>\n",
       "      <td>0.15</td>\n",
       "      <td>2.00</td>\n",
       "      <td>hed8</td>\n",
       "      <td>hed8</td>\n",
       "    </tr>\n",
       "    <tr>\n",
       "      <th>...</th>\n",
       "      <td>...</td>\n",
       "      <td>...</td>\n",
       "      <td>...</td>\n",
       "      <td>...</td>\n",
       "      <td>...</td>\n",
       "      <td>...</td>\n",
       "      <td>...</td>\n",
       "      <td>...</td>\n",
       "      <td>...</td>\n",
       "      <td>...</td>\n",
       "    </tr>\n",
       "    <tr>\n",
       "      <th>507</th>\n",
       "      <td>2.651333</td>\n",
       "      <td>0.177355</td>\n",
       "      <td>0.011914</td>\n",
       "      <td>0.000536</td>\n",
       "      <td>0.000014</td>\n",
       "      <td>2.00</td>\n",
       "      <td>0.75</td>\n",
       "      <td>0.75</td>\n",
       "      <td>w7dt</td>\n",
       "      <td>w7dt</td>\n",
       "    </tr>\n",
       "    <tr>\n",
       "      <th>508</th>\n",
       "      <td>2.664973</td>\n",
       "      <td>0.149239</td>\n",
       "      <td>0.010600</td>\n",
       "      <td>0.000432</td>\n",
       "      <td>0.000014</td>\n",
       "      <td>2.00</td>\n",
       "      <td>0.75</td>\n",
       "      <td>2.00</td>\n",
       "      <td>w7dt</td>\n",
       "      <td>hed8</td>\n",
       "    </tr>\n",
       "    <tr>\n",
       "      <th>509</th>\n",
       "      <td>3.401588</td>\n",
       "      <td>0.213209</td>\n",
       "      <td>0.011660</td>\n",
       "      <td>0.000410</td>\n",
       "      <td>0.000014</td>\n",
       "      <td>2.00</td>\n",
       "      <td>0.75</td>\n",
       "      <td>2.00</td>\n",
       "      <td>w7dt</td>\n",
       "      <td>mwd</td>\n",
       "    </tr>\n",
       "    <tr>\n",
       "      <th>510</th>\n",
       "      <td>3.091225</td>\n",
       "      <td>0.191139</td>\n",
       "      <td>0.011329</td>\n",
       "      <td>0.000494</td>\n",
       "      <td>0.000014</td>\n",
       "      <td>2.00</td>\n",
       "      <td>0.75</td>\n",
       "      <td>2.00</td>\n",
       "      <td>w7dt</td>\n",
       "      <td>N100</td>\n",
       "    </tr>\n",
       "    <tr>\n",
       "      <th>511</th>\n",
       "      <td>2.620692</td>\n",
       "      <td>0.177249</td>\n",
       "      <td>0.011843</td>\n",
       "      <td>0.000501</td>\n",
       "      <td>0.000014</td>\n",
       "      <td>2.00</td>\n",
       "      <td>0.75</td>\n",
       "      <td>2.00</td>\n",
       "      <td>w7dt</td>\n",
       "      <td>w7dt</td>\n",
       "    </tr>\n",
       "  </tbody>\n",
       "</table>\n",
       "<p>512 rows × 10 columns</p>\n",
       "</div>"
      ],
      "text/plain": [
       "     optical_depth  optical_depth_unc  max_exp_vel  max_exp_vel_unc  \\\n",
       "0         1.940628           0.179354     0.013531         0.000670   \n",
       "1         2.071999           0.210287     0.012423         0.000615   \n",
       "2         2.007982           0.198804     0.012744         0.000685   \n",
       "3         1.661535           0.189436     0.009935         0.000349   \n",
       "4         1.907672           0.178607     0.013343         0.000745   \n",
       "..             ...                ...          ...              ...   \n",
       "507       2.651333           0.177355     0.011914         0.000536   \n",
       "508       2.664973           0.149239     0.010600         0.000432   \n",
       "509       3.401588           0.213209     0.011660         0.000410   \n",
       "510       3.091225           0.191139     0.011329         0.000494   \n",
       "511       2.620692           0.177249     0.011843         0.000501   \n",
       "\n",
       "     emergent_flux  total_mass  mass_ni_56  explosion_energy init_mass_dist  \\\n",
       "0         0.000003        0.75        0.15              0.75           hed8   \n",
       "1         0.000003        0.75        0.15              0.75           hed8   \n",
       "2         0.000003        0.75        0.15              0.75           hed8   \n",
       "3         0.000003        0.75        0.15              0.75           hed8   \n",
       "4         0.000003        0.75        0.15              2.00           hed8   \n",
       "..             ...         ...         ...               ...            ...   \n",
       "507       0.000014        2.00        0.75              0.75           w7dt   \n",
       "508       0.000014        2.00        0.75              2.00           w7dt   \n",
       "509       0.000014        2.00        0.75              2.00           w7dt   \n",
       "510       0.000014        2.00        0.75              2.00           w7dt   \n",
       "511       0.000014        2.00        0.75              2.00           w7dt   \n",
       "\n",
       "    init_rad_dist  \n",
       "0            hed8  \n",
       "1             mwd  \n",
       "2            N100  \n",
       "3            w7dt  \n",
       "4            hed8  \n",
       "..            ...  \n",
       "507          w7dt  \n",
       "508          hed8  \n",
       "509           mwd  \n",
       "510          N100  \n",
       "511          w7dt  \n",
       "\n",
       "[512 rows x 10 columns]"
      ]
     },
     "execution_count": 5,
     "metadata": {},
     "output_type": "execute_result"
    }
   ],
   "source": [
    "supernovae_df"
   ]
  },
  {
   "cell_type": "code",
   "execution_count": 6,
   "metadata": {},
   "outputs": [
    {
     "data": {
      "text/plain": [
       "False"
      ]
     },
     "execution_count": 6,
     "metadata": {},
     "output_type": "execute_result"
    }
   ],
   "source": [
    "#Checking for NaN values\n",
    "\n",
    "supernovae_df.isnull().values.any()"
   ]
  },
  {
   "cell_type": "code",
   "execution_count": 7,
   "metadata": {},
   "outputs": [
    {
     "name": "stdout",
     "output_type": "stream",
     "text": [
      "<class 'numpy.float64'>\n",
      "<class 'numpy.float64'>\n",
      "<class 'numpy.float64'>\n",
      "<class 'numpy.float64'>\n",
      "<class 'numpy.float64'>\n",
      "<class 'numpy.float64'>\n",
      "<class 'numpy.float64'>\n",
      "<class 'numpy.float64'>\n",
      "<class 'str'>\n",
      "<class 'str'>\n"
     ]
    }
   ],
   "source": [
    "#Checking whether the datatype of each column is proper or not\n",
    "\n",
    "for i in range(10):\n",
    "    print(type(supernovae_df.iloc[0][i]))"
   ]
  },
  {
   "cell_type": "code",
   "execution_count": null,
   "metadata": {},
   "outputs": [],
   "source": []
  },
  {
   "cell_type": "markdown",
   "metadata": {},
   "source": [
    "# NOTES:\n",
    "\n",
    "1. Generally, 75%+ accuracy scores have been considered as acceptable accuracies.\n",
    "2. Only a few of the hyperparameter tunings have been presented in the notebook to keep it clean. The best possible tuned models have been displayed. \n",
    "3. All models were cross validated with train-test sets. \n",
    "4. The random states that were chosen for inclusion in this notebook are the ones that provided the best results achieved during fine-tuning the hyperparameters. "
   ]
  },
  {
   "cell_type": "markdown",
   "metadata": {},
   "source": [
    "# TASK 1 - relationship between observable parameters\n",
    "\n",
    "A scatterplot can be used to determine if any of the observable parameters are correlated, and to see any other trends/classes that can be discerned through the distribution of observable parameters"
   ]
  },
  {
   "cell_type": "code",
   "execution_count": 8,
   "metadata": {},
   "outputs": [
    {
     "data": {
      "text/plain": [
       "<AxesSubplot:xlabel='optical_depth', ylabel='max_exp_vel'>"
      ]
     },
     "execution_count": 8,
     "metadata": {},
     "output_type": "execute_result"
    },
    {
     "data": {
      "image/png": "[encoded data removed]",
      "text/plain": [
       "<Figure size 432x288 with 1 Axes>"
      ]
     },
     "metadata": {
      "needs_background": "light"
     },
     "output_type": "display_data"
    }
   ],
   "source": [
    "sns.regplot(x = \"optical_depth\", y=\"max_exp_vel\", data=supernovae_df, fit_reg = False, scatter_kws={\"alpha\": 0.2})"
   ]
  },
  {
   "cell_type": "code",
   "execution_count": 9,
   "metadata": {
    "scrolled": true
   },
   "outputs": [
    {
     "data": {
      "text/plain": [
       "<AxesSubplot:xlabel='optical_depth', ylabel='emergent_flux'>"
      ]
     },
     "execution_count": 9,
     "metadata": {},
     "output_type": "execute_result"
    },
    {
     "data": {
      "image/png": "[encoded data removed]",
      "text/plain": [
       "<Figure size 432x288 with 1 Axes>"
      ]
     },
     "metadata": {
      "needs_background": "light"
     },
     "output_type": "display_data"
    }
   ],
   "source": [
    "sns.regplot(x = \"optical_depth\", y=\"emergent_flux\", data=supernovae_df, fit_reg = False, scatter_kws={\"alpha\": 0.2})"
   ]
  },
  {
   "cell_type": "code",
   "execution_count": 10,
   "metadata": {},
   "outputs": [
    {
     "data": {
      "text/plain": [
       "<AxesSubplot:xlabel='emergent_flux', ylabel='max_exp_vel'>"
      ]
     },
     "execution_count": 10,
     "metadata": {},
     "output_type": "execute_result"
    },
    {
     "data": {
      "image/png": "[encoded data removed]",
      "text/plain": [
       "<Figure size 432x288 with 1 Axes>"
      ]
     },
     "metadata": {
      "needs_background": "light"
     },
     "output_type": "display_data"
    }
   ],
   "source": [
    "sns.regplot(x = \"emergent_flux\", y=\"max_exp_vel\", data=supernovae_df, fit_reg = False, scatter_kws={\"alpha\": 0.2})"
   ]
  },
  {
   "cell_type": "markdown",
   "metadata": {},
   "source": [
    "# Inference: \n",
    "\n",
    "There are 4 disctinct classes of emergent flux. There aren't any district classes of max_exp_vel or optical_depth, which aren't correlated with each other either. This can be confirmed by checking the Pearson correlation coefficient for all of these. "
   ]
  },
  {
   "cell_type": "code",
   "execution_count": 11,
   "metadata": {},
   "outputs": [
    {
     "name": "stdout",
     "output_type": "stream",
     "text": [
      "Pearsons correlation: 0.139\n"
     ]
    }
   ],
   "source": [
    " #Confirming the same using Pearson's correlation coefficient\n",
    "    \n",
    "data1= supernovae_df['optical_depth']\n",
    "data2= supernovae_df['max_exp_vel']\n",
    "\n",
    "corr, _ = pearsonr(data1, data2)\n",
    "print('Pearsons correlation: %.3f' % corr)"
   ]
  },
  {
   "cell_type": "code",
   "execution_count": 12,
   "metadata": {},
   "outputs": [
    {
     "name": "stdout",
     "output_type": "stream",
     "text": [
      "Pearsons correlation: -0.256\n"
     ]
    }
   ],
   "source": [
    "data1= supernovae_df['emergent_flux']\n",
    "data2= supernovae_df['max_exp_vel']\n",
    "\n",
    "corr, _ = pearsonr(data1, data2)\n",
    "print('Pearsons correlation: %.3f' % corr)"
   ]
  },
  {
   "cell_type": "code",
   "execution_count": 13,
   "metadata": {},
   "outputs": [
    {
     "name": "stdout",
     "output_type": "stream",
     "text": [
      "Pearsons correlation: 0.632\n"
     ]
    }
   ],
   "source": [
    "data1= supernovae_df['optical_depth']\n",
    "data2= supernovae_df['emergent_flux']\n",
    "\n",
    "corr, _ = pearsonr(data1, data2)\n",
    "print('Pearsons correlation: %.3f' % corr)"
   ]
  },
  {
   "cell_type": "markdown",
   "metadata": {},
   "source": [
    "             "
   ]
  },
  {
   "cell_type": "markdown",
   "metadata": {},
   "source": [
    "Based on the ranges exhibited by emergent flux, we can create a categorical variable 'class of flux', which may be useful further on in categorical classification."
   ]
  },
  {
   "cell_type": "code",
   "execution_count": 14,
   "metadata": {},
   "outputs": [
    {
     "data": {
      "text/plain": [
       "512"
      ]
     },
     "execution_count": 14,
     "metadata": {},
     "output_type": "execute_result"
    }
   ],
   "source": [
    "\n",
    "\n",
    "class_of_flux = []\n",
    "\n",
    "for i in range(len(supernovae_df)):\n",
    "    if supernovae_df.iloc[i]['emergent_flux']<0.000004:\n",
    "        class_of_flux.append(1)\n",
    "    if  supernovae_df.iloc[i]['emergent_flux']<0.000008 and supernovae_df.iloc[i]['emergent_flux']>0.000004:\n",
    "        class_of_flux.append(2)\n",
    "    if  supernovae_df.iloc[i]['emergent_flux'] <0.000013 and supernovae_df.iloc[i]['emergent_flux']>0.000010:\n",
    "        class_of_flux.append(3)\n",
    "    if supernovae_df.iloc[i]['emergent_flux'] >0.000013:\n",
    "        class_of_flux.append(4)\n",
    "    \n",
    "len(class_of_flux)"
   ]
  },
  {
   "cell_type": "code",
   "execution_count": 15,
   "metadata": {},
   "outputs": [],
   "source": [
    "#Adding this to the dataframe\n",
    "\n",
    "supernovae_df['class_of_flux'] = np.array(class_of_flux)"
   ]
  },
  {
   "cell_type": "code",
   "execution_count": null,
   "metadata": {},
   "outputs": [],
   "source": []
  },
  {
   "cell_type": "markdown",
   "metadata": {},
   "source": [
    "# Finding the uncertainities\n",
    "Since the test data provided doesn't contain the uncertainities, and the uncertainity values are different in each row, it would be good to find a way to approximate the uncertainities for all optical_depth and max_exp_vel. "
   ]
  },
  {
   "cell_type": "code",
   "execution_count": 16,
   "metadata": {},
   "outputs": [],
   "source": [
    "#Relating the uncertainities to the values"
   ]
  },
  {
   "cell_type": "code",
   "execution_count": 17,
   "metadata": {},
   "outputs": [
    {
     "data": {
      "text/plain": [
       "count    512.000000\n",
       "mean       0.198927\n",
       "std        0.021055\n",
       "min        0.133992\n",
       "25%        0.183659\n",
       "50%        0.198672\n",
       "75%        0.215768\n",
       "max        0.239162\n",
       "Name: optical_depth_unc, dtype: float64"
      ]
     },
     "execution_count": 17,
     "metadata": {},
     "output_type": "execute_result"
    }
   ],
   "source": [
    "#OPTICAL DEPTH UNC\n",
    "\n",
    "supernovae_df['optical_depth_unc'].describe()"
   ]
  },
  {
   "cell_type": "code",
   "execution_count": 18,
   "metadata": {},
   "outputs": [],
   "source": [
    "mean_od_unc =  0.198927"
   ]
  },
  {
   "cell_type": "code",
   "execution_count": 19,
   "metadata": {},
   "outputs": [],
   "source": [
    "#OD unc as a function of OD\n",
    "\n",
    "d1 = supernovae_df['optical_depth']\n",
    "d2 = supernovae_df['optical_depth_unc']\n",
    "\n",
    "d3 = d2/d1"
   ]
  },
  {
   "cell_type": "code",
   "execution_count": 20,
   "metadata": {},
   "outputs": [
    {
     "data": {
      "text/plain": [
       "count    512.000000\n",
       "mean       0.078545\n",
       "std        0.011796\n",
       "min        0.047808\n",
       "25%        0.069775\n",
       "50%        0.078088\n",
       "75%        0.086126\n",
       "max        0.114326\n",
       "dtype: float64"
      ]
     },
     "execution_count": 20,
     "metadata": {},
     "output_type": "execute_result"
    }
   ],
   "source": [
    "d3.describe()"
   ]
  },
  {
   "cell_type": "code",
   "execution_count": 21,
   "metadata": {},
   "outputs": [],
   "source": [
    "mean_od_unc_per = 0.078545"
   ]
  },
  {
   "cell_type": "code",
   "execution_count": 22,
   "metadata": {
    "scrolled": true
   },
   "outputs": [
    {
     "data": {
      "text/plain": [
       "count    512.000000\n",
       "mean       2.576275\n",
       "std        0.391005\n",
       "min        1.661535\n",
       "25%        2.321794\n",
       "50%        2.559251\n",
       "75%        2.812090\n",
       "max        3.621963\n",
       "Name: optical_depth, dtype: float64"
      ]
     },
     "execution_count": 22,
     "metadata": {},
     "output_type": "execute_result"
    }
   ],
   "source": [
    "supernovae_df['optical_depth'].describe()"
   ]
  },
  {
   "cell_type": "code",
   "execution_count": 23,
   "metadata": {},
   "outputs": [],
   "source": [
    "avg_od = 2.576275"
   ]
  },
  {
   "cell_type": "code",
   "execution_count": 24,
   "metadata": {},
   "outputs": [],
   "source": [
    "avg_unc = avg_od * mean_od_unc_per"
   ]
  },
  {
   "cell_type": "code",
   "execution_count": 25,
   "metadata": {
    "scrolled": true
   },
   "outputs": [
    {
     "data": {
      "text/plain": [
       "0.202353519875"
      ]
     },
     "execution_count": 25,
     "metadata": {},
     "output_type": "execute_result"
    }
   ],
   "source": [
    "#The average uncertainity by taking the avg percentage error and the average od\n",
    "avg_unc"
   ]
  },
  {
   "cell_type": "markdown",
   "metadata": {},
   "source": [
    "Since there isn't a huge different between the average uncertainity found using both methods, the percentage method seems preferable, so that the model doesn't get confused/overfit when all the features fed to it in the test data have the same uncertainity, as that would render the column useless. "
   ]
  },
  {
   "cell_type": "code",
   "execution_count": null,
   "metadata": {},
   "outputs": [],
   "source": []
  },
  {
   "cell_type": "code",
   "execution_count": 26,
   "metadata": {},
   "outputs": [],
   "source": [
    "#MAX EXP VEL\n",
    "\n",
    "d4 = supernovae_df['max_exp_vel']\n",
    "d5 = supernovae_df['max_exp_vel_unc']\n",
    "\n",
    "d6 = d5/d4"
   ]
  },
  {
   "cell_type": "code",
   "execution_count": 27,
   "metadata": {},
   "outputs": [
    {
     "data": {
      "text/plain": [
       "count    512.000000\n",
       "mean       0.039927\n",
       "std        0.005138\n",
       "min        0.026519\n",
       "25%        0.036309\n",
       "50%        0.039165\n",
       "75%        0.042926\n",
       "max        0.063529\n",
       "dtype: float64"
      ]
     },
     "execution_count": 27,
     "metadata": {},
     "output_type": "execute_result"
    }
   ],
   "source": [
    "d6.describe()"
   ]
  },
  {
   "cell_type": "code",
   "execution_count": 28,
   "metadata": {},
   "outputs": [],
   "source": [
    "mean_mev_unc_per = 0.039927"
   ]
  },
  {
   "cell_type": "markdown",
   "metadata": {},
   "source": [
    "PLEASE NOTE THAT HERE THE PERCENTAGES ARE LEFT AS RATIOS RATHER THAN MULTPLIYING THEM BY HUNDERED. Here, 0.0399 means 3.9%, not 0.0399%"
   ]
  },
  {
   "cell_type": "code",
   "execution_count": null,
   "metadata": {},
   "outputs": [],
   "source": []
  },
  {
   "cell_type": "code",
   "execution_count": null,
   "metadata": {},
   "outputs": [],
   "source": []
  },
  {
   "cell_type": "code",
   "execution_count": null,
   "metadata": {},
   "outputs": [],
   "source": []
  },
  {
   "cell_type": "code",
   "execution_count": null,
   "metadata": {},
   "outputs": [],
   "source": []
  },
  {
   "cell_type": "markdown",
   "metadata": {},
   "source": [
    "# TASK 2 - Analysis of physical parameters"
   ]
  },
  {
   "cell_type": "markdown",
   "metadata": {},
   "source": [
    "Initially, scatterplots can be plotted between all physical and observable parameters just to view any possible correlation and other trends that might point out existing classes"
   ]
  },
  {
   "cell_type": "markdown",
   "metadata": {},
   "source": [
    "## Ni-56 mass"
   ]
  },
  {
   "cell_type": "code",
   "execution_count": 29,
   "metadata": {},
   "outputs": [],
   "source": [
    "# Emergent flux vs ni-56 mass"
   ]
  },
  {
   "cell_type": "code",
   "execution_count": 30,
   "metadata": {},
   "outputs": [
    {
     "data": {
      "text/plain": [
       "<AxesSubplot:xlabel='emergent_flux', ylabel='mass_ni_56'>"
      ]
     },
     "execution_count": 30,
     "metadata": {},
     "output_type": "execute_result"
    },
    {
     "data": {
      "image/png": "[encoded data removed]",
      "text/plain": [
       "<Figure size 432x288 with 1 Axes>"
      ]
     },
     "metadata": {
      "needs_background": "light"
     },
     "output_type": "display_data"
    }
   ],
   "source": [
    "sns.regplot(x = \"emergent_flux\", y=\"mass_ni_56\", data=supernovae_df, fit_reg = False, scatter_kws={\"alpha\": 0.2})"
   ]
  },
  {
   "cell_type": "markdown",
   "metadata": {},
   "source": [
    "We can see that there are some clear cut ranges for emergent flux and mass_ni_56, proving that both are highly correlated. "
   ]
  },
  {
   "cell_type": "code",
   "execution_count": 31,
   "metadata": {},
   "outputs": [],
   "source": [
    "#Pearson's correlation coefficient for mass_ni_56 and emergent flux"
   ]
  },
  {
   "cell_type": "code",
   "execution_count": 32,
   "metadata": {},
   "outputs": [
    {
     "name": "stdout",
     "output_type": "stream",
     "text": [
      "Pearsons correlation: 0.999\n"
     ]
    }
   ],
   "source": [
    "data1= supernovae_df['emergent_flux']\n",
    "data2= supernovae_df['mass_ni_56']\n",
    "\n",
    "corr, _ = pearsonr(data1, data2)\n",
    "print('Pearsons correlation: %.3f' % corr)"
   ]
  },
  {
   "cell_type": "markdown",
   "metadata": {},
   "source": [
    "From Pearson's correlation coefficient we can see that they are highly correlated. "
   ]
  },
  {
   "cell_type": "code",
   "execution_count": 33,
   "metadata": {},
   "outputs": [
    {
     "data": {
      "text/plain": [
       "array([0.15, 0.3 , 0.6 , 0.75])"
      ]
     },
     "execution_count": 33,
     "metadata": {},
     "output_type": "execute_result"
    }
   ],
   "source": [
    "supernovae_df.mass_ni_56.unique()"
   ]
  },
  {
   "cell_type": "markdown",
   "metadata": {},
   "source": [
    "We see here that there are only 4 values of mass_ni_56, proving that we can group them into classes"
   ]
  },
  {
   "cell_type": "code",
   "execution_count": 34,
   "metadata": {},
   "outputs": [],
   "source": [
    "class_of_ni = []\n",
    "#So there are 4 classes of mass of nickel: <0.2, 0.2-0.4, 0.5-0.6. >0.7\n",
    "for i in range(len(supernovae_df)):\n",
    "    if supernovae_df.iloc[i]['mass_ni_56']<=0.2:\n",
    "        class_of_ni.append(1)\n",
    "    if supernovae_df.iloc[i]['mass_ni_56']>0.2 and supernovae_df.iloc[i]['mass_ni_56']<=0.4:\n",
    "        class_of_ni.append(2)\n",
    "    if supernovae_df.iloc[i]['mass_ni_56']>0.5 and supernovae_df.iloc[i]['mass_ni_56']<=0.6:\n",
    "        class_of_ni.append(3)\n",
    "    if supernovae_df.iloc[i]['mass_ni_56']>0.7:\n",
    "        class_of_ni.append(4)"
   ]
  },
  {
   "cell_type": "code",
   "execution_count": 35,
   "metadata": {},
   "outputs": [],
   "source": [
    "supernovae_df['class_of_ni']=np.array(class_of_ni)"
   ]
  },
  {
   "cell_type": "code",
   "execution_count": null,
   "metadata": {},
   "outputs": [],
   "source": []
  },
  {
   "cell_type": "code",
   "execution_count": null,
   "metadata": {},
   "outputs": [],
   "source": []
  },
  {
   "cell_type": "code",
   "execution_count": 36,
   "metadata": {},
   "outputs": [],
   "source": [
    "#Optical depth vs ni-56 mass"
   ]
  },
  {
   "cell_type": "code",
   "execution_count": 37,
   "metadata": {},
   "outputs": [
    {
     "data": {
      "text/plain": [
       "<AxesSubplot:xlabel='optical_depth', ylabel='mass_ni_56'>"
      ]
     },
     "execution_count": 37,
     "metadata": {},
     "output_type": "execute_result"
    },
    {
     "data": {
      "image/png": "[encoded data removed]",
      "text/plain": [
       "<Figure size 432x288 with 1 Axes>"
      ]
     },
     "metadata": {
      "needs_background": "light"
     },
     "output_type": "display_data"
    }
   ],
   "source": [
    "sns.regplot(x = \"optical_depth\", y=\"mass_ni_56\", data=supernovae_df, fit_reg = False, scatter_kws={\"alpha\": 0.2})"
   ]
  },
  {
   "cell_type": "code",
   "execution_count": 38,
   "metadata": {},
   "outputs": [
    {
     "name": "stdout",
     "output_type": "stream",
     "text": [
      "Pearsons correlation: 0.627\n"
     ]
    }
   ],
   "source": [
    "data1= supernovae_df['optical_depth']\n",
    "data2= supernovae_df['mass_ni_56']\n",
    "\n",
    "corr, _ = pearsonr(data1, data2)\n",
    "print('Pearsons correlation: %.3f' % corr)"
   ]
  },
  {
   "cell_type": "markdown",
   "metadata": {},
   "source": [
    "There aren't any clear cut ranges for optical depth that can clearly be used to pinpoint the mass class, but they are significantly correlated"
   ]
  },
  {
   "cell_type": "code",
   "execution_count": null,
   "metadata": {},
   "outputs": [],
   "source": []
  },
  {
   "cell_type": "code",
   "execution_count": 39,
   "metadata": {},
   "outputs": [],
   "source": [
    "# Max-exp-vel vs ni-56 mass"
   ]
  },
  {
   "cell_type": "code",
   "execution_count": 40,
   "metadata": {},
   "outputs": [
    {
     "data": {
      "text/plain": [
       "<AxesSubplot:xlabel='max_exp_vel', ylabel='mass_ni_56'>"
      ]
     },
     "execution_count": 40,
     "metadata": {},
     "output_type": "execute_result"
    },
    {
     "data": {
      "image/png": "[encoded data removed]",
      "text/plain": [
       "<Figure size 432x288 with 1 Axes>"
      ]
     },
     "metadata": {
      "needs_background": "light"
     },
     "output_type": "display_data"
    }
   ],
   "source": [
    "sns.regplot(x = \"max_exp_vel\", y=\"mass_ni_56\", data=supernovae_df, fit_reg = False, scatter_kws={\"alpha\": 0.2})"
   ]
  },
  {
   "cell_type": "code",
   "execution_count": 41,
   "metadata": {},
   "outputs": [
    {
     "name": "stdout",
     "output_type": "stream",
     "text": [
      "Pearsons correlation: -0.261\n"
     ]
    }
   ],
   "source": [
    "data1= supernovae_df['max_exp_vel']\n",
    "data2= supernovae_df['mass_ni_56']\n",
    "\n",
    "corr, _ = pearsonr(data1, data2)\n",
    "print('Pearsons correlation: %.3f' % corr)"
   ]
  },
  {
   "cell_type": "code",
   "execution_count": null,
   "metadata": {},
   "outputs": [],
   "source": []
  },
  {
   "cell_type": "code",
   "execution_count": null,
   "metadata": {},
   "outputs": [],
   "source": []
  },
  {
   "cell_type": "markdown",
   "metadata": {},
   "source": [
    "## Total mass"
   ]
  },
  {
   "cell_type": "code",
   "execution_count": 42,
   "metadata": {},
   "outputs": [],
   "source": [
    "# Emergent flux v/s total mass"
   ]
  },
  {
   "cell_type": "code",
   "execution_count": 43,
   "metadata": {},
   "outputs": [
    {
     "data": {
      "text/plain": [
       "<AxesSubplot:xlabel='emergent_flux', ylabel='total_mass'>"
      ]
     },
     "execution_count": 43,
     "metadata": {},
     "output_type": "execute_result"
    },
    {
     "data": {
      "image/png": "[encoded data removed]",
      "text/plain": [
       "<Figure size 432x288 with 1 Axes>"
      ]
     },
     "metadata": {
      "needs_background": "light"
     },
     "output_type": "display_data"
    }
   ],
   "source": [
    "sns.regplot(x = \"emergent_flux\", y=\"total_mass\", data=supernovae_df, fit_reg = False, scatter_kws={\"alpha\": 0.2})"
   ]
  },
  {
   "cell_type": "code",
   "execution_count": 44,
   "metadata": {},
   "outputs": [
    {
     "name": "stdout",
     "output_type": "stream",
     "text": [
      "Pearsons correlation: 0.357\n"
     ]
    }
   ],
   "source": [
    "data1= supernovae_df['emergent_flux']\n",
    "data2= supernovae_df['total_mass']\n",
    "\n",
    "corr, _ = pearsonr(data1, data2)\n",
    "print('Pearsons correlation: %.3f' % corr)"
   ]
  },
  {
   "cell_type": "code",
   "execution_count": 45,
   "metadata": {},
   "outputs": [],
   "source": [
    "# Optical depth v/s total mass"
   ]
  },
  {
   "cell_type": "code",
   "execution_count": 46,
   "metadata": {},
   "outputs": [
    {
     "data": {
      "text/plain": [
       "<AxesSubplot:xlabel='optical_depth', ylabel='total_mass'>"
      ]
     },
     "execution_count": 46,
     "metadata": {},
     "output_type": "execute_result"
    },
    {
     "data": {
      "image/png": "[encoded data removed]",
      "text/plain": [
       "<Figure size 432x288 with 1 Axes>"
      ]
     },
     "metadata": {
      "needs_background": "light"
     },
     "output_type": "display_data"
    }
   ],
   "source": [
    "sns.regplot(x = \"optical_depth\", y=\"total_mass\", data=supernovae_df, fit_reg = False, scatter_kws={\"alpha\": 0.2})"
   ]
  },
  {
   "cell_type": "code",
   "execution_count": 47,
   "metadata": {},
   "outputs": [
    {
     "name": "stdout",
     "output_type": "stream",
     "text": [
      "Pearsons correlation: 0.663\n"
     ]
    }
   ],
   "source": [
    "data1= supernovae_df['optical_depth']\n",
    "data2= supernovae_df['total_mass']\n",
    "\n",
    "corr, _ = pearsonr(data1, data2)\n",
    "print('Pearsons correlation: %.3f' % corr)"
   ]
  },
  {
   "cell_type": "code",
   "execution_count": 48,
   "metadata": {},
   "outputs": [],
   "source": [
    "#Max exp vel vs total mass"
   ]
  },
  {
   "cell_type": "code",
   "execution_count": 49,
   "metadata": {},
   "outputs": [
    {
     "data": {
      "text/plain": [
       "<AxesSubplot:xlabel='max_exp_vel', ylabel='total_mass'>"
      ]
     },
     "execution_count": 49,
     "metadata": {},
     "output_type": "execute_result"
    },
    {
     "data": {
      "image/png": "[encoded data removed]",
      "text/plain": [
       "<Figure size 432x288 with 1 Axes>"
      ]
     },
     "metadata": {
      "needs_background": "light"
     },
     "output_type": "display_data"
    }
   ],
   "source": [
    "sns.regplot(x = \"max_exp_vel\", y=\"total_mass\", data=supernovae_df, fit_reg = False, scatter_kws={\"alpha\": 0.2})"
   ]
  },
  {
   "cell_type": "code",
   "execution_count": 50,
   "metadata": {
    "scrolled": true
   },
   "outputs": [
    {
     "name": "stdout",
     "output_type": "stream",
     "text": [
      "Pearsons correlation: 0.102\n"
     ]
    }
   ],
   "source": [
    "data1= supernovae_df['max_exp_vel']\n",
    "data2= supernovae_df['total_mass']\n",
    "\n",
    "corr, _ = pearsonr(data1, data2)\n",
    "print('Pearsons correlation: %.3f' % corr)"
   ]
  },
  {
   "cell_type": "code",
   "execution_count": null,
   "metadata": {},
   "outputs": [],
   "source": []
  },
  {
   "cell_type": "code",
   "execution_count": 51,
   "metadata": {},
   "outputs": [
    {
     "data": {
      "text/plain": [
       "array([0.75, 1.  , 1.4 , 1.8 , 2.  ])"
      ]
     },
     "execution_count": 51,
     "metadata": {},
     "output_type": "execute_result"
    }
   ],
   "source": [
    "supernovae_df['total_mass'].unique()"
   ]
  },
  {
   "cell_type": "markdown",
   "metadata": {},
   "source": [
    "There are 5 classes of total mass so we can similarly create a categorical variable describing the mass class, as there are only 5 unique mass values. "
   ]
  },
  {
   "cell_type": "code",
   "execution_count": 52,
   "metadata": {},
   "outputs": [],
   "source": [
    "class_of_total = []\n",
    "#5 classes of total_mass: <0.8, 0.8-1.2, 1.2-1.6, 1.6-1.9, >1.9\n",
    "for i in range(len(supernovae_df)):\n",
    "    if supernovae_df.iloc[i]['total_mass']<=0.8:\n",
    "        class_of_total.append(1)\n",
    "    if supernovae_df.iloc[i]['total_mass']>0.8 and supernovae_df.iloc[i]['total_mass']<=1.2:\n",
    "        class_of_total.append(2)\n",
    "    if supernovae_df.iloc[i]['total_mass']>1.2 and supernovae_df.iloc[i]['total_mass']<=1.6:\n",
    "        class_of_total.append(3)\n",
    "    if supernovae_df.iloc[i]['total_mass']>1.6 and supernovae_df.iloc[i]['total_mass']<=1.9:\n",
    "        class_of_total.append(4)\n",
    "    if supernovae_df.iloc[i]['total_mass']>1.9:\n",
    "        class_of_total.append(5)"
   ]
  },
  {
   "cell_type": "code",
   "execution_count": 53,
   "metadata": {},
   "outputs": [],
   "source": [
    "supernovae_df['class_of_total_mass']=np.array(class_of_total)"
   ]
  },
  {
   "cell_type": "code",
   "execution_count": null,
   "metadata": {},
   "outputs": [],
   "source": []
  },
  {
   "cell_type": "code",
   "execution_count": null,
   "metadata": {},
   "outputs": [],
   "source": []
  },
  {
   "cell_type": "markdown",
   "metadata": {},
   "source": [
    "## Explosion energy"
   ]
  },
  {
   "cell_type": "code",
   "execution_count": 54,
   "metadata": {},
   "outputs": [],
   "source": [
    "#Emergent flux v/s explosion energy"
   ]
  },
  {
   "cell_type": "code",
   "execution_count": 55,
   "metadata": {},
   "outputs": [
    {
     "data": {
      "text/plain": [
       "<AxesSubplot:xlabel='emergent_flux', ylabel='explosion_energy'>"
      ]
     },
     "execution_count": 55,
     "metadata": {},
     "output_type": "execute_result"
    },
    {
     "data": {
      "image/png": "[encoded data removed]",
      "text/plain": [
       "<Figure size 432x288 with 1 Axes>"
      ]
     },
     "metadata": {
      "needs_background": "light"
     },
     "output_type": "display_data"
    }
   ],
   "source": [
    "sns.regplot(x = \"emergent_flux\", y=\"explosion_energy\", data=supernovae_df, fit_reg = False, scatter_kws={\"alpha\": 0.2})"
   ]
  },
  {
   "cell_type": "code",
   "execution_count": 56,
   "metadata": {},
   "outputs": [
    {
     "name": "stdout",
     "output_type": "stream",
     "text": [
      "Pearsons correlation: 0.001\n"
     ]
    }
   ],
   "source": [
    "data1= supernovae_df['emergent_flux']\n",
    "data2= supernovae_df['explosion_energy']\n",
    "\n",
    "corr, _ = pearsonr(data1, data2)\n",
    "print('Pearsons correlation: %.3f' % corr)"
   ]
  },
  {
   "cell_type": "code",
   "execution_count": null,
   "metadata": {},
   "outputs": [],
   "source": []
  },
  {
   "cell_type": "code",
   "execution_count": 57,
   "metadata": {},
   "outputs": [],
   "source": [
    "#Optical depth v/s explosion energy"
   ]
  },
  {
   "cell_type": "code",
   "execution_count": 58,
   "metadata": {},
   "outputs": [
    {
     "data": {
      "text/plain": [
       "<AxesSubplot:xlabel='optical_depth', ylabel='explosion_energy'>"
      ]
     },
     "execution_count": 58,
     "metadata": {},
     "output_type": "execute_result"
    },
    {
     "data": {
      "image/png": "[encoded data removed]",
      "text/plain": [
       "<Figure size 432x288 with 1 Axes>"
      ]
     },
     "metadata": {
      "needs_background": "light"
     },
     "output_type": "display_data"
    }
   ],
   "source": [
    "sns.regplot(x = \"optical_depth\", y=\"explosion_energy\", data=supernovae_df, fit_reg = False, scatter_kws={\"alpha\": 0.2})"
   ]
  },
  {
   "cell_type": "code",
   "execution_count": 59,
   "metadata": {},
   "outputs": [
    {
     "name": "stdout",
     "output_type": "stream",
     "text": [
      "Pearsons correlation: -0.033\n"
     ]
    }
   ],
   "source": [
    "data1= supernovae_df['optical_depth']\n",
    "data2= supernovae_df['explosion_energy']\n",
    "\n",
    "corr, _ = pearsonr(data1, data2)\n",
    "print('Pearsons correlation: %.3f' % corr)"
   ]
  },
  {
   "cell_type": "code",
   "execution_count": null,
   "metadata": {},
   "outputs": [],
   "source": []
  },
  {
   "cell_type": "code",
   "execution_count": 60,
   "metadata": {},
   "outputs": [],
   "source": [
    "#Max exp vel v/s explosion energy"
   ]
  },
  {
   "cell_type": "code",
   "execution_count": 61,
   "metadata": {},
   "outputs": [
    {
     "data": {
      "text/plain": [
       "<AxesSubplot:xlabel='max_exp_vel', ylabel='explosion_energy'>"
      ]
     },
     "execution_count": 61,
     "metadata": {},
     "output_type": "execute_result"
    },
    {
     "data": {
      "image/png": "[encoded data removed]",
      "text/plain": [
       "<Figure size 432x288 with 1 Axes>"
      ]
     },
     "metadata": {
      "needs_background": "light"
     },
     "output_type": "display_data"
    }
   ],
   "source": [
    "sns.regplot(x = \"max_exp_vel\", y=\"explosion_energy\", data=supernovae_df, fit_reg = False, scatter_kws={\"alpha\": 0.2})"
   ]
  },
  {
   "cell_type": "code",
   "execution_count": 62,
   "metadata": {},
   "outputs": [
    {
     "name": "stdout",
     "output_type": "stream",
     "text": [
      "Pearsons correlation: -0.033\n"
     ]
    }
   ],
   "source": [
    "data1= supernovae_df['optical_depth']\n",
    "data2= supernovae_df['explosion_energy']\n",
    "\n",
    "corr, _ = pearsonr(data1, data2)\n",
    "print('Pearsons correlation: %.3f' % corr)"
   ]
  },
  {
   "cell_type": "code",
   "execution_count": null,
   "metadata": {},
   "outputs": [],
   "source": []
  },
  {
   "cell_type": "code",
   "execution_count": null,
   "metadata": {},
   "outputs": [],
   "source": []
  },
  {
   "cell_type": "markdown",
   "metadata": {},
   "source": [
    "## Inital Mass distribution graphs"
   ]
  },
  {
   "cell_type": "code",
   "execution_count": 63,
   "metadata": {},
   "outputs": [
    {
     "data": {
      "text/plain": [
       "<AxesSubplot:xlabel='emergent_flux', ylabel='init_mass_dist'>"
      ]
     },
     "execution_count": 63,
     "metadata": {},
     "output_type": "execute_result"
    },
    {
     "data": {
      "image/png": "[encoded data removed]",
      "text/plain": [
       "<Figure size 432x288 with 1 Axes>"
      ]
     },
     "metadata": {
      "needs_background": "light"
     },
     "output_type": "display_data"
    }
   ],
   "source": [
    "sns.regplot(x = \"emergent_flux\", y=\"init_mass_dist\", data=supernovae_df, fit_reg = False, scatter_kws={\"alpha\": 0.2})"
   ]
  },
  {
   "cell_type": "code",
   "execution_count": 64,
   "metadata": {},
   "outputs": [
    {
     "data": {
      "text/plain": [
       "<AxesSubplot:xlabel='max_exp_vel', ylabel='init_mass_dist'>"
      ]
     },
     "execution_count": 64,
     "metadata": {},
     "output_type": "execute_result"
    },
    {
     "data": {
      "image/png": "[encoded data removed]",
      "text/plain": [
       "<Figure size 432x288 with 1 Axes>"
      ]
     },
     "metadata": {
      "needs_background": "light"
     },
     "output_type": "display_data"
    }
   ],
   "source": [
    "sns.regplot(x = \"max_exp_vel\", y=\"init_mass_dist\", data=supernovae_df, fit_reg = False, scatter_kws={\"alpha\": 0.2})"
   ]
  },
  {
   "cell_type": "code",
   "execution_count": 65,
   "metadata": {},
   "outputs": [
    {
     "data": {
      "text/plain": [
       "<AxesSubplot:xlabel='optical_depth', ylabel='init_mass_dist'>"
      ]
     },
     "execution_count": 65,
     "metadata": {},
     "output_type": "execute_result"
    },
    {
     "data": {
      "image/png": "[encoded data removed]",
      "text/plain": [
       "<Figure size 432x288 with 1 Axes>"
      ]
     },
     "metadata": {
      "needs_background": "light"
     },
     "output_type": "display_data"
    }
   ],
   "source": [
    "sns.regplot(x = \"optical_depth\", y=\"init_mass_dist\", data=supernovae_df, fit_reg = False, scatter_kws={\"alpha\": 0.2})"
   ]
  },
  {
   "cell_type": "code",
   "execution_count": 66,
   "metadata": {},
   "outputs": [
    {
     "data": {
      "text/plain": [
       "<AxesSubplot:xlabel='class_of_flux', ylabel='init_mass_dist'>"
      ]
     },
     "execution_count": 66,
     "metadata": {},
     "output_type": "execute_result"
    },
    {
     "data": {
      "image/png": "[encoded data removed]",
      "text/plain": [
       "<Figure size 432x288 with 1 Axes>"
      ]
     },
     "metadata": {
      "needs_background": "light"
     },
     "output_type": "display_data"
    }
   ],
   "source": [
    "sns.regplot(x = \"class_of_flux\", y=\"init_mass_dist\", data=supernovae_df, fit_reg = False, scatter_kws={\"alpha\": 0.2})"
   ]
  },
  {
   "cell_type": "markdown",
   "metadata": {},
   "source": [
    "We can see that there are no clear-cut highly correlated relations, as all distributions of initial mass are found across classes of all other visible parameters"
   ]
  },
  {
   "cell_type": "code",
   "execution_count": null,
   "metadata": {},
   "outputs": [],
   "source": []
  },
  {
   "cell_type": "code",
   "execution_count": null,
   "metadata": {},
   "outputs": [],
   "source": []
  },
  {
   "cell_type": "code",
   "execution_count": null,
   "metadata": {},
   "outputs": [],
   "source": []
  },
  {
   "cell_type": "markdown",
   "metadata": {},
   "source": [
    "## Initial rad distribution graphs"
   ]
  },
  {
   "cell_type": "code",
   "execution_count": 67,
   "metadata": {},
   "outputs": [
    {
     "data": {
      "text/plain": [
       "<AxesSubplot:xlabel='emergent_flux', ylabel='init_rad_dist'>"
      ]
     },
     "execution_count": 67,
     "metadata": {},
     "output_type": "execute_result"
    },
    {
     "data": {
      "image/png": "[encoded data removed]",
      "text/plain": [
       "<Figure size 432x288 with 1 Axes>"
      ]
     },
     "metadata": {
      "needs_background": "light"
     },
     "output_type": "display_data"
    }
   ],
   "source": [
    "sns.regplot(x = \"emergent_flux\", y=\"init_rad_dist\", data=supernovae_df, fit_reg = False, scatter_kws={\"alpha\": 0.2})"
   ]
  },
  {
   "cell_type": "code",
   "execution_count": 68,
   "metadata": {},
   "outputs": [
    {
     "data": {
      "text/plain": [
       "<AxesSubplot:xlabel='optical_depth', ylabel='init_rad_dist'>"
      ]
     },
     "execution_count": 68,
     "metadata": {},
     "output_type": "execute_result"
    },
    {
     "data": {
      "image/png": "[encoded data removed]",
      "text/plain": [
       "<Figure size 432x288 with 1 Axes>"
      ]
     },
     "metadata": {
      "needs_background": "light"
     },
     "output_type": "display_data"
    }
   ],
   "source": [
    "sns.regplot(x = \"optical_depth\", y=\"init_rad_dist\", data=supernovae_df, fit_reg = False, scatter_kws={\"alpha\": 0.2})"
   ]
  },
  {
   "cell_type": "code",
   "execution_count": 69,
   "metadata": {},
   "outputs": [
    {
     "data": {
      "text/plain": [
       "<AxesSubplot:xlabel='max_exp_vel', ylabel='init_rad_dist'>"
      ]
     },
     "execution_count": 69,
     "metadata": {},
     "output_type": "execute_result"
    },
    {
     "data": {
      "image/png": "[encoded data removed]",
      "text/plain": [
       "<Figure size 432x288 with 1 Axes>"
      ]
     },
     "metadata": {
      "needs_background": "light"
     },
     "output_type": "display_data"
    }
   ],
   "source": [
    "sns.regplot(x = \"max_exp_vel\", y=\"init_rad_dist\", data=supernovae_df, fit_reg = False, scatter_kws={\"alpha\": 0.2})"
   ]
  },
  {
   "cell_type": "code",
   "execution_count": 70,
   "metadata": {},
   "outputs": [
    {
     "data": {
      "text/plain": [
       "<AxesSubplot:xlabel='class_of_flux', ylabel='init_rad_dist'>"
      ]
     },
     "execution_count": 70,
     "metadata": {},
     "output_type": "execute_result"
    },
    {
     "data": {
      "image/png": "[encoded data removed]",
      "text/plain": [
       "<Figure size 432x288 with 1 Axes>"
      ]
     },
     "metadata": {
      "needs_background": "light"
     },
     "output_type": "display_data"
    }
   ],
   "source": [
    "sns.regplot(x = \"class_of_flux\", y=\"init_rad_dist\", data=supernovae_df, fit_reg = False, scatter_kws={\"alpha\": 0.2})"
   ]
  },
  {
   "cell_type": "markdown",
   "metadata": {},
   "source": [
    "Similar to initial mass distribution, there are no clear-cut relations here"
   ]
  },
  {
   "cell_type": "code",
   "execution_count": 71,
   "metadata": {},
   "outputs": [
    {
     "data": {
      "text/plain": [
       "optical_depth              1.94063\n",
       "optical_depth_unc         0.179354\n",
       "max_exp_vel              0.0135306\n",
       "max_exp_vel_unc        0.000669683\n",
       "emergent_flux          2.72379e-06\n",
       "total_mass                    0.75\n",
       "mass_ni_56                    0.15\n",
       "explosion_energy              0.75\n",
       "init_mass_dist                hed8\n",
       "init_rad_dist                 hed8\n",
       "class_of_flux                    1\n",
       "class_of_ni                      1\n",
       "class_of_total_mass              1\n",
       "Name: 0, dtype: object"
      ]
     },
     "execution_count": 71,
     "metadata": {},
     "output_type": "execute_result"
    }
   ],
   "source": [
    "supernovae_df.iloc[0]"
   ]
  },
  {
   "cell_type": "code",
   "execution_count": null,
   "metadata": {},
   "outputs": [],
   "source": []
  },
  {
   "cell_type": "code",
   "execution_count": null,
   "metadata": {},
   "outputs": [],
   "source": []
  },
  {
   "cell_type": "code",
   "execution_count": null,
   "metadata": {},
   "outputs": [],
   "source": []
  },
  {
   "cell_type": "markdown",
   "metadata": {},
   "source": [
    "## Plotting the physical parameters against each other"
   ]
  },
  {
   "cell_type": "code",
   "execution_count": 72,
   "metadata": {},
   "outputs": [
    {
     "data": {
      "text/plain": [
       "<AxesSubplot:xlabel='total_mass', ylabel='mass_ni_56'>"
      ]
     },
     "execution_count": 72,
     "metadata": {},
     "output_type": "execute_result"
    },
    {
     "data": {
      "image/png": "[encoded data removed]",
      "text/plain": [
       "<Figure size 432x288 with 1 Axes>"
      ]
     },
     "metadata": {
      "needs_background": "light"
     },
     "output_type": "display_data"
    }
   ],
   "source": [
    "sns.regplot(x = \"total_mass\", y=\"mass_ni_56\", data=supernovae_df, fit_reg = False, scatter_kws={\"alpha\": 0.2})"
   ]
  },
  {
   "cell_type": "code",
   "execution_count": 73,
   "metadata": {},
   "outputs": [
    {
     "data": {
      "text/plain": [
       "<AxesSubplot:xlabel='total_mass', ylabel='explosion_energy'>"
      ]
     },
     "execution_count": 73,
     "metadata": {},
     "output_type": "execute_result"
    },
    {
     "data": {
      "image/png": "[encoded data removed]",
      "text/plain": [
       "<Figure size 432x288 with 1 Axes>"
      ]
     },
     "metadata": {
      "needs_background": "light"
     },
     "output_type": "display_data"
    }
   ],
   "source": [
    "sns.regplot(x = \"total_mass\", y=\"explosion_energy\", data=supernovae_df, fit_reg = False, scatter_kws={\"alpha\": 0.2})"
   ]
  },
  {
   "cell_type": "code",
   "execution_count": 74,
   "metadata": {},
   "outputs": [
    {
     "data": {
      "text/plain": [
       "<AxesSubplot:xlabel='mass_ni_56', ylabel='explosion_energy'>"
      ]
     },
     "execution_count": 74,
     "metadata": {},
     "output_type": "execute_result"
    },
    {
     "data": {
      "image/png": "[encoded data removed]",
      "text/plain": [
       "<Figure size 432x288 with 1 Axes>"
      ]
     },
     "metadata": {
      "needs_background": "light"
     },
     "output_type": "display_data"
    }
   ],
   "source": [
    "sns.regplot(x = \"mass_ni_56\", y=\"explosion_energy\", data=supernovae_df, fit_reg = False, scatter_kws={\"alpha\": 0.2})"
   ]
  },
  {
   "cell_type": "markdown",
   "metadata": {},
   "source": [
    "We see here that explosion energy has 2 classes, which do not have unique values, but ranges. We can either directly predict explosion energy or predict explosion classes and take the average value. "
   ]
  },
  {
   "cell_type": "code",
   "execution_count": 75,
   "metadata": {},
   "outputs": [],
   "source": [
    "class_of_explosion=[]\n",
    "#2 classes of explosion energy - <0.8, >1.9\n",
    "\n",
    "for i in range(len(supernovae_df)):\n",
    "    if supernovae_df.iloc[i]['explosion_energy']<=0.8:\n",
    "        class_of_explosion.append(1)\n",
    "    if supernovae_df.iloc[i]['explosion_energy']>=1.9:\n",
    "        class_of_explosion.append(2)"
   ]
  },
  {
   "cell_type": "code",
   "execution_count": 76,
   "metadata": {},
   "outputs": [],
   "source": [
    "supernovae_df['class_of_explosion'] = np.array(class_of_explosion)"
   ]
  },
  {
   "cell_type": "code",
   "execution_count": null,
   "metadata": {},
   "outputs": [],
   "source": []
  },
  {
   "cell_type": "code",
   "execution_count": null,
   "metadata": {},
   "outputs": [],
   "source": []
  },
  {
   "cell_type": "code",
   "execution_count": 77,
   "metadata": {},
   "outputs": [],
   "source": [
    "#PLOTTING THE newly created categorical class variables to find the relations"
   ]
  },
  {
   "cell_type": "code",
   "execution_count": 78,
   "metadata": {},
   "outputs": [
    {
     "data": {
      "text/plain": [
       "<AxesSubplot:xlabel='class_of_explosion', ylabel='class_of_total_mass'>"
      ]
     },
     "execution_count": 78,
     "metadata": {},
     "output_type": "execute_result"
    },
    {
     "data": {
      "image/png": "[encoded data removed]",
      "text/plain": [
       "<Figure size 432x288 with 1 Axes>"
      ]
     },
     "metadata": {
      "needs_background": "light"
     },
     "output_type": "display_data"
    }
   ],
   "source": [
    "sns.regplot(x = \"class_of_explosion\", y=\"class_of_total_mass\", data=supernovae_df, fit_reg = False, scatter_kws={\"alpha\": 0.2})"
   ]
  },
  {
   "cell_type": "code",
   "execution_count": 79,
   "metadata": {},
   "outputs": [
    {
     "data": {
      "text/plain": [
       "<AxesSubplot:xlabel='class_of_ni', ylabel='class_of_total_mass'>"
      ]
     },
     "execution_count": 79,
     "metadata": {},
     "output_type": "execute_result"
    },
    {
     "data": {
      "image/png": "[encoded data removed]",
      "text/plain": [
       "<Figure size 432x288 with 1 Axes>"
      ]
     },
     "metadata": {
      "needs_background": "light"
     },
     "output_type": "display_data"
    }
   ],
   "source": [
    "sns.regplot(x = \"class_of_ni\", y=\"class_of_total_mass\", data=supernovae_df, fit_reg = False, scatter_kws={\"alpha\": 0.2})"
   ]
  },
  {
   "cell_type": "code",
   "execution_count": 80,
   "metadata": {},
   "outputs": [
    {
     "data": {
      "text/plain": [
       "<AxesSubplot:xlabel='class_of_ni', ylabel='class_of_explosion'>"
      ]
     },
     "execution_count": 80,
     "metadata": {},
     "output_type": "execute_result"
    },
    {
     "data": {
      "image/png": "[encoded data removed]",
      "text/plain": [
       "<Figure size 432x288 with 1 Axes>"
      ]
     },
     "metadata": {
      "needs_background": "light"
     },
     "output_type": "display_data"
    }
   ],
   "source": [
    "sns.regplot(x = \"class_of_ni\", y=\"class_of_explosion\", data=supernovae_df, fit_reg = False, scatter_kws={\"alpha\": 0.2})"
   ]
  },
  {
   "cell_type": "code",
   "execution_count": null,
   "metadata": {},
   "outputs": [],
   "source": []
  },
  {
   "cell_type": "code",
   "execution_count": 81,
   "metadata": {},
   "outputs": [
    {
     "data": {
      "text/plain": [
       "<AxesSubplot:xlabel='init_mass_dist', ylabel='init_rad_dist'>"
      ]
     },
     "execution_count": 81,
     "metadata": {},
     "output_type": "execute_result"
    },
    {
     "data": {
      "image/png": "[encoded data removed]",
      "text/plain": [
       "<Figure size 432x288 with 1 Axes>"
      ]
     },
     "metadata": {
      "needs_background": "light"
     },
     "output_type": "display_data"
    }
   ],
   "source": [
    "sns.regplot(x = \"init_mass_dist\", y=\"init_rad_dist\", data=supernovae_df, fit_reg = False, scatter_kws={\"alpha\": 0.2})"
   ]
  },
  {
   "cell_type": "code",
   "execution_count": null,
   "metadata": {},
   "outputs": [],
   "source": []
  },
  {
   "cell_type": "code",
   "execution_count": 82,
   "metadata": {},
   "outputs": [
    {
     "data": {
      "image/png": "[encoded data removed]",
      "text/plain": [
       "<Figure size 432x288 with 2 Axes>"
      ]
     },
     "metadata": {
      "needs_background": "light"
     },
     "output_type": "display_data"
    }
   ],
   "source": [
    "#HEATMAP PLOT\n",
    "ax = sns.heatmap(supernovae_df[['optical_depth', 'optical_depth_unc', 'max_exp_vel',\n",
    "       'max_exp_vel_unc', 'emergent_flux', 'total_mass', 'mass_ni_56',\n",
    "       'explosion_energy']], vmin=0, vmax=1)"
   ]
  },
  {
   "cell_type": "code",
   "execution_count": 83,
   "metadata": {
    "scrolled": true
   },
   "outputs": [
    {
     "data": {
      "text/html": [
       "<div>\n",
       "<style scoped>\n",
       "    .dataframe tbody tr th:only-of-type {\n",
       "        vertical-align: middle;\n",
       "    }\n",
       "\n",
       "    .dataframe tbody tr th {\n",
       "        vertical-align: top;\n",
       "    }\n",
       "\n",
       "    .dataframe thead th {\n",
       "        text-align: right;\n",
       "    }\n",
       "</style>\n",
       "<table border=\"1\" class=\"dataframe\">\n",
       "  <thead>\n",
       "    <tr style=\"text-align: right;\">\n",
       "      <th></th>\n",
       "      <th>optical_depth</th>\n",
       "      <th>optical_depth_unc</th>\n",
       "      <th>max_exp_vel</th>\n",
       "      <th>max_exp_vel_unc</th>\n",
       "      <th>emergent_flux</th>\n",
       "      <th>total_mass</th>\n",
       "      <th>mass_ni_56</th>\n",
       "      <th>explosion_energy</th>\n",
       "      <th>class_of_flux</th>\n",
       "      <th>class_of_ni</th>\n",
       "      <th>class_of_total_mass</th>\n",
       "      <th>class_of_explosion</th>\n",
       "    </tr>\n",
       "  </thead>\n",
       "  <tbody>\n",
       "    <tr>\n",
       "      <th>optical_depth</th>\n",
       "      <td>1.000000</td>\n",
       "      <td>0.419398</td>\n",
       "      <td>0.139121</td>\n",
       "      <td>-0.373153</td>\n",
       "      <td>0.632440</td>\n",
       "      <td>0.663398</td>\n",
       "      <td>6.267326e-01</td>\n",
       "      <td>-3.325508e-02</td>\n",
       "      <td>0.615870</td>\n",
       "      <td>0.615870</td>\n",
       "      <td>0.651897</td>\n",
       "      <td>-3.325508e-02</td>\n",
       "    </tr>\n",
       "    <tr>\n",
       "      <th>optical_depth_unc</th>\n",
       "      <td>0.419398</td>\n",
       "      <td>1.000000</td>\n",
       "      <td>0.574014</td>\n",
       "      <td>-0.001943</td>\n",
       "      <td>-0.205006</td>\n",
       "      <td>0.162289</td>\n",
       "      <td>-2.269546e-01</td>\n",
       "      <td>-1.577938e-02</td>\n",
       "      <td>-0.228639</td>\n",
       "      <td>-0.228639</td>\n",
       "      <td>0.164077</td>\n",
       "      <td>-1.577938e-02</td>\n",
       "    </tr>\n",
       "    <tr>\n",
       "      <th>max_exp_vel</th>\n",
       "      <td>0.139121</td>\n",
       "      <td>0.574014</td>\n",
       "      <td>1.000000</td>\n",
       "      <td>0.455342</td>\n",
       "      <td>-0.256229</td>\n",
       "      <td>0.101983</td>\n",
       "      <td>-2.611050e-01</td>\n",
       "      <td>-7.433199e-03</td>\n",
       "      <td>-0.250544</td>\n",
       "      <td>-0.250544</td>\n",
       "      <td>0.103835</td>\n",
       "      <td>-7.433199e-03</td>\n",
       "    </tr>\n",
       "    <tr>\n",
       "      <th>max_exp_vel_unc</th>\n",
       "      <td>-0.373153</td>\n",
       "      <td>-0.001943</td>\n",
       "      <td>0.455342</td>\n",
       "      <td>1.000000</td>\n",
       "      <td>-0.444985</td>\n",
       "      <td>-0.218342</td>\n",
       "      <td>-4.405073e-01</td>\n",
       "      <td>-8.135685e-02</td>\n",
       "      <td>-0.427781</td>\n",
       "      <td>-0.427781</td>\n",
       "      <td>-0.211990</td>\n",
       "      <td>-8.135685e-02</td>\n",
       "    </tr>\n",
       "    <tr>\n",
       "      <th>emergent_flux</th>\n",
       "      <td>0.632440</td>\n",
       "      <td>-0.205006</td>\n",
       "      <td>-0.256229</td>\n",
       "      <td>-0.444985</td>\n",
       "      <td>1.000000</td>\n",
       "      <td>0.356752</td>\n",
       "      <td>9.988396e-01</td>\n",
       "      <td>1.386505e-03</td>\n",
       "      <td>0.988591</td>\n",
       "      <td>0.988591</td>\n",
       "      <td>0.342323</td>\n",
       "      <td>1.386505e-03</td>\n",
       "    </tr>\n",
       "    <tr>\n",
       "      <th>total_mass</th>\n",
       "      <td>0.663398</td>\n",
       "      <td>0.162289</td>\n",
       "      <td>0.101983</td>\n",
       "      <td>-0.218342</td>\n",
       "      <td>0.356752</td>\n",
       "      <td>1.000000</td>\n",
       "      <td>3.617858e-01</td>\n",
       "      <td>0.000000e+00</td>\n",
       "      <td>0.339971</td>\n",
       "      <td>0.339971</td>\n",
       "      <td>0.992783</td>\n",
       "      <td>0.000000e+00</td>\n",
       "    </tr>\n",
       "    <tr>\n",
       "      <th>mass_ni_56</th>\n",
       "      <td>0.626733</td>\n",
       "      <td>-0.226955</td>\n",
       "      <td>-0.261105</td>\n",
       "      <td>-0.440507</td>\n",
       "      <td>0.998840</td>\n",
       "      <td>0.361786</td>\n",
       "      <td>1.000000e+00</td>\n",
       "      <td>7.529056e-19</td>\n",
       "      <td>0.989488</td>\n",
       "      <td>0.989488</td>\n",
       "      <td>0.347586</td>\n",
       "      <td>1.882264e-18</td>\n",
       "    </tr>\n",
       "    <tr>\n",
       "      <th>explosion_energy</th>\n",
       "      <td>-0.033255</td>\n",
       "      <td>-0.015779</td>\n",
       "      <td>-0.007433</td>\n",
       "      <td>-0.081357</td>\n",
       "      <td>0.001387</td>\n",
       "      <td>0.000000</td>\n",
       "      <td>7.529056e-19</td>\n",
       "      <td>1.000000e+00</td>\n",
       "      <td>0.000000</td>\n",
       "      <td>0.000000</td>\n",
       "      <td>0.000000</td>\n",
       "      <td>1.000000e+00</td>\n",
       "    </tr>\n",
       "    <tr>\n",
       "      <th>class_of_flux</th>\n",
       "      <td>0.615870</td>\n",
       "      <td>-0.228639</td>\n",
       "      <td>-0.250544</td>\n",
       "      <td>-0.427781</td>\n",
       "      <td>0.988591</td>\n",
       "      <td>0.339971</td>\n",
       "      <td>9.894881e-01</td>\n",
       "      <td>0.000000e+00</td>\n",
       "      <td>1.000000</td>\n",
       "      <td>1.000000</td>\n",
       "      <td>0.326628</td>\n",
       "      <td>0.000000e+00</td>\n",
       "    </tr>\n",
       "    <tr>\n",
       "      <th>class_of_ni</th>\n",
       "      <td>0.615870</td>\n",
       "      <td>-0.228639</td>\n",
       "      <td>-0.250544</td>\n",
       "      <td>-0.427781</td>\n",
       "      <td>0.988591</td>\n",
       "      <td>0.339971</td>\n",
       "      <td>9.894881e-01</td>\n",
       "      <td>0.000000e+00</td>\n",
       "      <td>1.000000</td>\n",
       "      <td>1.000000</td>\n",
       "      <td>0.326628</td>\n",
       "      <td>0.000000e+00</td>\n",
       "    </tr>\n",
       "    <tr>\n",
       "      <th>class_of_total_mass</th>\n",
       "      <td>0.651897</td>\n",
       "      <td>0.164077</td>\n",
       "      <td>0.103835</td>\n",
       "      <td>-0.211990</td>\n",
       "      <td>0.342323</td>\n",
       "      <td>0.992783</td>\n",
       "      <td>3.475862e-01</td>\n",
       "      <td>0.000000e+00</td>\n",
       "      <td>0.326628</td>\n",
       "      <td>0.326628</td>\n",
       "      <td>1.000000</td>\n",
       "      <td>0.000000e+00</td>\n",
       "    </tr>\n",
       "    <tr>\n",
       "      <th>class_of_explosion</th>\n",
       "      <td>-0.033255</td>\n",
       "      <td>-0.015779</td>\n",
       "      <td>-0.007433</td>\n",
       "      <td>-0.081357</td>\n",
       "      <td>0.001387</td>\n",
       "      <td>0.000000</td>\n",
       "      <td>1.882264e-18</td>\n",
       "      <td>1.000000e+00</td>\n",
       "      <td>0.000000</td>\n",
       "      <td>0.000000</td>\n",
       "      <td>0.000000</td>\n",
       "      <td>1.000000e+00</td>\n",
       "    </tr>\n",
       "  </tbody>\n",
       "</table>\n",
       "</div>"
      ],
      "text/plain": [
       "                     optical_depth  optical_depth_unc  max_exp_vel  \\\n",
       "optical_depth             1.000000           0.419398     0.139121   \n",
       "optical_depth_unc         0.419398           1.000000     0.574014   \n",
       "max_exp_vel               0.139121           0.574014     1.000000   \n",
       "max_exp_vel_unc          -0.373153          -0.001943     0.455342   \n",
       "emergent_flux             0.632440          -0.205006    -0.256229   \n",
       "total_mass                0.663398           0.162289     0.101983   \n",
       "mass_ni_56                0.626733          -0.226955    -0.261105   \n",
       "explosion_energy         -0.033255          -0.015779    -0.007433   \n",
       "class_of_flux             0.615870          -0.228639    -0.250544   \n",
       "class_of_ni               0.615870          -0.228639    -0.250544   \n",
       "class_of_total_mass       0.651897           0.164077     0.103835   \n",
       "class_of_explosion       -0.033255          -0.015779    -0.007433   \n",
       "\n",
       "                     max_exp_vel_unc  emergent_flux  total_mass    mass_ni_56  \\\n",
       "optical_depth              -0.373153       0.632440    0.663398  6.267326e-01   \n",
       "optical_depth_unc          -0.001943      -0.205006    0.162289 -2.269546e-01   \n",
       "max_exp_vel                 0.455342      -0.256229    0.101983 -2.611050e-01   \n",
       "max_exp_vel_unc             1.000000      -0.444985   -0.218342 -4.405073e-01   \n",
       "emergent_flux              -0.444985       1.000000    0.356752  9.988396e-01   \n",
       "total_mass                 -0.218342       0.356752    1.000000  3.617858e-01   \n",
       "mass_ni_56                 -0.440507       0.998840    0.361786  1.000000e+00   \n",
       "explosion_energy           -0.081357       0.001387    0.000000  7.529056e-19   \n",
       "class_of_flux              -0.427781       0.988591    0.339971  9.894881e-01   \n",
       "class_of_ni                -0.427781       0.988591    0.339971  9.894881e-01   \n",
       "class_of_total_mass        -0.211990       0.342323    0.992783  3.475862e-01   \n",
       "class_of_explosion         -0.081357       0.001387    0.000000  1.882264e-18   \n",
       "\n",
       "                     explosion_energy  class_of_flux  class_of_ni  \\\n",
       "optical_depth           -3.325508e-02       0.615870     0.615870   \n",
       "optical_depth_unc       -1.577938e-02      -0.228639    -0.228639   \n",
       "max_exp_vel             -7.433199e-03      -0.250544    -0.250544   \n",
       "max_exp_vel_unc         -8.135685e-02      -0.427781    -0.427781   \n",
       "emergent_flux            1.386505e-03       0.988591     0.988591   \n",
       "total_mass               0.000000e+00       0.339971     0.339971   \n",
       "mass_ni_56               7.529056e-19       0.989488     0.989488   \n",
       "explosion_energy         1.000000e+00       0.000000     0.000000   \n",
       "class_of_flux            0.000000e+00       1.000000     1.000000   \n",
       "class_of_ni              0.000000e+00       1.000000     1.000000   \n",
       "class_of_total_mass      0.000000e+00       0.326628     0.326628   \n",
       "class_of_explosion       1.000000e+00       0.000000     0.000000   \n",
       "\n",
       "                     class_of_total_mass  class_of_explosion  \n",
       "optical_depth                   0.651897       -3.325508e-02  \n",
       "optical_depth_unc               0.164077       -1.577938e-02  \n",
       "max_exp_vel                     0.103835       -7.433199e-03  \n",
       "max_exp_vel_unc                -0.211990       -8.135685e-02  \n",
       "emergent_flux                   0.342323        1.386505e-03  \n",
       "total_mass                      0.992783        0.000000e+00  \n",
       "mass_ni_56                      0.347586        1.882264e-18  \n",
       "explosion_energy                0.000000        1.000000e+00  \n",
       "class_of_flux                   0.326628        0.000000e+00  \n",
       "class_of_ni                     0.326628        0.000000e+00  \n",
       "class_of_total_mass             1.000000        0.000000e+00  \n",
       "class_of_explosion              0.000000        1.000000e+00  "
      ]
     },
     "execution_count": 83,
     "metadata": {},
     "output_type": "execute_result"
    }
   ],
   "source": [
    "#Pearson correlation coefficients across the dataframe\n",
    "supernovae_df.corr(method ='pearson')"
   ]
  },
  {
   "cell_type": "markdown",
   "metadata": {},
   "source": [
    "We see here that most of the observable parameters are not highly correlated with the physical parameters. Hence, we would have to follow a step-by-step approach in order to successfully predict all the physical parameters with the given information. "
   ]
  },
  {
   "cell_type": "markdown",
   "metadata": {},
   "source": [
    "# Inference:\n",
    "What we see here is that we can define classes for the numerical physical parameters. There isn't a lot of direct correlation between the parameters, except mass of ni-56 and emergent flux. The categorical targets (distribution columns) are evenly distributed across all other parameters and there is no strong correlation between any set of parameters and these target columns either. It is best to predict the target variables one after another, with the predictions of one variable being added as features to another variable. \n",
    "\n",
    "Recommended prediction order:\n",
    "1. Ni-56 mass\n",
    "2. Total mass\n",
    "3. Initial mass distribution\n",
    "4. Initial rad distribution\n",
    "5. Explosion energy\n",
    "\n",
    "Different models can be used for the same, only the best iterations have been mentioned here where possible."
   ]
  },
  {
   "cell_type": "code",
   "execution_count": null,
   "metadata": {},
   "outputs": [],
   "source": []
  },
  {
   "cell_type": "code",
   "execution_count": null,
   "metadata": {},
   "outputs": [],
   "source": []
  },
  {
   "cell_type": "markdown",
   "metadata": {},
   "source": [
    "# Task 3- PREDICTIONS"
   ]
  },
  {
   "cell_type": "markdown",
   "metadata": {},
   "source": [
    "Trial-and-error to decide the best routine is then followed by the actual routine and predictions. "
   ]
  },
  {
   "cell_type": "markdown",
   "metadata": {},
   "source": [
    "# Predicting the Ni-56 mass"
   ]
  },
  {
   "cell_type": "markdown",
   "metadata": {},
   "source": [
    "Predicting mass of Ni-56: two approaches (regression v/s classification). Classification is possible because the class of Ni-56 mass have unique values rather than ranges of values, so a properly predicted class can later be interpreted to the right value of the physical parameter. \n"
   ]
  },
  {
   "cell_type": "code",
   "execution_count": 84,
   "metadata": {},
   "outputs": [],
   "source": [
    "#LINEAR REGRESSION APPROACH"
   ]
  },
  {
   "cell_type": "code",
   "execution_count": 85,
   "metadata": {},
   "outputs": [
    {
     "name": "stdout",
     "output_type": "stream",
     "text": [
      "0.998169270629603\n"
     ]
    }
   ],
   "source": [
    "#Using only the observable parameters and regression to the actual mass\n",
    "\n",
    "X = supernovae_df[['optical_depth','max_exp_vel','emergent_flux']]\n",
    "y = supernovae_df['mass_ni_56'] \n",
    "  \n",
    "\n",
    "X_train, X_test, y_train, y_test = train_test_split(X, y, test_size = 0.2, random_state=75)\n",
    "\n",
    "regr = LinearRegression() \n",
    "  \n",
    "regr.fit(X_train, y_train) \n",
    "y_pred = regr.predict(X_test)\n",
    "print(regr.score(X_test, y_test)) #R2 score"
   ]
  },
  {
   "cell_type": "code",
   "execution_count": null,
   "metadata": {},
   "outputs": [],
   "source": []
  },
  {
   "cell_type": "code",
   "execution_count": 86,
   "metadata": {},
   "outputs": [],
   "source": [
    "#Including the uncertainities "
   ]
  },
  {
   "cell_type": "code",
   "execution_count": 87,
   "metadata": {},
   "outputs": [
    {
     "name": "stdout",
     "output_type": "stream",
     "text": [
      "0.9988249898838353\n"
     ]
    }
   ],
   "source": [
    "X = supernovae_df[['optical_depth','max_exp_vel','emergent_flux','optical_depth_unc','max_exp_vel_unc']]\n",
    "y = supernovae_df['mass_ni_56'] \n",
    "  \n",
    "\n",
    "X_train, X_test, y_train, y_test = train_test_split(X, y, test_size = 0.2, random_state=75)\n",
    "\n",
    "regr = LinearRegression() \n",
    "  \n",
    "regr.fit(X_train, y_train) \n",
    "y_pred = regr.predict(X_test)\n",
    "print(regr.score(X_test, y_test))"
   ]
  },
  {
   "cell_type": "code",
   "execution_count": null,
   "metadata": {},
   "outputs": [],
   "source": []
  },
  {
   "cell_type": "markdown",
   "metadata": {},
   "source": [
    "Since we know that the emergent flux and mass of ni-56 are highly correlated and our plots show that supernovae with the same range of emergent flux all have the same unique mass, it is possible to predict the class of ni and convert it to the actual value after."
   ]
  },
  {
   "cell_type": "code",
   "execution_count": null,
   "metadata": {},
   "outputs": [],
   "source": []
  },
  {
   "cell_type": "code",
   "execution_count": 88,
   "metadata": {
    "scrolled": true
   },
   "outputs": [
    {
     "name": "stdout",
     "output_type": "stream",
     "text": [
      "0.9795483728077143\n"
     ]
    }
   ],
   "source": [
    "#Using uncertainities, observable parameters, with target as the class of ni-56 mass\n",
    "\n",
    "X = supernovae_df[['optical_depth','max_exp_vel','emergent_flux','optical_depth_unc','max_exp_vel_unc']]\n",
    "y = supernovae_df['class_of_ni'] \n",
    "  \n",
    "\n",
    "X_train, X_test, y_train, y_test = train_test_split(X, y, test_size = 0.2, random_state=75)\n",
    "\n",
    "regr = LinearRegression() \n",
    "  \n",
    "regr.fit(X_train, y_train) \n",
    "y_pred = regr.predict(X_test)\n",
    "print(regr.score(X_test, y_test))"
   ]
  },
  {
   "cell_type": "code",
   "execution_count": null,
   "metadata": {},
   "outputs": [],
   "source": []
  },
  {
   "cell_type": "code",
   "execution_count": 89,
   "metadata": {},
   "outputs": [
    {
     "name": "stdout",
     "output_type": "stream",
     "text": [
      "0.9777909118034415\n"
     ]
    }
   ],
   "source": [
    "#Using only observable parameters\n",
    "X = supernovae_df[['optical_depth','max_exp_vel','emergent_flux']]\n",
    "y = supernovae_df['class_of_ni'] \n",
    "  \n",
    "\n",
    "X_train, X_test, y_train, y_test = train_test_split(X, y, test_size = 0.2, random_state=75)\n",
    "\n",
    "regr = LinearRegression() \n",
    "  \n",
    "regr.fit(X_train, y_train) \n",
    "y_pred = regr.predict(X_test)\n",
    "print(regr.score(X_test, y_test))"
   ]
  },
  {
   "cell_type": "code",
   "execution_count": null,
   "metadata": {},
   "outputs": [],
   "source": []
  },
  {
   "cell_type": "code",
   "execution_count": 90,
   "metadata": {},
   "outputs": [
    {
     "name": "stdout",
     "output_type": "stream",
     "text": [
      "0.9981558603296407\n"
     ]
    }
   ],
   "source": [
    "#Attempting single feature regression- using only emergent flux with direct regression\n",
    "\n",
    "X = supernovae_df[['emergent_flux']]\n",
    "y = supernovae_df['mass_ni_56'] \n",
    "  \n",
    "\n",
    "X_train, X_test, y_train, y_test = train_test_split(X, y, test_size = 0.2, random_state=75)\n",
    "\n",
    "regr = LinearRegression() \n",
    "  \n",
    "regr.fit(X_train, y_train) \n",
    "y_pred = regr.predict(X_test)\n",
    "print(regr.score(X_test, y_test))"
   ]
  },
  {
   "cell_type": "code",
   "execution_count": null,
   "metadata": {},
   "outputs": [],
   "source": []
  },
  {
   "cell_type": "code",
   "execution_count": 91,
   "metadata": {},
   "outputs": [
    {
     "name": "stdout",
     "output_type": "stream",
     "text": [
      "0.9773500224702066\n"
     ]
    }
   ],
   "source": [
    "#Attempting single feature regression- using only emergent flux with regression to classification\n",
    "\n",
    "X = supernovae_df[['emergent_flux']]\n",
    "y = supernovae_df['class_of_ni'] \n",
    "  \n",
    "\n",
    "X_train, X_test, y_train, y_test = train_test_split(X, y, test_size = 0.2, random_state=75)\n",
    "\n",
    "regr = LinearRegression() \n",
    "  \n",
    "regr.fit(X_train, y_train) \n",
    "y_pred = regr.predict(X_test)\n",
    "print(regr.score(X_test, y_test))"
   ]
  },
  {
   "cell_type": "code",
   "execution_count": null,
   "metadata": {},
   "outputs": [],
   "source": []
  },
  {
   "cell_type": "markdown",
   "metadata": {},
   "source": [
    "Using class of flux to predict class of ni-mass "
   ]
  },
  {
   "cell_type": "code",
   "execution_count": 92,
   "metadata": {},
   "outputs": [
    {
     "name": "stdout",
     "output_type": "stream",
     "text": [
      "1.0\n"
     ]
    }
   ],
   "source": [
    "X = supernovae_df[['class_of_flux']]\n",
    "y = supernovae_df['class_of_ni'] \n",
    "  \n",
    "X_train, X_test, y_train, y_test = train_test_split(X, y, test_size = 0.2, random_state=75)\n",
    "\n",
    "regr = LogisticRegression() \n",
    "  \n",
    "regr.fit(X_train, y_train) \n",
    "y_pred = regr.predict(X_test)\n",
    "print(regr.score(X_test, y_test))"
   ]
  },
  {
   "cell_type": "markdown",
   "metadata": {},
   "source": [
    "INFERENCE:\n",
    "While the model accuracy is close to 100 using other parameters, this particular regression seems the best way forward as the variables are highly correlated and using a class based regression that gives 100% accuracy ensures high accuracy in the following steps"
   ]
  },
  {
   "cell_type": "code",
   "execution_count": null,
   "metadata": {},
   "outputs": [],
   "source": []
  },
  {
   "cell_type": "code",
   "execution_count": null,
   "metadata": {},
   "outputs": [],
   "source": []
  },
  {
   "cell_type": "markdown",
   "metadata": {},
   "source": [
    "# Predicting total mass"
   ]
  },
  {
   "cell_type": "markdown",
   "metadata": {},
   "source": [
    "As total mass is not highly linearly correlated with any other values, boosting based regression seemed to be the next best option. Here, different combinations of observable parameters as well as uncertainities are used as featuers, along with the mass of ni-56, which can easily be the first thing to be predicted because of the high accuracy achieved when training a model for the target of ni-56 mass."
   ]
  },
  {
   "cell_type": "code",
   "execution_count": 93,
   "metadata": {},
   "outputs": [
    {
     "data": {
      "text/plain": [
       "0.7892008800736088"
      ]
     },
     "execution_count": 93,
     "metadata": {},
     "output_type": "execute_result"
    }
   ],
   "source": [
    "#Regression to total mass using all possible variables \n",
    "\n",
    "X = supernovae_df[['optical_depth','max_exp_vel','optical_depth_unc','emergent_flux','mass_ni_56']]\n",
    "y = supernovae_df['total_mass'] \n",
    "  \n",
    "    \n",
    "X_train, X_test, y_train, y_test = train_test_split(X, y, test_size = 0.2, random_state=75)\n",
    "\n",
    "model = XGBRegressor()\n",
    "model.fit(X_train, y_train)\n",
    "\n",
    "\n",
    "y_pred = model.predict(X_test)\n",
    "\n",
    "\n",
    "model.score(X_test, y_test)"
   ]
  },
  {
   "cell_type": "code",
   "execution_count": 94,
   "metadata": {},
   "outputs": [
    {
     "name": "stderr",
     "output_type": "stream",
     "text": [
      "C:\\Users\\Aarya\\anaconda3\\lib\\site-packages\\xgboost\\sklearn.py:888: UserWarning: The use of label encoder in XGBClassifier is deprecated and will be removed in a future release. To remove this warning, do the following: 1) Pass option use_label_encoder=False when constructing XGBClassifier object; and 2) Encode your labels (y) as integers starting with 0, i.e. 0, 1, 2, ..., [num_class - 1].\n",
      "  warnings.warn(label_encoder_deprecation_msg, UserWarning)\n"
     ]
    },
    {
     "name": "stdout",
     "output_type": "stream",
     "text": [
      "[00:35:57] WARNING: C:/Users/Administrator/workspace/xgboost-win64_release_1.3.0/src/learner.cc:1061: Starting in XGBoost 1.3.0, the default evaluation metric used with the objective 'multi:softprob' was changed from 'merror' to 'mlogloss'. Explicitly set eval_metric if you'd like to restore the old behavior.\n"
     ]
    },
    {
     "data": {
      "text/plain": [
       "1.0"
      ]
     },
     "execution_count": 94,
     "metadata": {},
     "output_type": "execute_result"
    }
   ],
   "source": [
    "#All variables regression to mass class\n",
    "\n",
    "X = supernovae_df[['optical_depth','max_exp_vel','optical_depth_unc','emergent_flux','mass_ni_56']]\n",
    "y = supernovae_df['class_of_total_mass'] \n",
    "   \n",
    "X_train, X_test, y_train, y_test = train_test_split(X, y, test_size = 0.2, random_state=1220)\n",
    "\n",
    "model = XGBClassifier()\n",
    "model.fit(X_train, y_train)\n",
    "\n",
    "\n",
    "y_pred = model.predict(X_test)\n",
    "predictions = [round(value) for value in y_pred]\n",
    "\n",
    "model.score(X_test, y_pred)"
   ]
  },
  {
   "cell_type": "code",
   "execution_count": 95,
   "metadata": {},
   "outputs": [
    {
     "name": "stdout",
     "output_type": "stream",
     "text": [
      "[00:35:57] WARNING: C:/Users/Administrator/workspace/xgboost-win64_release_1.3.0/src/learner.cc:1061: Starting in XGBoost 1.3.0, the default evaluation metric used with the objective 'multi:softprob' was changed from 'merror' to 'mlogloss'. Explicitly set eval_metric if you'd like to restore the old behavior.\n"
     ]
    },
    {
     "data": {
      "text/plain": [
       "1.0"
      ]
     },
     "execution_count": 95,
     "metadata": {},
     "output_type": "execute_result"
    }
   ],
   "source": [
    "#Classification using only observable parameters\n",
    "\n",
    "X = supernovae_df[['optical_depth','max_exp_vel','emergent_flux']]\n",
    "y = supernovae_df['class_of_total_mass'] \n",
    "  \n",
    "\n",
    "X_train, X_test, y_train, y_test = train_test_split(X, y, test_size = 0.2, random_state=75)\n",
    "\n",
    "model = XGBClassifier()\n",
    "model.fit(X_train, y_train)\n",
    "\n",
    "\n",
    "y_pred = model.predict(X_test)\n",
    "predictions = [round(value) for value in y_pred]\n",
    "\n",
    "model.score(X_test, predictions)"
   ]
  },
  {
   "cell_type": "code",
   "execution_count": 96,
   "metadata": {},
   "outputs": [
    {
     "data": {
      "text/plain": [
       "0.7422190730485296"
      ]
     },
     "execution_count": 96,
     "metadata": {},
     "output_type": "execute_result"
    }
   ],
   "source": [
    "#Regression \n",
    "\n",
    "X = supernovae_df[['optical_depth','max_exp_vel','emergent_flux','class_of_ni','optical_depth_unc']]\n",
    "y = supernovae_df['total_mass'] \n",
    "  \n",
    "\n",
    "X_train, X_test, y_train, y_test = train_test_split(X, y, test_size = 0.2, random_state=1220)\n",
    "\n",
    "model = XGBRegressor()\n",
    "model.fit(X_train, y_train)\n",
    "\n",
    "y_pred = model.predict(X_test)\n",
    "predictions = [round(value) for value in y_pred]\n",
    "\n",
    "model.score(X_test, y_test)"
   ]
  },
  {
   "cell_type": "markdown",
   "metadata": {},
   "source": [
    " INFERENCE:\n",
    " 78.9% is a good accuracy, but getting an accuracy of 1 for the class of mass is good, because the class of mass directly correlates to unique mass values within the dataset, which could make the following predictions very accurate.XGBclassification would be better than the regression answers simply in terms of accuracy. "
   ]
  },
  {
   "cell_type": "code",
   "execution_count": null,
   "metadata": {},
   "outputs": [],
   "source": []
  },
  {
   "cell_type": "markdown",
   "metadata": {},
   "source": [
    "As explosion energy is barely correlated with any of the other variables, it might be a good idea to keep it for the end once all other targets have been predicted"
   ]
  },
  {
   "cell_type": "markdown",
   "metadata": {},
   "source": [
    "# Predicting initial mass distribution"
   ]
  },
  {
   "cell_type": "code",
   "execution_count": 97,
   "metadata": {},
   "outputs": [],
   "source": [
    "#One Hot Encoding of initial mass dist"
   ]
  },
  {
   "cell_type": "code",
   "execution_count": 98,
   "metadata": {},
   "outputs": [],
   "source": [
    "init_mass_dist =[]\n",
    "for i in range(len(supernovae_df)):\n",
    "    if supernovae_df.iloc[i]['init_mass_dist']=='hed8':\n",
    "        init_mass_dist.append(1)\n",
    "    if supernovae_df.iloc[i]['init_mass_dist']=='mwd':\n",
    "        init_mass_dist.append(2)\n",
    "    if supernovae_df.iloc[i]['init_mass_dist']=='N100':\n",
    "        init_mass_dist.append(3)\n",
    "    if supernovae_df.iloc[i]['init_mass_dist']=='w7dt':\n",
    "        init_mass_dist.append(4)"
   ]
  },
  {
   "cell_type": "code",
   "execution_count": 99,
   "metadata": {},
   "outputs": [],
   "source": [
    "#One Hot Encoding of initial rad dist"
   ]
  },
  {
   "cell_type": "code",
   "execution_count": 100,
   "metadata": {},
   "outputs": [],
   "source": [
    "rad_dist =[]\n",
    "for i in range(len(supernovae_df)):\n",
    "    if supernovae_df.iloc[i]['init_rad_dist']=='hed8':\n",
    "        rad_dist.append(1)\n",
    "    if supernovae_df.iloc[i]['init_rad_dist']=='mwd':\n",
    "        rad_dist.append(2)\n",
    "    if supernovae_df.iloc[i]['init_rad_dist']=='N100':\n",
    "        rad_dist.append(3)\n",
    "    if supernovae_df.iloc[i]['init_rad_dist']=='w7dt':\n",
    "        rad_dist.append(4)"
   ]
  },
  {
   "cell_type": "code",
   "execution_count": 101,
   "metadata": {},
   "outputs": [],
   "source": [
    "#Adding these one-hot encodings to the dataframe"
   ]
  },
  {
   "cell_type": "code",
   "execution_count": 102,
   "metadata": {},
   "outputs": [],
   "source": [
    "supernovae_df['mass_dist_encoding']=np.array(init_mass_dist)"
   ]
  },
  {
   "cell_type": "code",
   "execution_count": 103,
   "metadata": {},
   "outputs": [],
   "source": [
    "supernovae_df['rad_dist_encoding']=np.array(rad_dist)"
   ]
  },
  {
   "cell_type": "code",
   "execution_count": null,
   "metadata": {},
   "outputs": [],
   "source": []
  },
  {
   "cell_type": "code",
   "execution_count": 104,
   "metadata": {},
   "outputs": [],
   "source": [
    "#XGBCLASSIFIER ON MASS DIST"
   ]
  },
  {
   "cell_type": "code",
   "execution_count": 105,
   "metadata": {},
   "outputs": [
    {
     "name": "stdout",
     "output_type": "stream",
     "text": [
      "[00:35:58] WARNING: C:/Users/Administrator/workspace/xgboost-win64_release_1.3.0/src/learner.cc:1061: Starting in XGBoost 1.3.0, the default evaluation metric used with the objective 'multi:softprob' was changed from 'merror' to 'mlogloss'. Explicitly set eval_metric if you'd like to restore the old behavior.\n"
     ]
    },
    {
     "name": "stderr",
     "output_type": "stream",
     "text": [
      "C:\\Users\\Aarya\\anaconda3\\lib\\site-packages\\xgboost\\sklearn.py:888: UserWarning: The use of label encoder in XGBClassifier is deprecated and will be removed in a future release. To remove this warning, do the following: 1) Pass option use_label_encoder=False when constructing XGBClassifier object; and 2) Encode your labels (y) as integers starting with 0, i.e. 0, 1, 2, ..., [num_class - 1].\n",
      "  warnings.warn(label_encoder_deprecation_msg, UserWarning)\n"
     ]
    },
    {
     "data": {
      "text/plain": [
       "XGBClassifier(base_score=0.5, booster='gbtree', colsample_bylevel=1,\n",
       "              colsample_bynode=1, colsample_bytree=1, gamma=0, gpu_id=-1,\n",
       "              importance_type='gain', interaction_constraints='',\n",
       "              learning_rate=0.300000012, max_delta_step=0, max_depth=6,\n",
       "              min_child_weight=1, missing=nan, monotone_constraints='()',\n",
       "              n_estimators=100, n_jobs=12, num_parallel_tree=1,\n",
       "              objective='multi:softprob', random_state=0, reg_alpha=0,\n",
       "              reg_lambda=1, scale_pos_weight=None, subsample=1,\n",
       "              tree_method='exact', validate_parameters=1, verbosity=None)"
      ]
     },
     "execution_count": 105,
     "metadata": {},
     "output_type": "execute_result"
    }
   ],
   "source": [
    "#Using all currently know variables except max_exp_vel\n",
    "\n",
    "X = supernovae_df[['optical_depth','max_exp_vel','emergent_flux','total_mass','mass_ni_56','optical_depth_unc']]\n",
    "y = supernovae_df['mass_dist_encoding'] \n",
    "  \n",
    "X_train, X_test, y_train, y_test = train_test_split(X, y, test_size = 0.2, random_state=75)\n",
    "\n",
    "model = XGBClassifier()\n",
    "model.fit(X_train, y_train)\n",
    "\n"
   ]
  },
  {
   "cell_type": "code",
   "execution_count": 106,
   "metadata": {},
   "outputs": [
    {
     "name": "stdout",
     "output_type": "stream",
     "text": [
      "Accuracy: 84.47%\n"
     ]
    }
   ],
   "source": [
    "#XGBclassifier contd\n",
    "\n",
    "y_pred = model.predict(X_test)\n",
    "predictions = [round(value) for value in y_pred]\n",
    "accuracy = accuracy_score(y_test, predictions)\n",
    "print(\"Accuracy: %.2f%%\" % (accuracy * 100.0))"
   ]
  },
  {
   "cell_type": "code",
   "execution_count": 107,
   "metadata": {},
   "outputs": [],
   "source": [
    "p1= np.array(predictions)\n",
    "p2 = np.array((y_test))\n",
    "dddf = pd.DataFrame({'y_test':p2, 'y_pred':p1})"
   ]
  },
  {
   "cell_type": "code",
   "execution_count": 108,
   "metadata": {},
   "outputs": [
    {
     "data": {
      "text/html": [
       "<div>\n",
       "<style scoped>\n",
       "    .dataframe tbody tr th:only-of-type {\n",
       "        vertical-align: middle;\n",
       "    }\n",
       "\n",
       "    .dataframe tbody tr th {\n",
       "        vertical-align: top;\n",
       "    }\n",
       "\n",
       "    .dataframe thead th {\n",
       "        text-align: right;\n",
       "    }\n",
       "</style>\n",
       "<table border=\"1\" class=\"dataframe\">\n",
       "  <thead>\n",
       "    <tr style=\"text-align: right;\">\n",
       "      <th></th>\n",
       "      <th>y_test</th>\n",
       "      <th>y_pred</th>\n",
       "    </tr>\n",
       "  </thead>\n",
       "  <tbody>\n",
       "    <tr>\n",
       "      <th>0</th>\n",
       "      <td>2</td>\n",
       "      <td>2</td>\n",
       "    </tr>\n",
       "    <tr>\n",
       "      <th>1</th>\n",
       "      <td>4</td>\n",
       "      <td>4</td>\n",
       "    </tr>\n",
       "    <tr>\n",
       "      <th>2</th>\n",
       "      <td>1</td>\n",
       "      <td>1</td>\n",
       "    </tr>\n",
       "    <tr>\n",
       "      <th>3</th>\n",
       "      <td>1</td>\n",
       "      <td>1</td>\n",
       "    </tr>\n",
       "    <tr>\n",
       "      <th>4</th>\n",
       "      <td>4</td>\n",
       "      <td>4</td>\n",
       "    </tr>\n",
       "    <tr>\n",
       "      <th>...</th>\n",
       "      <td>...</td>\n",
       "      <td>...</td>\n",
       "    </tr>\n",
       "    <tr>\n",
       "      <th>98</th>\n",
       "      <td>4</td>\n",
       "      <td>4</td>\n",
       "    </tr>\n",
       "    <tr>\n",
       "      <th>99</th>\n",
       "      <td>2</td>\n",
       "      <td>2</td>\n",
       "    </tr>\n",
       "    <tr>\n",
       "      <th>100</th>\n",
       "      <td>3</td>\n",
       "      <td>3</td>\n",
       "    </tr>\n",
       "    <tr>\n",
       "      <th>101</th>\n",
       "      <td>3</td>\n",
       "      <td>3</td>\n",
       "    </tr>\n",
       "    <tr>\n",
       "      <th>102</th>\n",
       "      <td>2</td>\n",
       "      <td>2</td>\n",
       "    </tr>\n",
       "  </tbody>\n",
       "</table>\n",
       "<p>103 rows × 2 columns</p>\n",
       "</div>"
      ],
      "text/plain": [
       "     y_test  y_pred\n",
       "0         2       2\n",
       "1         4       4\n",
       "2         1       1\n",
       "3         1       1\n",
       "4         4       4\n",
       "..      ...     ...\n",
       "98        4       4\n",
       "99        2       2\n",
       "100       3       3\n",
       "101       3       3\n",
       "102       2       2\n",
       "\n",
       "[103 rows x 2 columns]"
      ]
     },
     "execution_count": 108,
     "metadata": {},
     "output_type": "execute_result"
    }
   ],
   "source": [
    "dddf"
   ]
  },
  {
   "cell_type": "code",
   "execution_count": null,
   "metadata": {},
   "outputs": [],
   "source": []
  },
  {
   "cell_type": "code",
   "execution_count": 109,
   "metadata": {},
   "outputs": [
    {
     "name": "stdout",
     "output_type": "stream",
     "text": [
      "[00:35:58] WARNING: C:/Users/Administrator/workspace/xgboost-win64_release_1.3.0/src/learner.cc:1061: Starting in XGBoost 1.3.0, the default evaluation metric used with the objective 'multi:softprob' was changed from 'merror' to 'mlogloss'. Explicitly set eval_metric if you'd like to restore the old behavior.\n",
      "Accuracy: 76.70%\n"
     ]
    },
    {
     "name": "stderr",
     "output_type": "stream",
     "text": [
      "C:\\Users\\Aarya\\anaconda3\\lib\\site-packages\\xgboost\\sklearn.py:888: UserWarning: The use of label encoder in XGBClassifier is deprecated and will be removed in a future release. To remove this warning, do the following: 1) Pass option use_label_encoder=False when constructing XGBClassifier object; and 2) Encode your labels (y) as integers starting with 0, i.e. 0, 1, 2, ..., [num_class - 1].\n",
      "  warnings.warn(label_encoder_deprecation_msg, UserWarning)\n"
     ]
    }
   ],
   "source": [
    "#Removing the uncertainity values with classification\n",
    "\n",
    "X = supernovae_df[['optical_depth','max_exp_vel','emergent_flux','total_mass','mass_ni_56']]\n",
    "y = supernovae_df['mass_dist_encoding'] \n",
    "  \n",
    "    \n",
    "X_train, X_test, y_train, y_test = train_test_split(X, y, test_size = 0.2, random_state=75)\n",
    "\n",
    "model = XGBClassifier()\n",
    "model.fit(X_train, y_train)\n",
    "\n",
    "y_pred = model.predict(X_test)\n",
    "predictions = [round(value) for value in y_pred]\n",
    "accuracy = accuracy_score(y_test, predictions)\n",
    "print(\"Accuracy: %.2f%%\" % (accuracy * 100.0))"
   ]
  },
  {
   "cell_type": "code",
   "execution_count": null,
   "metadata": {},
   "outputs": [],
   "source": []
  },
  {
   "cell_type": "code",
   "execution_count": 110,
   "metadata": {},
   "outputs": [
    {
     "name": "stdout",
     "output_type": "stream",
     "text": [
      "[00:35:58] WARNING: C:/Users/Administrator/workspace/xgboost-win64_release_1.3.0/src/learner.cc:1061: Starting in XGBoost 1.3.0, the default evaluation metric used with the objective 'multi:softprob' was changed from 'merror' to 'mlogloss'. Explicitly set eval_metric if you'd like to restore the old behavior.\n",
      "Accuracy: 77.67%\n"
     ]
    }
   ],
   "source": [
    "#Including both uncertainities\n",
    "\n",
    "X = supernovae_df[['optical_depth','max_exp_vel','emergent_flux','total_mass','mass_ni_56','optical_depth_unc','max_exp_vel_unc']]\n",
    "y = supernovae_df['mass_dist_encoding'] \n",
    "  \n",
    "\n",
    "X_train, X_test, y_train, y_test = train_test_split(X, y, test_size = 0.2, random_state=75)\n",
    "\n",
    "model = XGBClassifier()\n",
    "model.fit(X_train, y_train)\n",
    "\n",
    "y_pred = model.predict(X_test)\n",
    "predictions = [round(value) for value in y_pred]\n",
    "accuracy = accuracy_score(y_test, predictions)\n",
    "print(\"Accuracy: %.2f%%\" % (accuracy * 100.0))"
   ]
  },
  {
   "cell_type": "code",
   "execution_count": null,
   "metadata": {},
   "outputs": [],
   "source": []
  },
  {
   "cell_type": "markdown",
   "metadata": {},
   "source": [
    "INFERENCE:\n",
    "The best accuracy obtained was 84.47% using the XGBclassifier and all currently known features (as per the prediction order) except for the max_exp_vel_unc, so this method can be used. "
   ]
  },
  {
   "cell_type": "code",
   "execution_count": null,
   "metadata": {},
   "outputs": [],
   "source": []
  },
  {
   "cell_type": "code",
   "execution_count": null,
   "metadata": {},
   "outputs": [],
   "source": []
  },
  {
   "cell_type": "code",
   "execution_count": null,
   "metadata": {},
   "outputs": [],
   "source": []
  },
  {
   "cell_type": "code",
   "execution_count": null,
   "metadata": {},
   "outputs": [],
   "source": []
  },
  {
   "cell_type": "markdown",
   "metadata": {},
   "source": [
    "# Predicting initial rad distribution"
   ]
  },
  {
   "cell_type": "code",
   "execution_count": 111,
   "metadata": {},
   "outputs": [],
   "source": [
    "#INIT RAD DIST"
   ]
  },
  {
   "cell_type": "code",
   "execution_count": 112,
   "metadata": {},
   "outputs": [
    {
     "name": "stdout",
     "output_type": "stream",
     "text": [
      "[00:35:59] WARNING: C:/Users/Administrator/workspace/xgboost-win64_release_1.3.0/src/learner.cc:1061: Starting in XGBoost 1.3.0, the default evaluation metric used with the objective 'multi:softprob' was changed from 'merror' to 'mlogloss'. Explicitly set eval_metric if you'd like to restore the old behavior.\n",
      "Accuracy: 93.20%\n"
     ]
    }
   ],
   "source": [
    "X = supernovae_df[['optical_depth','max_exp_vel','emergent_flux','total_mass','mass_ni_56','mass_dist_encoding', 'optical_depth_unc']]\n",
    "y = supernovae_df['rad_dist_encoding'] \n",
    "\n",
    "X_train, X_test, y_train, y_test = train_test_split(X, y, test_size = 0.2, random_state=75)\n",
    "\n",
    "model = XGBClassifier()\n",
    "model.fit(X_train, y_train)\n",
    "\n",
    "\n",
    "y_pred = model.predict(X_test)\n",
    "predictions = [round(value) for value in y_pred]\n",
    "accuracy = accuracy_score(y_test, predictions)\n",
    "print(\"Accuracy: %.2f%%\" % (accuracy * 100.0))"
   ]
  },
  {
   "cell_type": "code",
   "execution_count": 113,
   "metadata": {},
   "outputs": [],
   "source": [
    "p1= np.array(predictions)\n",
    "p2 = np.array((y_test))\n",
    "dddf = pd.DataFrame({'y_test':p2, 'y_pred':p1})"
   ]
  },
  {
   "cell_type": "code",
   "execution_count": 114,
   "metadata": {},
   "outputs": [
    {
     "data": {
      "text/html": [
       "<div>\n",
       "<style scoped>\n",
       "    .dataframe tbody tr th:only-of-type {\n",
       "        vertical-align: middle;\n",
       "    }\n",
       "\n",
       "    .dataframe tbody tr th {\n",
       "        vertical-align: top;\n",
       "    }\n",
       "\n",
       "    .dataframe thead th {\n",
       "        text-align: right;\n",
       "    }\n",
       "</style>\n",
       "<table border=\"1\" class=\"dataframe\">\n",
       "  <thead>\n",
       "    <tr style=\"text-align: right;\">\n",
       "      <th></th>\n",
       "      <th>y_test</th>\n",
       "      <th>y_pred</th>\n",
       "    </tr>\n",
       "  </thead>\n",
       "  <tbody>\n",
       "    <tr>\n",
       "      <th>0</th>\n",
       "      <td>1</td>\n",
       "      <td>1</td>\n",
       "    </tr>\n",
       "    <tr>\n",
       "      <th>1</th>\n",
       "      <td>3</td>\n",
       "      <td>3</td>\n",
       "    </tr>\n",
       "    <tr>\n",
       "      <th>2</th>\n",
       "      <td>2</td>\n",
       "      <td>2</td>\n",
       "    </tr>\n",
       "    <tr>\n",
       "      <th>3</th>\n",
       "      <td>4</td>\n",
       "      <td>4</td>\n",
       "    </tr>\n",
       "    <tr>\n",
       "      <th>4</th>\n",
       "      <td>4</td>\n",
       "      <td>4</td>\n",
       "    </tr>\n",
       "    <tr>\n",
       "      <th>...</th>\n",
       "      <td>...</td>\n",
       "      <td>...</td>\n",
       "    </tr>\n",
       "    <tr>\n",
       "      <th>98</th>\n",
       "      <td>2</td>\n",
       "      <td>2</td>\n",
       "    </tr>\n",
       "    <tr>\n",
       "      <th>99</th>\n",
       "      <td>4</td>\n",
       "      <td>4</td>\n",
       "    </tr>\n",
       "    <tr>\n",
       "      <th>100</th>\n",
       "      <td>2</td>\n",
       "      <td>2</td>\n",
       "    </tr>\n",
       "    <tr>\n",
       "      <th>101</th>\n",
       "      <td>1</td>\n",
       "      <td>1</td>\n",
       "    </tr>\n",
       "    <tr>\n",
       "      <th>102</th>\n",
       "      <td>2</td>\n",
       "      <td>2</td>\n",
       "    </tr>\n",
       "  </tbody>\n",
       "</table>\n",
       "<p>103 rows × 2 columns</p>\n",
       "</div>"
      ],
      "text/plain": [
       "     y_test  y_pred\n",
       "0         1       1\n",
       "1         3       3\n",
       "2         2       2\n",
       "3         4       4\n",
       "4         4       4\n",
       "..      ...     ...\n",
       "98        2       2\n",
       "99        4       4\n",
       "100       2       2\n",
       "101       1       1\n",
       "102       2       2\n",
       "\n",
       "[103 rows x 2 columns]"
      ]
     },
     "execution_count": 114,
     "metadata": {},
     "output_type": "execute_result"
    }
   ],
   "source": [
    "dddf"
   ]
  },
  {
   "cell_type": "markdown",
   "metadata": {},
   "source": [
    "INFERENCE:\n",
    "As this classifier provided a 93% accuracy with the given set of hyperparameters, this can be satisfactorily used for the prediction pipelines."
   ]
  },
  {
   "cell_type": "code",
   "execution_count": null,
   "metadata": {},
   "outputs": [],
   "source": []
  },
  {
   "cell_type": "code",
   "execution_count": null,
   "metadata": {},
   "outputs": [],
   "source": []
  },
  {
   "cell_type": "markdown",
   "metadata": {},
   "source": [
    "# Predicting explosion energy"
   ]
  },
  {
   "cell_type": "markdown",
   "metadata": {},
   "source": [
    "As explosion energy is numerical and has 2 ranges as classes instead of 2 unique values for classes, 2 approaches can be followed to predict explosion energy. The first one is regression to find the exact explosion energy, which is preferable as the classification method would substitute the predicted class with the average value of explosion energy for that class rather than some unique value, therefore making the classification route more inaccurate. \n",
    "\n",
    "However, explosion energy has no correlation with most of the known features at this point, so both approaches can be tried and then compared. "
   ]
  },
  {
   "cell_type": "markdown",
   "metadata": {},
   "source": [
    "REGRESSION APPROACH"
   ]
  },
  {
   "cell_type": "code",
   "execution_count": 115,
   "metadata": {},
   "outputs": [
    {
     "name": "stdout",
     "output_type": "stream",
     "text": [
      "-0.033193118819107914\n"
     ]
    }
   ],
   "source": [
    "#Linear regression\n",
    "\n",
    "X = supernovae_df[['optical_depth','max_exp_vel','emergent_flux','optical_depth_unc','max_exp_vel_unc','rad_dist_encoding','mass_dist_encoding']]\n",
    "y = supernovae_df['explosion_energy']  \n",
    "  \n",
    "\n",
    "X_train, X_test, y_train, y_test = train_test_split(X, y, test_size = 0.2, random_state=75)\n",
    "\n",
    "regr = LinearRegression() \n",
    "  \n",
    "regr.fit(X_train, y_train) \n",
    "y_pred = regr.predict(X_test)\n",
    "print(regr.score(X_test, y_test)) #R2 score"
   ]
  },
  {
   "cell_type": "code",
   "execution_count": null,
   "metadata": {},
   "outputs": [],
   "source": []
  },
  {
   "cell_type": "code",
   "execution_count": 116,
   "metadata": {},
   "outputs": [
    {
     "data": {
      "text/plain": [
       "-0.7158443840894702"
      ]
     },
     "execution_count": 116,
     "metadata": {},
     "output_type": "execute_result"
    }
   ],
   "source": [
    "#XG boost regression\n",
    "\n",
    "X = supernovae_df[['optical_depth','max_exp_vel','emergent_flux','optical_depth_unc','max_exp_vel_unc','rad_dist_encoding','mass_dist_encoding']]\n",
    "y = supernovae_df['explosion_energy'] \n",
    "\n",
    "X_train, X_test, y_train, y_test = train_test_split(X, y, test_size = 0.2, random_state=75)\n",
    "\n",
    "model = XGBRegressor()\n",
    "model.fit(X_train, y_train)\n",
    "\n",
    "y_pred = model.predict(X_test)\n",
    "\n",
    "\n",
    "model.score(X_test, y_test)"
   ]
  },
  {
   "cell_type": "code",
   "execution_count": 117,
   "metadata": {},
   "outputs": [],
   "source": [
    "p1= np.array(y_pred)\n",
    "p2 = np.array((y_test))\n",
    "dddf = pd.DataFrame({'y_test':p2, 'y_pred':p1})"
   ]
  },
  {
   "cell_type": "code",
   "execution_count": 118,
   "metadata": {},
   "outputs": [
    {
     "data": {
      "text/html": [
       "<div>\n",
       "<style scoped>\n",
       "    .dataframe tbody tr th:only-of-type {\n",
       "        vertical-align: middle;\n",
       "    }\n",
       "\n",
       "    .dataframe tbody tr th {\n",
       "        vertical-align: top;\n",
       "    }\n",
       "\n",
       "    .dataframe thead th {\n",
       "        text-align: right;\n",
       "    }\n",
       "</style>\n",
       "<table border=\"1\" class=\"dataframe\">\n",
       "  <thead>\n",
       "    <tr style=\"text-align: right;\">\n",
       "      <th></th>\n",
       "      <th>y_test</th>\n",
       "      <th>y_pred</th>\n",
       "    </tr>\n",
       "  </thead>\n",
       "  <tbody>\n",
       "    <tr>\n",
       "      <th>0</th>\n",
       "      <td>2.00</td>\n",
       "      <td>1.468828</td>\n",
       "    </tr>\n",
       "    <tr>\n",
       "      <th>1</th>\n",
       "      <td>2.00</td>\n",
       "      <td>1.013036</td>\n",
       "    </tr>\n",
       "    <tr>\n",
       "      <th>2</th>\n",
       "      <td>0.75</td>\n",
       "      <td>1.718580</td>\n",
       "    </tr>\n",
       "    <tr>\n",
       "      <th>3</th>\n",
       "      <td>2.00</td>\n",
       "      <td>1.641631</td>\n",
       "    </tr>\n",
       "    <tr>\n",
       "      <th>4</th>\n",
       "      <td>0.75</td>\n",
       "      <td>0.905168</td>\n",
       "    </tr>\n",
       "    <tr>\n",
       "      <th>...</th>\n",
       "      <td>...</td>\n",
       "      <td>...</td>\n",
       "    </tr>\n",
       "    <tr>\n",
       "      <th>98</th>\n",
       "      <td>0.75</td>\n",
       "      <td>1.437048</td>\n",
       "    </tr>\n",
       "    <tr>\n",
       "      <th>99</th>\n",
       "      <td>0.75</td>\n",
       "      <td>0.831649</td>\n",
       "    </tr>\n",
       "    <tr>\n",
       "      <th>100</th>\n",
       "      <td>2.00</td>\n",
       "      <td>1.529058</td>\n",
       "    </tr>\n",
       "    <tr>\n",
       "      <th>101</th>\n",
       "      <td>0.75</td>\n",
       "      <td>0.776261</td>\n",
       "    </tr>\n",
       "    <tr>\n",
       "      <th>102</th>\n",
       "      <td>2.00</td>\n",
       "      <td>1.278355</td>\n",
       "    </tr>\n",
       "  </tbody>\n",
       "</table>\n",
       "<p>103 rows × 2 columns</p>\n",
       "</div>"
      ],
      "text/plain": [
       "     y_test    y_pred\n",
       "0      2.00  1.468828\n",
       "1      2.00  1.013036\n",
       "2      0.75  1.718580\n",
       "3      2.00  1.641631\n",
       "4      0.75  0.905168\n",
       "..      ...       ...\n",
       "98     0.75  1.437048\n",
       "99     0.75  0.831649\n",
       "100    2.00  1.529058\n",
       "101    0.75  0.776261\n",
       "102    2.00  1.278355\n",
       "\n",
       "[103 rows x 2 columns]"
      ]
     },
     "execution_count": 118,
     "metadata": {},
     "output_type": "execute_result"
    }
   ],
   "source": [
    "dddf"
   ]
  },
  {
   "cell_type": "code",
   "execution_count": null,
   "metadata": {},
   "outputs": [],
   "source": []
  },
  {
   "cell_type": "code",
   "execution_count": null,
   "metadata": {},
   "outputs": [],
   "source": []
  },
  {
   "cell_type": "code",
   "execution_count": 119,
   "metadata": {},
   "outputs": [
    {
     "data": {
      "text/plain": [
       "DecisionTreeRegressor(random_state=0)"
      ]
     },
     "execution_count": 119,
     "metadata": {},
     "output_type": "execute_result"
    }
   ],
   "source": [
    "#Decision tree regression\n",
    "\n",
    "from sklearn.tree import DecisionTreeRegressor \n",
    "  \n",
    "X = supernovae_df[['optical_depth','max_exp_vel','emergent_flux','optical_depth_unc','max_exp_vel_unc','rad_dist_encoding','mass_dist_encoding']]\n",
    "y = supernovae_df['explosion_energy'] \n",
    "\n",
    "X_train, X_test, y_train, y_test = train_test_split(X, y, test_size = 0.2, random_state=75)\n",
    "regressor = DecisionTreeRegressor(random_state = 0) \n",
    "  \n",
    "\n",
    "regressor.fit(X_train, y_train)"
   ]
  },
  {
   "cell_type": "code",
   "execution_count": 120,
   "metadata": {},
   "outputs": [
    {
     "data": {
      "text/plain": [
       "-1.3409090909090904"
      ]
     },
     "execution_count": 120,
     "metadata": {},
     "output_type": "execute_result"
    }
   ],
   "source": [
    "regressor.score(X_test, y_test)"
   ]
  },
  {
   "cell_type": "code",
   "execution_count": null,
   "metadata": {},
   "outputs": [],
   "source": []
  },
  {
   "cell_type": "code",
   "execution_count": null,
   "metadata": {},
   "outputs": [],
   "source": []
  },
  {
   "cell_type": "code",
   "execution_count": 121,
   "metadata": {},
   "outputs": [
    {
     "data": {
      "text/plain": [
       "RandomForestRegressor(random_state=75)"
      ]
     },
     "execution_count": 121,
     "metadata": {},
     "output_type": "execute_result"
    }
   ],
   "source": [
    "#Random forest regression\n",
    "\n",
    "from sklearn.ensemble import RandomForestRegressor \n",
    "  \n",
    "X = supernovae_df[['optical_depth','max_exp_vel','emergent_flux','optical_depth_unc','max_exp_vel_unc','rad_dist_encoding','mass_dist_encoding']]\n",
    "y = supernovae_df['explosion_energy'] \n",
    "\n",
    "regressor = RandomForestRegressor(n_estimators = 100, random_state = 75)\n",
    "\n",
    "regressor.fit(X_train,y_train)"
   ]
  },
  {
   "cell_type": "code",
   "execution_count": 122,
   "metadata": {},
   "outputs": [
    {
     "data": {
      "text/plain": [
       "-0.4020523863636358"
      ]
     },
     "execution_count": 122,
     "metadata": {},
     "output_type": "execute_result"
    }
   ],
   "source": [
    "regressor.score(X_test,y_test)"
   ]
  },
  {
   "cell_type": "code",
   "execution_count": null,
   "metadata": {},
   "outputs": [],
   "source": []
  },
  {
   "cell_type": "code",
   "execution_count": 123,
   "metadata": {},
   "outputs": [
    {
     "data": {
      "text/plain": [
       "-0.39880242424242374"
      ]
     },
     "execution_count": 123,
     "metadata": {},
     "output_type": "execute_result"
    }
   ],
   "source": [
    "#Random forest regression with a different random state\n",
    "\n",
    "from sklearn.ensemble import RandomForestRegressor \n",
    "  \n",
    "X = supernovae_df[['optical_depth','max_exp_vel','emergent_flux','optical_depth_unc','max_exp_vel_unc','rad_dist_encoding','mass_dist_encoding']]\n",
    "y = supernovae_df['explosion_energy'] \n",
    "\n",
    "regressor = RandomForestRegressor(n_estimators = 100, random_state = 1220)\n",
    "\n",
    "regressor.fit(X_train,y_train)\n",
    "regressor.score(X_test,y_test)"
   ]
  },
  {
   "cell_type": "code",
   "execution_count": null,
   "metadata": {},
   "outputs": [],
   "source": []
  },
  {
   "cell_type": "code",
   "execution_count": 124,
   "metadata": {},
   "outputs": [
    {
     "name": "stdout",
     "output_type": "stream",
     "text": [
      "Model: \"sequential\"\n",
      "_________________________________________________________________\n",
      "Layer (type)                 Output Shape              Param #   \n",
      "=================================================================\n",
      "dense (Dense)                (None, 20)                160       \n",
      "_________________________________________________________________\n",
      "dense_1 (Dense)              (None, 14)                294       \n",
      "_________________________________________________________________\n",
      "dense_2 (Dense)              (None, 8)                 120       \n",
      "_________________________________________________________________\n",
      "dense_3 (Dense)              (None, 1)                 9         \n",
      "=================================================================\n",
      "Total params: 583\n",
      "Trainable params: 583\n",
      "Non-trainable params: 0\n",
      "_________________________________________________________________\n"
     ]
    }
   ],
   "source": [
    "#ANN\n",
    "\n",
    "X = supernovae_df[['optical_depth','max_exp_vel','emergent_flux','mass_ni_56', 'total_mass','mass_dist_encoding','rad_dist_encoding']]\n",
    "y = supernovae_df[['explosion_energy']] \n",
    "\n",
    "X_train, X_test, y_train, y_test = train_test_split(X, y, test_size = 0.25, random_state=75)\n",
    " \n",
    "model = Sequential()\n",
    "model.add(Dense(20, input_dim=7, kernel_initializer='he_uniform', activation='relu'))\n",
    "model.add(Dense(14, kernel_initializer='he_uniform', activation='relu'))\n",
    "model.add(Dense(8, kernel_initializer='he_uniform', activation='relu'))\n",
    "model.add(Dense(1, activation='sigmoid'))\n",
    "model.compile(loss='mae', optimizer='adam')\n",
    " \n",
    "model.summary()"
   ]
  },
  {
   "cell_type": "code",
   "execution_count": 125,
   "metadata": {},
   "outputs": [
    {
     "name": "stdout",
     "output_type": "stream",
     "text": [
      "Epoch 1/500\n",
      "12/12 [==============================] - 1s 72ms/step - loss: 0.8687 - val_loss: 0.7735\n",
      "Epoch 2/500\n",
      "12/12 [==============================] - 0s 4ms/step - loss: 0.7335 - val_loss: 0.6669\n",
      "Epoch 3/500\n",
      "12/12 [==============================] - 0s 4ms/step - loss: 0.6679 - val_loss: 0.6159\n",
      "Epoch 4/500\n",
      "12/12 [==============================] - 0s 4ms/step - loss: 0.6568 - val_loss: 0.6144\n",
      "Epoch 5/500\n",
      "12/12 [==============================] - 0s 3ms/step - loss: 0.6339 - val_loss: 0.6141\n",
      "Epoch 6/500\n",
      "12/12 [==============================] - 0s 3ms/step - loss: 0.6189 - val_loss: 0.6142\n",
      "Epoch 7/500\n",
      "12/12 [==============================] - 0s 3ms/step - loss: 0.6024 - val_loss: 0.6142\n",
      "Epoch 8/500\n",
      "12/12 [==============================] - 0s 3ms/step - loss: 0.6418 - val_loss: 0.6142\n",
      "Epoch 9/500\n",
      "12/12 [==============================] - 0s 3ms/step - loss: 0.6228 - val_loss: 0.6143\n",
      "Epoch 10/500\n",
      "12/12 [==============================] - 0s 3ms/step - loss: 0.6547 - val_loss: 0.6144\n",
      "Epoch 11/500\n",
      "12/12 [==============================] - 0s 3ms/step - loss: 0.6338 - val_loss: 0.6144\n",
      "Epoch 12/500\n",
      "12/12 [==============================] - 0s 3ms/step - loss: 0.6522 - val_loss: 0.6145\n",
      "Epoch 13/500\n",
      "12/12 [==============================] - 0s 3ms/step - loss: 0.6178 - val_loss: 0.6145\n",
      "Epoch 14/500\n",
      "12/12 [==============================] - 0s 3ms/step - loss: 0.6390 - val_loss: 0.6146\n",
      "Epoch 15/500\n",
      "12/12 [==============================] - 0s 4ms/step - loss: 0.6265 - val_loss: 0.6147\n",
      "Epoch 16/500\n",
      "12/12 [==============================] - 0s 4ms/step - loss: 0.6446 - val_loss: 0.6147\n",
      "Epoch 17/500\n",
      "12/12 [==============================] - 0s 4ms/step - loss: 0.6272 - val_loss: 0.6149\n",
      "Epoch 18/500\n",
      "12/12 [==============================] - 0s 3ms/step - loss: 0.6236 - val_loss: 0.6149\n",
      "Epoch 19/500\n",
      "12/12 [==============================] - 0s 3ms/step - loss: 0.6128 - val_loss: 0.6150\n",
      "Epoch 20/500\n",
      "12/12 [==============================] - 0s 4ms/step - loss: 0.6222 - val_loss: 0.6150\n",
      "Epoch 21/500\n",
      "12/12 [==============================] - 0s 4ms/step - loss: 0.6491 - val_loss: 0.6150\n",
      "Epoch 22/500\n",
      "12/12 [==============================] - 0s 4ms/step - loss: 0.6347 - val_loss: 0.6151\n",
      "Epoch 23/500\n",
      "12/12 [==============================] - 0s 4ms/step - loss: 0.6198 - val_loss: 0.6152\n",
      "Epoch 24/500\n",
      "12/12 [==============================] - 0s 3ms/step - loss: 0.6274 - val_loss: 0.6152\n",
      "Epoch 25/500\n",
      "12/12 [==============================] - 0s 3ms/step - loss: 0.6175 - val_loss: 0.6153\n",
      "Epoch 26/500\n",
      "12/12 [==============================] - 0s 3ms/step - loss: 0.6374 - val_loss: 0.6153\n",
      "Epoch 27/500\n",
      "12/12 [==============================] - 0s 3ms/step - loss: 0.6316 - val_loss: 0.6154\n",
      "Epoch 28/500\n",
      "12/12 [==============================] - 0s 3ms/step - loss: 0.6358 - val_loss: 0.6154\n",
      "Epoch 29/500\n",
      "12/12 [==============================] - 0s 3ms/step - loss: 0.6107 - val_loss: 0.6156\n",
      "Epoch 30/500\n",
      "12/12 [==============================] - 0s 3ms/step - loss: 0.6314 - val_loss: 0.6156\n",
      "Epoch 31/500\n",
      "12/12 [==============================] - 0s 3ms/step - loss: 0.6235 - val_loss: 0.6157\n",
      "Epoch 32/500\n",
      "12/12 [==============================] - 0s 3ms/step - loss: 0.6456 - val_loss: 0.6157\n",
      "Epoch 33/500\n",
      "12/12 [==============================] - 0s 3ms/step - loss: 0.6238 - val_loss: 0.6158\n",
      "Epoch 34/500\n",
      "12/12 [==============================] - 0s 3ms/step - loss: 0.6478 - val_loss: 0.6158\n",
      "Epoch 35/500\n",
      "12/12 [==============================] - 0s 3ms/step - loss: 0.6095 - val_loss: 0.6162\n",
      "Epoch 36/500\n",
      "12/12 [==============================] - 0s 3ms/step - loss: 0.6103 - val_loss: 0.6161\n",
      "Epoch 37/500\n",
      "12/12 [==============================] - 0s 4ms/step - loss: 0.6704 - val_loss: 0.6159\n",
      "Epoch 38/500\n",
      "12/12 [==============================] - 0s 4ms/step - loss: 0.6428 - val_loss: 0.6160\n",
      "Epoch 39/500\n",
      "12/12 [==============================] - 0s 4ms/step - loss: 0.6332 - val_loss: 0.6162\n",
      "Epoch 40/500\n",
      "12/12 [==============================] - 0s 3ms/step - loss: 0.5810 - val_loss: 0.6164\n",
      "Epoch 41/500\n",
      "12/12 [==============================] - 0s 3ms/step - loss: 0.6326 - val_loss: 0.6162\n",
      "Epoch 42/500\n",
      "12/12 [==============================] - 0s 3ms/step - loss: 0.5955 - val_loss: 0.6163\n",
      "Epoch 43/500\n",
      "12/12 [==============================] - 0s 3ms/step - loss: 0.6345 - val_loss: 0.6161\n",
      "Epoch 44/500\n",
      "12/12 [==============================] - 0s 3ms/step - loss: 0.6067 - val_loss: 0.6162\n",
      "Epoch 45/500\n",
      "12/12 [==============================] - 0s 3ms/step - loss: 0.6266 - val_loss: 0.6163\n",
      "Epoch 46/500\n",
      "12/12 [==============================] - 0s 3ms/step - loss: 0.6363 - val_loss: 0.6163\n",
      "Epoch 47/500\n",
      "12/12 [==============================] - 0s 3ms/step - loss: 0.6479 - val_loss: 0.6163\n",
      "Epoch 48/500\n",
      "12/12 [==============================] - 0s 4ms/step - loss: 0.6492 - val_loss: 0.6163\n",
      "Epoch 49/500\n",
      "12/12 [==============================] - 0s 4ms/step - loss: 0.6661 - val_loss: 0.6164\n",
      "Epoch 50/500\n",
      "12/12 [==============================] - 0s 4ms/step - loss: 0.6421 - val_loss: 0.6166\n",
      "Epoch 51/500\n",
      "12/12 [==============================] - 0s 3ms/step - loss: 0.6625 - val_loss: 0.6165\n",
      "Epoch 52/500\n",
      "12/12 [==============================] - 0s 4ms/step - loss: 0.6658 - val_loss: 0.6165\n",
      "Epoch 53/500\n",
      "12/12 [==============================] - 0s 3ms/step - loss: 0.6154 - val_loss: 0.6168\n",
      "Epoch 54/500\n",
      "12/12 [==============================] - 0s 3ms/step - loss: 0.6312 - val_loss: 0.6169\n",
      "Epoch 55/500\n",
      "12/12 [==============================] - 0s 3ms/step - loss: 0.6201 - val_loss: 0.6169\n",
      "Epoch 56/500\n",
      "12/12 [==============================] - 0s 4ms/step - loss: 0.5930 - val_loss: 0.6170\n",
      "Epoch 57/500\n",
      "12/12 [==============================] - 0s 3ms/step - loss: 0.6370 - val_loss: 0.6166\n",
      "Epoch 58/500\n",
      "12/12 [==============================] - 0s 3ms/step - loss: 0.6523 - val_loss: 0.6166\n",
      "Epoch 59/500\n",
      "12/12 [==============================] - 0s 3ms/step - loss: 0.6292 - val_loss: 0.6167\n",
      "Epoch 60/500\n",
      "12/12 [==============================] - 0s 3ms/step - loss: 0.5996 - val_loss: 0.6169\n",
      "Epoch 61/500\n",
      "12/12 [==============================] - 0s 3ms/step - loss: 0.6263 - val_loss: 0.6170\n",
      "Epoch 62/500\n",
      "12/12 [==============================] - 0s 4ms/step - loss: 0.6253 - val_loss: 0.6170\n",
      "Epoch 63/500\n",
      "12/12 [==============================] - 0s 4ms/step - loss: 0.6327 - val_loss: 0.6171\n",
      "Epoch 64/500\n",
      "12/12 [==============================] - 0s 4ms/step - loss: 0.5887 - val_loss: 0.6173\n",
      "Epoch 65/500\n",
      "12/12 [==============================] - 0s 3ms/step - loss: 0.6507 - val_loss: 0.6167\n",
      "Epoch 66/500\n",
      "12/12 [==============================] - 0s 3ms/step - loss: 0.6330 - val_loss: 0.6168\n",
      "Epoch 67/500\n",
      "12/12 [==============================] - 0s 3ms/step - loss: 0.6366 - val_loss: 0.6171\n",
      "Epoch 68/500\n",
      "12/12 [==============================] - 0s 3ms/step - loss: 0.6432 - val_loss: 0.6171\n",
      "Epoch 69/500\n",
      "12/12 [==============================] - 0s 3ms/step - loss: 0.6221 - val_loss: 0.6174\n",
      "Epoch 70/500\n",
      "12/12 [==============================] - 0s 3ms/step - loss: 0.6460 - val_loss: 0.6174\n",
      "Epoch 71/500\n",
      "12/12 [==============================] - 0s 3ms/step - loss: 0.6121 - val_loss: 0.6173\n",
      "Epoch 72/500\n",
      "12/12 [==============================] - 0s 3ms/step - loss: 0.6148 - val_loss: 0.6175\n",
      "Epoch 73/500\n",
      "12/12 [==============================] - 0s 3ms/step - loss: 0.6305 - val_loss: 0.6174\n",
      "Epoch 74/500\n",
      "12/12 [==============================] - 0s 3ms/step - loss: 0.6227 - val_loss: 0.6176\n",
      "Epoch 75/500\n",
      "12/12 [==============================] - 0s 3ms/step - loss: 0.6196 - val_loss: 0.6176\n",
      "Epoch 76/500\n",
      "12/12 [==============================] - 0s 4ms/step - loss: 0.6186 - val_loss: 0.6175\n",
      "Epoch 77/500\n",
      "12/12 [==============================] - 0s 4ms/step - loss: 0.6328 - val_loss: 0.6174\n",
      "Epoch 78/500\n",
      "12/12 [==============================] - 0s 3ms/step - loss: 0.6232 - val_loss: 0.6177\n",
      "Epoch 79/500\n",
      "12/12 [==============================] - 0s 3ms/step - loss: 0.6580 - val_loss: 0.6175\n",
      "Epoch 80/500\n",
      "12/12 [==============================] - 0s 3ms/step - loss: 0.6207 - val_loss: 0.6176\n",
      "Epoch 81/500\n",
      "12/12 [==============================] - 0s 3ms/step - loss: 0.6560 - val_loss: 0.6174\n",
      "Epoch 82/500\n",
      "12/12 [==============================] - 0s 3ms/step - loss: 0.6279 - val_loss: 0.6175\n",
      "Epoch 83/500\n",
      "12/12 [==============================] - 0s 3ms/step - loss: 0.6445 - val_loss: 0.6180\n",
      "Epoch 84/500\n",
      "12/12 [==============================] - 0s 3ms/step - loss: 0.5805 - val_loss: 0.6183\n",
      "Epoch 85/500\n",
      "12/12 [==============================] - 0s 3ms/step - loss: 0.6237 - val_loss: 0.6176\n",
      "Epoch 86/500\n",
      "12/12 [==============================] - 0s 4ms/step - loss: 0.6109 - val_loss: 0.6173\n",
      "Epoch 87/500\n",
      "12/12 [==============================] - 0s 3ms/step - loss: 0.6021 - val_loss: 0.6175\n",
      "Epoch 88/500\n",
      "12/12 [==============================] - 0s 3ms/step - loss: 0.6398 - val_loss: 0.6175\n",
      "Epoch 89/500\n",
      "12/12 [==============================] - 0s 4ms/step - loss: 0.6476 - val_loss: 0.6175\n",
      "Epoch 90/500\n",
      "12/12 [==============================] - 0s 4ms/step - loss: 0.6391 - val_loss: 0.6177\n",
      "Epoch 91/500\n",
      "12/12 [==============================] - 0s 3ms/step - loss: 0.6289 - val_loss: 0.6181\n",
      "Epoch 92/500\n",
      "12/12 [==============================] - 0s 3ms/step - loss: 0.5905 - val_loss: 0.6182\n",
      "Epoch 93/500\n",
      "12/12 [==============================] - 0s 3ms/step - loss: 0.6494 - val_loss: 0.6176\n",
      "Epoch 94/500\n",
      "12/12 [==============================] - 0s 3ms/step - loss: 0.6216 - val_loss: 0.6178\n",
      "Epoch 95/500\n",
      "12/12 [==============================] - 0s 3ms/step - loss: 0.5865 - val_loss: 0.6180\n",
      "Epoch 96/500\n",
      "12/12 [==============================] - 0s 3ms/step - loss: 0.6043 - val_loss: 0.6181\n",
      "Epoch 97/500\n",
      "12/12 [==============================] - 0s 3ms/step - loss: 0.6305 - val_loss: 0.6179\n",
      "Epoch 98/500\n",
      "12/12 [==============================] - 0s 3ms/step - loss: 0.6074 - val_loss: 0.6182\n",
      "Epoch 99/500\n",
      "12/12 [==============================] - 0s 3ms/step - loss: 0.6429 - val_loss: 0.6179\n",
      "Epoch 100/500\n",
      "12/12 [==============================] - 0s 4ms/step - loss: 0.6615 - val_loss: 0.6182\n",
      "Epoch 101/500\n",
      "12/12 [==============================] - 0s 4ms/step - loss: 0.6597 - val_loss: 0.6184\n",
      "Epoch 102/500\n",
      "12/12 [==============================] - 0s 3ms/step - loss: 0.6341 - val_loss: 0.6183\n",
      "Epoch 103/500\n",
      "12/12 [==============================] - 0s 3ms/step - loss: 0.6292 - val_loss: 0.6187\n",
      "Epoch 104/500\n",
      "12/12 [==============================] - 0s 4ms/step - loss: 0.6447 - val_loss: 0.6183\n",
      "Epoch 105/500\n",
      "12/12 [==============================] - 0s 3ms/step - loss: 0.6093 - val_loss: 0.6190\n",
      "Epoch 106/500\n",
      "12/12 [==============================] - 0s 3ms/step - loss: 0.6129 - val_loss: 0.6181\n",
      "Epoch 107/500\n",
      "12/12 [==============================] - 0s 3ms/step - loss: 0.6533 - val_loss: 0.6179\n",
      "Epoch 108/500\n",
      "12/12 [==============================] - 0s 3ms/step - loss: 0.6500 - val_loss: 0.6181\n",
      "Epoch 109/500\n",
      "12/12 [==============================] - 0s 3ms/step - loss: 0.6447 - val_loss: 0.6182\n",
      "Epoch 110/500\n",
      "12/12 [==============================] - 0s 3ms/step - loss: 0.6244 - val_loss: 0.6186\n",
      "Epoch 111/500\n",
      "12/12 [==============================] - 0s 3ms/step - loss: 0.6032 - val_loss: 0.6185\n",
      "Epoch 112/500\n",
      "12/12 [==============================] - 0s 3ms/step - loss: 0.6166 - val_loss: 0.6186\n",
      "Epoch 113/500\n",
      "12/12 [==============================] - 0s 4ms/step - loss: 0.6285 - val_loss: 0.6186\n",
      "Epoch 114/500\n",
      "12/12 [==============================] - 0s 4ms/step - loss: 0.5934 - val_loss: 0.6190\n",
      "Epoch 115/500\n",
      "12/12 [==============================] - 0s 4ms/step - loss: 0.5880 - val_loss: 0.6185\n",
      "Epoch 116/500\n",
      "12/12 [==============================] - 0s 4ms/step - loss: 0.6004 - val_loss: 0.6185\n",
      "Epoch 117/500\n",
      "12/12 [==============================] - 0s 4ms/step - loss: 0.6283 - val_loss: 0.6184\n",
      "Epoch 118/500\n",
      "12/12 [==============================] - 0s 3ms/step - loss: 0.6074 - val_loss: 0.6187\n",
      "Epoch 119/500\n",
      "12/12 [==============================] - 0s 3ms/step - loss: 0.6354 - val_loss: 0.6189\n",
      "Epoch 120/500\n",
      "12/12 [==============================] - 0s 3ms/step - loss: 0.6364 - val_loss: 0.6189\n",
      "Epoch 121/500\n",
      "12/12 [==============================] - 0s 3ms/step - loss: 0.6025 - val_loss: 0.6191\n",
      "Epoch 122/500\n",
      "12/12 [==============================] - 0s 3ms/step - loss: 0.6176 - val_loss: 0.6185\n",
      "Epoch 123/500\n",
      "12/12 [==============================] - 0s 3ms/step - loss: 0.6339 - val_loss: 0.6181\n",
      "Epoch 124/500\n",
      "12/12 [==============================] - 0s 3ms/step - loss: 0.6245 - val_loss: 0.6184\n",
      "Epoch 125/500\n",
      "12/12 [==============================] - 0s 3ms/step - loss: 0.6233 - val_loss: 0.6188\n",
      "Epoch 126/500\n",
      "12/12 [==============================] - 0s 3ms/step - loss: 0.6265 - val_loss: 0.6191\n",
      "Epoch 127/500\n",
      "12/12 [==============================] - 0s 4ms/step - loss: 0.6456 - val_loss: 0.6191\n",
      "Epoch 128/500\n",
      "12/12 [==============================] - 0s 4ms/step - loss: 0.6259 - val_loss: 0.6190\n",
      "Epoch 129/500\n",
      "12/12 [==============================] - 0s 4ms/step - loss: 0.6404 - val_loss: 0.6190\n",
      "Epoch 130/500\n",
      "12/12 [==============================] - 0s 3ms/step - loss: 0.5950 - val_loss: 0.6192\n",
      "Epoch 131/500\n",
      "12/12 [==============================] - 0s 4ms/step - loss: 0.6597 - val_loss: 0.6186\n",
      "Epoch 132/500\n",
      "12/12 [==============================] - 0s 3ms/step - loss: 0.6542 - val_loss: 0.6186\n",
      "Epoch 133/500\n",
      "12/12 [==============================] - 0s 3ms/step - loss: 0.6240 - val_loss: 0.6192\n",
      "Epoch 134/500\n",
      "12/12 [==============================] - 0s 3ms/step - loss: 0.6557 - val_loss: 0.6192\n",
      "Epoch 135/500\n",
      "12/12 [==============================] - 0s 3ms/step - loss: 0.6234 - val_loss: 0.6193\n",
      "Epoch 136/500\n",
      "12/12 [==============================] - 0s 3ms/step - loss: 0.6364 - val_loss: 0.6190\n",
      "Epoch 137/500\n",
      "12/12 [==============================] - 0s 3ms/step - loss: 0.6031 - val_loss: 0.6196\n",
      "Epoch 138/500\n",
      "12/12 [==============================] - 0s 3ms/step - loss: 0.6141 - val_loss: 0.6193\n",
      "Epoch 139/500\n",
      "12/12 [==============================] - 0s 3ms/step - loss: 0.6573 - val_loss: 0.6190\n",
      "Epoch 140/500\n",
      "12/12 [==============================] - 0s 3ms/step - loss: 0.6289 - val_loss: 0.6195\n",
      "Epoch 141/500\n",
      "12/12 [==============================] - 0s 3ms/step - loss: 0.6556 - val_loss: 0.6196\n",
      "Epoch 142/500\n",
      "12/12 [==============================] - 0s 3ms/step - loss: 0.6198 - val_loss: 0.6193\n",
      "Epoch 143/500\n",
      "12/12 [==============================] - 0s 4ms/step - loss: 0.5937 - val_loss: 0.6193\n",
      "Epoch 144/500\n",
      "12/12 [==============================] - 0s 4ms/step - loss: 0.6232 - val_loss: 0.6195\n",
      "Epoch 145/500\n",
      "12/12 [==============================] - 0s 4ms/step - loss: 0.6375 - val_loss: 0.6194\n",
      "Epoch 146/500\n",
      "12/12 [==============================] - 0s 4ms/step - loss: 0.6114 - val_loss: 0.6202\n",
      "Epoch 147/500\n",
      "12/12 [==============================] - 0s 4ms/step - loss: 0.6220 - val_loss: 0.6193\n",
      "Epoch 148/500\n",
      "12/12 [==============================] - 0s 4ms/step - loss: 0.6200 - val_loss: 0.6198\n",
      "Epoch 149/500\n",
      "12/12 [==============================] - 0s 3ms/step - loss: 0.6469 - val_loss: 0.6199\n",
      "Epoch 150/500\n",
      "12/12 [==============================] - 0s 3ms/step - loss: 0.5981 - val_loss: 0.6198\n",
      "Epoch 151/500\n",
      "12/12 [==============================] - 0s 3ms/step - loss: 0.6091 - val_loss: 0.6199\n",
      "Epoch 152/500\n",
      "12/12 [==============================] - 0s 3ms/step - loss: 0.6369 - val_loss: 0.6192\n",
      "Epoch 153/500\n",
      "12/12 [==============================] - 0s 3ms/step - loss: 0.6425 - val_loss: 0.6194\n",
      "Epoch 154/500\n",
      "12/12 [==============================] - 0s 3ms/step - loss: 0.6341 - val_loss: 0.6198\n",
      "Epoch 155/500\n",
      "12/12 [==============================] - 0s 3ms/step - loss: 0.6195 - val_loss: 0.6201\n",
      "Epoch 156/500\n",
      "12/12 [==============================] - 0s 3ms/step - loss: 0.6301 - val_loss: 0.6197\n",
      "Epoch 157/500\n",
      "12/12 [==============================] - 0s 3ms/step - loss: 0.6205 - val_loss: 0.6199\n",
      "Epoch 158/500\n",
      "12/12 [==============================] - 0s 3ms/step - loss: 0.6038 - val_loss: 0.6206\n",
      "Epoch 159/500\n",
      "12/12 [==============================] - 0s 3ms/step - loss: 0.6196 - val_loss: 0.6199\n",
      "Epoch 160/500\n",
      "12/12 [==============================] - 0s 3ms/step - loss: 0.6510 - val_loss: 0.6198\n",
      "Epoch 161/500\n",
      "12/12 [==============================] - 0s 3ms/step - loss: 0.6217 - val_loss: 0.6200\n",
      "Epoch 162/500\n",
      "12/12 [==============================] - 0s 3ms/step - loss: 0.6457 - val_loss: 0.6202\n",
      "Epoch 163/500\n",
      "12/12 [==============================] - 0s 3ms/step - loss: 0.6049 - val_loss: 0.6202\n",
      "Epoch 164/500\n",
      "12/12 [==============================] - 0s 3ms/step - loss: 0.6187 - val_loss: 0.6200\n",
      "Epoch 165/500\n",
      "12/12 [==============================] - 0s 3ms/step - loss: 0.6251 - val_loss: 0.6200\n",
      "Epoch 166/500\n",
      "12/12 [==============================] - 0s 3ms/step - loss: 0.6204 - val_loss: 0.6207\n",
      "Epoch 167/500\n",
      "12/12 [==============================] - 0s 4ms/step - loss: 0.6555 - val_loss: 0.6193\n",
      "Epoch 168/500\n",
      "12/12 [==============================] - 0s 4ms/step - loss: 0.6676 - val_loss: 0.6195\n",
      "Epoch 169/500\n",
      "12/12 [==============================] - 0s 3ms/step - loss: 0.5924 - val_loss: 0.6204\n",
      "Epoch 170/500\n",
      "12/12 [==============================] - 0s 4ms/step - loss: 0.6284 - val_loss: 0.6203\n",
      "Epoch 171/500\n",
      "12/12 [==============================] - 0s 4ms/step - loss: 0.6156 - val_loss: 0.6208\n",
      "Epoch 172/500\n",
      "12/12 [==============================] - 0s 4ms/step - loss: 0.6478 - val_loss: 0.6203\n",
      "Epoch 173/500\n",
      "12/12 [==============================] - 0s 4ms/step - loss: 0.6098 - val_loss: 0.6206\n",
      "Epoch 174/500\n",
      "12/12 [==============================] - 0s 3ms/step - loss: 0.6456 - val_loss: 0.6200\n",
      "Epoch 175/500\n",
      "12/12 [==============================] - 0s 3ms/step - loss: 0.6030 - val_loss: 0.6213\n",
      "Epoch 176/500\n",
      "12/12 [==============================] - 0s 4ms/step - loss: 0.6276 - val_loss: 0.6207\n",
      "Epoch 177/500\n",
      "12/12 [==============================] - 0s 4ms/step - loss: 0.6220 - val_loss: 0.6207\n",
      "Epoch 178/500\n",
      "12/12 [==============================] - 0s 4ms/step - loss: 0.6198 - val_loss: 0.6207\n",
      "Epoch 179/500\n",
      "12/12 [==============================] - 0s 3ms/step - loss: 0.6656 - val_loss: 0.6198\n",
      "Epoch 180/500\n",
      "12/12 [==============================] - 0s 3ms/step - loss: 0.5952 - val_loss: 0.6210\n",
      "Epoch 181/500\n",
      "12/12 [==============================] - 0s 3ms/step - loss: 0.6454 - val_loss: 0.6202\n",
      "Epoch 182/500\n",
      "12/12 [==============================] - 0s 3ms/step - loss: 0.6177 - val_loss: 0.6206\n",
      "Epoch 183/500\n",
      "12/12 [==============================] - 0s 3ms/step - loss: 0.6257 - val_loss: 0.6206\n",
      "Epoch 184/500\n",
      "12/12 [==============================] - 0s 3ms/step - loss: 0.6373 - val_loss: 0.6210\n",
      "Epoch 185/500\n",
      "12/12 [==============================] - 0s 3ms/step - loss: 0.6362 - val_loss: 0.6204\n",
      "Epoch 186/500\n",
      "12/12 [==============================] - 0s 3ms/step - loss: 0.6084 - val_loss: 0.6208\n",
      "Epoch 187/500\n",
      "12/12 [==============================] - 0s 3ms/step - loss: 0.6405 - val_loss: 0.6204\n",
      "Epoch 188/500\n",
      "12/12 [==============================] - 0s 3ms/step - loss: 0.6266 - val_loss: 0.6211\n",
      "Epoch 189/500\n",
      "12/12 [==============================] - 0s 3ms/step - loss: 0.6351 - val_loss: 0.6209\n",
      "Epoch 190/500\n",
      "12/12 [==============================] - 0s 4ms/step - loss: 0.6402 - val_loss: 0.6217\n",
      "Epoch 191/500\n",
      "12/12 [==============================] - 0s 3ms/step - loss: 0.6260 - val_loss: 0.6217\n",
      "Epoch 192/500\n",
      "12/12 [==============================] - 0s 3ms/step - loss: 0.6306 - val_loss: 0.6209\n",
      "Epoch 193/500\n",
      "12/12 [==============================] - 0s 3ms/step - loss: 0.6350 - val_loss: 0.6215\n",
      "Epoch 194/500\n",
      "12/12 [==============================] - 0s 3ms/step - loss: 0.6894 - val_loss: 0.6206\n",
      "Epoch 195/500\n",
      "12/12 [==============================] - 0s 3ms/step - loss: 0.6579 - val_loss: 0.6219\n",
      "Epoch 196/500\n",
      "12/12 [==============================] - 0s 3ms/step - loss: 0.6323 - val_loss: 0.6220\n",
      "Epoch 197/500\n",
      "12/12 [==============================] - 0s 3ms/step - loss: 0.5939 - val_loss: 0.6218\n",
      "Epoch 198/500\n",
      "12/12 [==============================] - 0s 4ms/step - loss: 0.6162 - val_loss: 0.6205\n",
      "Epoch 199/500\n",
      "12/12 [==============================] - 0s 4ms/step - loss: 0.6155 - val_loss: 0.6209\n",
      "Epoch 200/500\n",
      "12/12 [==============================] - 0s 4ms/step - loss: 0.6087 - val_loss: 0.6212\n",
      "Epoch 201/500\n",
      "12/12 [==============================] - 0s 3ms/step - loss: 0.6211 - val_loss: 0.6217\n",
      "Epoch 202/500\n",
      "12/12 [==============================] - 0s 3ms/step - loss: 0.5927 - val_loss: 0.6223\n",
      "Epoch 203/500\n",
      "12/12 [==============================] - 0s 3ms/step - loss: 0.6398 - val_loss: 0.6213\n",
      "Epoch 204/500\n",
      "12/12 [==============================] - 0s 3ms/step - loss: 0.6297 - val_loss: 0.6218\n",
      "Epoch 205/500\n",
      "12/12 [==============================] - 0s 3ms/step - loss: 0.6155 - val_loss: 0.6219\n",
      "Epoch 206/500\n",
      "12/12 [==============================] - 0s 3ms/step - loss: 0.6611 - val_loss: 0.6217\n",
      "Epoch 207/500\n",
      "12/12 [==============================] - 0s 3ms/step - loss: 0.6015 - val_loss: 0.6231\n",
      "Epoch 208/500\n",
      "12/12 [==============================] - 0s 3ms/step - loss: 0.6320 - val_loss: 0.6217\n",
      "Epoch 209/500\n",
      "12/12 [==============================] - 0s 3ms/step - loss: 0.6441 - val_loss: 0.6211\n",
      "Epoch 210/500\n",
      "12/12 [==============================] - 0s 3ms/step - loss: 0.6194 - val_loss: 0.6218\n",
      "Epoch 211/500\n",
      "12/12 [==============================] - 0s 3ms/step - loss: 0.6389 - val_loss: 0.6224\n",
      "Epoch 212/500\n",
      "12/12 [==============================] - 0s 4ms/step - loss: 0.6275 - val_loss: 0.6220\n",
      "Epoch 213/500\n",
      "12/12 [==============================] - 0s 4ms/step - loss: 0.6050 - val_loss: 0.6225\n",
      "Epoch 214/500\n",
      "12/12 [==============================] - 0s 3ms/step - loss: 0.6165 - val_loss: 0.6216\n",
      "Epoch 215/500\n",
      "12/12 [==============================] - 0s 3ms/step - loss: 0.6103 - val_loss: 0.6223\n",
      "Epoch 216/500\n",
      "12/12 [==============================] - 0s 3ms/step - loss: 0.6213 - val_loss: 0.6227\n",
      "Epoch 217/500\n",
      "12/12 [==============================] - 0s 3ms/step - loss: 0.6359 - val_loss: 0.6222\n",
      "Epoch 218/500\n",
      "12/12 [==============================] - 0s 3ms/step - loss: 0.6140 - val_loss: 0.6232\n",
      "Epoch 219/500\n",
      "12/12 [==============================] - 0s 3ms/step - loss: 0.6160 - val_loss: 0.6228\n",
      "Epoch 220/500\n",
      "12/12 [==============================] - 0s 3ms/step - loss: 0.6367 - val_loss: 0.6209\n",
      "Epoch 221/500\n",
      "12/12 [==============================] - 0s 3ms/step - loss: 0.6550 - val_loss: 0.6219\n",
      "Epoch 222/500\n",
      "12/12 [==============================] - 0s 3ms/step - loss: 0.6286 - val_loss: 0.6228\n",
      "Epoch 223/500\n",
      "12/12 [==============================] - 0s 3ms/step - loss: 0.6028 - val_loss: 0.6235\n",
      "Epoch 224/500\n",
      "12/12 [==============================] - 0s 3ms/step - loss: 0.6521 - val_loss: 0.6214\n",
      "Epoch 225/500\n",
      "12/12 [==============================] - 0s 3ms/step - loss: 0.6368 - val_loss: 0.6228\n",
      "Epoch 226/500\n",
      "12/12 [==============================] - 0s 3ms/step - loss: 0.5924 - val_loss: 0.6236\n",
      "Epoch 227/500\n",
      "12/12 [==============================] - 0s 3ms/step - loss: 0.6385 - val_loss: 0.6213\n",
      "Epoch 228/500\n",
      "12/12 [==============================] - 0s 3ms/step - loss: 0.6313 - val_loss: 0.6217\n",
      "Epoch 229/500\n",
      "12/12 [==============================] - 0s 3ms/step - loss: 0.6192 - val_loss: 0.6231\n",
      "Epoch 230/500\n",
      "12/12 [==============================] - 0s 3ms/step - loss: 0.6679 - val_loss: 0.6228\n",
      "Epoch 231/500\n",
      "12/12 [==============================] - 0s 3ms/step - loss: 0.6490 - val_loss: 0.6229\n",
      "Epoch 232/500\n",
      "12/12 [==============================] - 0s 3ms/step - loss: 0.6253 - val_loss: 0.6252\n",
      "Epoch 233/500\n",
      "12/12 [==============================] - 0s 3ms/step - loss: 0.6518 - val_loss: 0.6230\n",
      "Epoch 234/500\n",
      "12/12 [==============================] - 0s 3ms/step - loss: 0.5781 - val_loss: 0.6228\n",
      "Epoch 235/500\n",
      "12/12 [==============================] - 0s 3ms/step - loss: 0.6257 - val_loss: 0.6216\n",
      "Epoch 236/500\n",
      "12/12 [==============================] - 0s 3ms/step - loss: 0.5964 - val_loss: 0.6234\n",
      "Epoch 237/500\n",
      "12/12 [==============================] - 0s 3ms/step - loss: 0.6278 - val_loss: 0.6220\n",
      "Epoch 238/500\n",
      "12/12 [==============================] - 0s 4ms/step - loss: 0.6358 - val_loss: 0.6237\n",
      "Epoch 239/500\n",
      "12/12 [==============================] - 0s 4ms/step - loss: 0.6458 - val_loss: 0.6236\n",
      "Epoch 240/500\n",
      "12/12 [==============================] - 0s 4ms/step - loss: 0.6330 - val_loss: 0.6236\n",
      "Epoch 241/500\n",
      "12/12 [==============================] - 0s 3ms/step - loss: 0.6060 - val_loss: 0.6250\n",
      "Epoch 242/500\n",
      "12/12 [==============================] - 0s 4ms/step - loss: 0.6704 - val_loss: 0.6213\n",
      "Epoch 243/500\n",
      "12/12 [==============================] - 0s 3ms/step - loss: 0.6168 - val_loss: 0.6229\n",
      "Epoch 244/500\n",
      "12/12 [==============================] - 0s 3ms/step - loss: 0.6395 - val_loss: 0.6244\n",
      "Epoch 245/500\n",
      "12/12 [==============================] - 0s 3ms/step - loss: 0.6265 - val_loss: 0.6236\n",
      "Epoch 246/500\n",
      "12/12 [==============================] - 0s 3ms/step - loss: 0.6543 - val_loss: 0.6226\n",
      "Epoch 247/500\n",
      "12/12 [==============================] - 0s 3ms/step - loss: 0.6464 - val_loss: 0.6242\n",
      "Epoch 248/500\n",
      "12/12 [==============================] - 0s 3ms/step - loss: 0.6295 - val_loss: 0.6239\n",
      "Epoch 249/500\n",
      "12/12 [==============================] - 0s 3ms/step - loss: 0.6341 - val_loss: 0.6237\n",
      "Epoch 250/500\n",
      "12/12 [==============================] - 0s 3ms/step - loss: 0.6182 - val_loss: 0.6243\n",
      "Epoch 251/500\n",
      "12/12 [==============================] - 0s 4ms/step - loss: 0.6386 - val_loss: 0.6230\n",
      "Epoch 252/500\n",
      "12/12 [==============================] - 0s 4ms/step - loss: 0.6304 - val_loss: 0.6255\n",
      "Epoch 253/500\n",
      "12/12 [==============================] - 0s 4ms/step - loss: 0.5791 - val_loss: 0.6252\n",
      "Epoch 254/500\n",
      "12/12 [==============================] - 0s 3ms/step - loss: 0.6320 - val_loss: 0.6230\n",
      "Epoch 255/500\n",
      "12/12 [==============================] - 0s 3ms/step - loss: 0.6096 - val_loss: 0.6243\n",
      "Epoch 256/500\n",
      "12/12 [==============================] - 0s 3ms/step - loss: 0.6195 - val_loss: 0.6254\n",
      "Epoch 257/500\n",
      "12/12 [==============================] - 0s 3ms/step - loss: 0.5982 - val_loss: 0.6255\n",
      "Epoch 258/500\n",
      "12/12 [==============================] - 0s 3ms/step - loss: 0.6131 - val_loss: 0.6237\n",
      "Epoch 259/500\n",
      "12/12 [==============================] - 0s 3ms/step - loss: 0.6479 - val_loss: 0.6220\n",
      "Epoch 260/500\n",
      "12/12 [==============================] - 0s 3ms/step - loss: 0.6651 - val_loss: 0.6228\n",
      "Epoch 261/500\n",
      "12/12 [==============================] - 0s 3ms/step - loss: 0.6319 - val_loss: 0.6255\n",
      "Epoch 262/500\n",
      "12/12 [==============================] - 0s 3ms/step - loss: 0.6131 - val_loss: 0.6256\n",
      "Epoch 263/500\n",
      "12/12 [==============================] - 0s 3ms/step - loss: 0.6326 - val_loss: 0.6253\n",
      "Epoch 264/500\n",
      "12/12 [==============================] - 0s 3ms/step - loss: 0.6349 - val_loss: 0.6251\n",
      "Epoch 265/500\n",
      "12/12 [==============================] - 0s 3ms/step - loss: 0.5819 - val_loss: 0.6266\n",
      "Epoch 266/500\n",
      "12/12 [==============================] - 0s 3ms/step - loss: 0.6517 - val_loss: 0.6245\n",
      "Epoch 267/500\n",
      "12/12 [==============================] - 0s 3ms/step - loss: 0.6361 - val_loss: 0.6256\n",
      "Epoch 268/500\n",
      "12/12 [==============================] - 0s 3ms/step - loss: 0.5763 - val_loss: 0.6273\n",
      "Epoch 269/500\n",
      "12/12 [==============================] - 0s 3ms/step - loss: 0.6505 - val_loss: 0.6238\n",
      "Epoch 270/500\n",
      "12/12 [==============================] - 0s 3ms/step - loss: 0.6090 - val_loss: 0.6253\n",
      "Epoch 271/500\n",
      "12/12 [==============================] - 0s 4ms/step - loss: 0.6321 - val_loss: 0.6267\n",
      "Epoch 272/500\n",
      "12/12 [==============================] - 0s 3ms/step - loss: 0.6470 - val_loss: 0.6261\n",
      "Epoch 273/500\n",
      "12/12 [==============================] - 0s 3ms/step - loss: 0.5903 - val_loss: 0.6259\n",
      "Epoch 274/500\n",
      "12/12 [==============================] - 0s 3ms/step - loss: 0.6487 - val_loss: 0.6241\n",
      "Epoch 275/500\n",
      "12/12 [==============================] - 0s 3ms/step - loss: 0.6325 - val_loss: 0.6254\n",
      "Epoch 276/500\n",
      "12/12 [==============================] - 0s 3ms/step - loss: 0.6358 - val_loss: 0.6254\n",
      "Epoch 277/500\n",
      "12/12 [==============================] - 0s 3ms/step - loss: 0.6223 - val_loss: 0.6276\n",
      "Epoch 278/500\n",
      "12/12 [==============================] - 0s 3ms/step - loss: 0.6012 - val_loss: 0.6265\n",
      "Epoch 279/500\n",
      "12/12 [==============================] - 0s 3ms/step - loss: 0.6247 - val_loss: 0.6252\n",
      "Epoch 280/500\n",
      "12/12 [==============================] - 0s 3ms/step - loss: 0.6307 - val_loss: 0.6262\n",
      "Epoch 281/500\n",
      "12/12 [==============================] - 0s 3ms/step - loss: 0.6141 - val_loss: 0.6267\n",
      "Epoch 282/500\n",
      "12/12 [==============================] - 0s 3ms/step - loss: 0.6085 - val_loss: 0.6266\n",
      "Epoch 283/500\n",
      "12/12 [==============================] - 0s 4ms/step - loss: 0.6250 - val_loss: 0.6253\n",
      "Epoch 284/500\n",
      "12/12 [==============================] - 0s 4ms/step - loss: 0.6388 - val_loss: 0.6269\n",
      "Epoch 285/500\n",
      "12/12 [==============================] - 0s 3ms/step - loss: 0.6301 - val_loss: 0.6286\n",
      "Epoch 286/500\n",
      "12/12 [==============================] - 0s 3ms/step - loss: 0.6493 - val_loss: 0.6281\n",
      "Epoch 287/500\n",
      "12/12 [==============================] - 0s 3ms/step - loss: 0.6164 - val_loss: 0.6274\n",
      "Epoch 288/500\n",
      "12/12 [==============================] - 0s 3ms/step - loss: 0.6224 - val_loss: 0.6266\n",
      "Epoch 289/500\n",
      "12/12 [==============================] - 0s 3ms/step - loss: 0.6145 - val_loss: 0.6266\n",
      "Epoch 290/500\n",
      "12/12 [==============================] - 0s 3ms/step - loss: 0.6129 - val_loss: 0.6273\n",
      "Epoch 291/500\n",
      "12/12 [==============================] - 0s 3ms/step - loss: 0.5982 - val_loss: 0.6266\n",
      "Epoch 292/500\n",
      "12/12 [==============================] - 0s 3ms/step - loss: 0.6252 - val_loss: 0.6291\n",
      "Epoch 293/500\n",
      "12/12 [==============================] - 0s 3ms/step - loss: 0.6557 - val_loss: 0.6270\n",
      "Epoch 294/500\n",
      "12/12 [==============================] - 0s 3ms/step - loss: 0.6166 - val_loss: 0.6281\n",
      "Epoch 295/500\n",
      "12/12 [==============================] - 0s 4ms/step - loss: 0.6349 - val_loss: 0.6280\n",
      "Epoch 296/500\n",
      "12/12 [==============================] - 0s 4ms/step - loss: 0.6263 - val_loss: 0.6282\n",
      "Epoch 297/500\n",
      "12/12 [==============================] - 0s 4ms/step - loss: 0.6146 - val_loss: 0.6287\n",
      "Epoch 298/500\n",
      "12/12 [==============================] - 0s 3ms/step - loss: 0.6471 - val_loss: 0.6274\n",
      "Epoch 299/500\n",
      "12/12 [==============================] - 0s 3ms/step - loss: 0.5991 - val_loss: 0.6305\n",
      "Epoch 300/500\n",
      "12/12 [==============================] - 0s 3ms/step - loss: 0.6182 - val_loss: 0.6285\n",
      "Epoch 301/500\n",
      "12/12 [==============================] - 0s 3ms/step - loss: 0.6192 - val_loss: 0.6298\n",
      "Epoch 302/500\n",
      "12/12 [==============================] - 0s 3ms/step - loss: 0.6150 - val_loss: 0.6291\n",
      "Epoch 303/500\n",
      "12/12 [==============================] - 0s 3ms/step - loss: 0.6541 - val_loss: 0.6272\n",
      "Epoch 304/500\n",
      "12/12 [==============================] - 0s 3ms/step - loss: 0.6413 - val_loss: 0.6309\n",
      "Epoch 305/500\n",
      "12/12 [==============================] - 0s 3ms/step - loss: 0.6072 - val_loss: 0.6298\n",
      "Epoch 306/500\n",
      "12/12 [==============================] - 0s 3ms/step - loss: 0.6551 - val_loss: 0.6270\n",
      "Epoch 307/500\n",
      "12/12 [==============================] - 0s 3ms/step - loss: 0.5916 - val_loss: 0.6309\n",
      "Epoch 308/500\n",
      "12/12 [==============================] - 0s 3ms/step - loss: 0.6469 - val_loss: 0.6300\n",
      "Epoch 309/500\n",
      "12/12 [==============================] - 0s 4ms/step - loss: 0.6443 - val_loss: 0.6309\n",
      "Epoch 310/500\n",
      "12/12 [==============================] - 0s 4ms/step - loss: 0.6442 - val_loss: 0.6301\n",
      "Epoch 311/500\n",
      "12/12 [==============================] - 0s 4ms/step - loss: 0.6166 - val_loss: 0.6324\n",
      "Epoch 312/500\n",
      "12/12 [==============================] - 0s 4ms/step - loss: 0.6113 - val_loss: 0.6295\n",
      "Epoch 313/500\n",
      "12/12 [==============================] - 0s 3ms/step - loss: 0.6324 - val_loss: 0.6310\n",
      "Epoch 314/500\n",
      "12/12 [==============================] - 0s 3ms/step - loss: 0.5951 - val_loss: 0.6295\n",
      "Epoch 315/500\n",
      "12/12 [==============================] - 0s 3ms/step - loss: 0.6229 - val_loss: 0.6302\n",
      "Epoch 316/500\n",
      "12/12 [==============================] - 0s 3ms/step - loss: 0.6633 - val_loss: 0.6308\n",
      "Epoch 317/500\n",
      "12/12 [==============================] - 0s 3ms/step - loss: 0.6316 - val_loss: 0.6322\n",
      "Epoch 318/500\n",
      "12/12 [==============================] - 0s 3ms/step - loss: 0.6516 - val_loss: 0.6268\n",
      "Epoch 319/500\n",
      "12/12 [==============================] - 0s 3ms/step - loss: 0.6224 - val_loss: 0.6314\n",
      "Epoch 320/500\n",
      "12/12 [==============================] - 0s 3ms/step - loss: 0.6523 - val_loss: 0.6308\n",
      "Epoch 321/500\n",
      "12/12 [==============================] - 0s 3ms/step - loss: 0.6602 - val_loss: 0.6315\n",
      "Epoch 322/500\n",
      "12/12 [==============================] - 0s 3ms/step - loss: 0.6273 - val_loss: 0.6325\n",
      "Epoch 323/500\n",
      "12/12 [==============================] - 0s 3ms/step - loss: 0.6282 - val_loss: 0.6303\n",
      "Epoch 324/500\n",
      "12/12 [==============================] - 0s 3ms/step - loss: 0.5992 - val_loss: 0.6324\n",
      "Epoch 325/500\n",
      "12/12 [==============================] - 0s 4ms/step - loss: 0.6132 - val_loss: 0.6320\n",
      "Epoch 326/500\n",
      "12/12 [==============================] - 0s 4ms/step - loss: 0.6403 - val_loss: 0.6328\n",
      "Epoch 327/500\n",
      "12/12 [==============================] - 0s 4ms/step - loss: 0.6107 - val_loss: 0.6305\n",
      "Epoch 328/500\n",
      "12/12 [==============================] - 0s 4ms/step - loss: 0.6226 - val_loss: 0.6323\n",
      "Epoch 329/500\n",
      "12/12 [==============================] - 0s 4ms/step - loss: 0.6185 - val_loss: 0.6322\n",
      "Epoch 330/500\n",
      "12/12 [==============================] - 0s 4ms/step - loss: 0.6371 - val_loss: 0.6325\n",
      "Epoch 331/500\n",
      "12/12 [==============================] - 0s 3ms/step - loss: 0.6084 - val_loss: 0.6328\n",
      "Epoch 332/500\n",
      "12/12 [==============================] - 0s 3ms/step - loss: 0.6565 - val_loss: 0.6305\n",
      "Epoch 333/500\n",
      "12/12 [==============================] - 0s 3ms/step - loss: 0.6236 - val_loss: 0.6328\n",
      "Epoch 334/500\n",
      "12/12 [==============================] - 0s 3ms/step - loss: 0.6270 - val_loss: 0.6314\n",
      "Epoch 335/500\n",
      "12/12 [==============================] - 0s 3ms/step - loss: 0.5981 - val_loss: 0.6339\n",
      "Epoch 336/500\n",
      "12/12 [==============================] - 0s 3ms/step - loss: 0.6446 - val_loss: 0.6320\n",
      "Epoch 337/500\n",
      "12/12 [==============================] - 0s 3ms/step - loss: 0.6144 - val_loss: 0.6331\n",
      "Epoch 338/500\n",
      "12/12 [==============================] - 0s 3ms/step - loss: 0.6199 - val_loss: 0.6335\n",
      "Epoch 339/500\n",
      "12/12 [==============================] - 0s 4ms/step - loss: 0.6372 - val_loss: 0.6336\n",
      "Epoch 340/500\n",
      "12/12 [==============================] - 0s 4ms/step - loss: 0.6348 - val_loss: 0.6331\n",
      "Epoch 341/500\n",
      "12/12 [==============================] - 0s 4ms/step - loss: 0.6399 - val_loss: 0.6342\n",
      "Epoch 342/500\n",
      "12/12 [==============================] - 0s 4ms/step - loss: 0.6410 - val_loss: 0.6311\n",
      "Epoch 343/500\n",
      "12/12 [==============================] - 0s 3ms/step - loss: 0.6300 - val_loss: 0.6340\n",
      "Epoch 344/500\n",
      "12/12 [==============================] - 0s 3ms/step - loss: 0.6524 - val_loss: 0.6330\n",
      "Epoch 345/500\n",
      "12/12 [==============================] - 0s 3ms/step - loss: 0.6121 - val_loss: 0.6328\n",
      "Epoch 346/500\n",
      "12/12 [==============================] - ETA: 0s - loss: 0.563 - 0s 3ms/step - loss: 0.5917 - val_loss: 0.6328\n",
      "Epoch 347/500\n",
      "12/12 [==============================] - 0s 3ms/step - loss: 0.6330 - val_loss: 0.6328\n",
      "Epoch 348/500\n",
      "12/12 [==============================] - 0s 3ms/step - loss: 0.6127 - val_loss: 0.6348\n",
      "Epoch 349/500\n",
      "12/12 [==============================] - 0s 3ms/step - loss: 0.5843 - val_loss: 0.6323\n",
      "Epoch 350/500\n",
      "12/12 [==============================] - 0s 3ms/step - loss: 0.6305 - val_loss: 0.6341\n",
      "Epoch 351/500\n",
      "12/12 [==============================] - 0s 3ms/step - loss: 0.6311 - val_loss: 0.6344\n",
      "Epoch 352/500\n",
      "12/12 [==============================] - 0s 3ms/step - loss: 0.6306 - val_loss: 0.6343\n",
      "Epoch 353/500\n",
      "12/12 [==============================] - 0s 3ms/step - loss: 0.6137 - val_loss: 0.6331\n",
      "Epoch 354/500\n",
      "12/12 [==============================] - 0s 3ms/step - loss: 0.6250 - val_loss: 0.6340\n",
      "Epoch 355/500\n",
      "12/12 [==============================] - 0s 4ms/step - loss: 0.6133 - val_loss: 0.6308\n",
      "Epoch 356/500\n",
      "12/12 [==============================] - 0s 4ms/step - loss: 0.6160 - val_loss: 0.6353\n",
      "Epoch 357/500\n",
      "12/12 [==============================] - 0s 4ms/step - loss: 0.6047 - val_loss: 0.6330\n",
      "Epoch 358/500\n",
      "12/12 [==============================] - 0s 4ms/step - loss: 0.6167 - val_loss: 0.6341\n",
      "Epoch 359/500\n",
      "12/12 [==============================] - 0s 4ms/step - loss: 0.6018 - val_loss: 0.6340\n",
      "Epoch 360/500\n",
      "12/12 [==============================] - 0s 4ms/step - loss: 0.6397 - val_loss: 0.6338\n",
      "Epoch 361/500\n",
      "12/12 [==============================] - 0s 4ms/step - loss: 0.6505 - val_loss: 0.6348\n",
      "Epoch 362/500\n",
      "12/12 [==============================] - 0s 4ms/step - loss: 0.6294 - val_loss: 0.6332\n",
      "Epoch 363/500\n",
      "12/12 [==============================] - 0s 3ms/step - loss: 0.6196 - val_loss: 0.6354\n",
      "Epoch 364/500\n",
      "12/12 [==============================] - 0s 3ms/step - loss: 0.6385 - val_loss: 0.6351\n",
      "Epoch 365/500\n",
      "12/12 [==============================] - 0s 3ms/step - loss: 0.5803 - val_loss: 0.6333\n",
      "Epoch 366/500\n",
      "12/12 [==============================] - 0s 3ms/step - loss: 0.5887 - val_loss: 0.6346\n",
      "Epoch 367/500\n",
      "12/12 [==============================] - 0s 3ms/step - loss: 0.6296 - val_loss: 0.6348\n",
      "Epoch 368/500\n",
      "12/12 [==============================] - 0s 3ms/step - loss: 0.6240 - val_loss: 0.6346\n",
      "Epoch 369/500\n",
      "12/12 [==============================] - 0s 3ms/step - loss: 0.6433 - val_loss: 0.6346\n",
      "Epoch 370/500\n",
      "12/12 [==============================] - 0s 3ms/step - loss: 0.6166 - val_loss: 0.6353\n",
      "Epoch 371/500\n",
      "12/12 [==============================] - 0s 4ms/step - loss: 0.6330 - val_loss: 0.6341\n",
      "Epoch 372/500\n",
      "12/12 [==============================] - 0s 4ms/step - loss: 0.6095 - val_loss: 0.6349\n",
      "Epoch 373/500\n",
      "12/12 [==============================] - 0s 4ms/step - loss: 0.6042 - val_loss: 0.6351\n",
      "Epoch 374/500\n",
      "12/12 [==============================] - 0s 5ms/step - loss: 0.6603 - val_loss: 0.6354\n",
      "Epoch 375/500\n",
      "12/12 [==============================] - 0s 3ms/step - loss: 0.6230 - val_loss: 0.6345\n",
      "Epoch 376/500\n",
      "12/12 [==============================] - 0s 3ms/step - loss: 0.6361 - val_loss: 0.6364\n",
      "Epoch 377/500\n",
      "12/12 [==============================] - 0s 3ms/step - loss: 0.6452 - val_loss: 0.6328\n",
      "Epoch 378/500\n",
      "12/12 [==============================] - 0s 3ms/step - loss: 0.6038 - val_loss: 0.6368\n",
      "Epoch 379/500\n",
      "12/12 [==============================] - 0s 3ms/step - loss: 0.6303 - val_loss: 0.6351\n",
      "Epoch 380/500\n",
      "12/12 [==============================] - 0s 3ms/step - loss: 0.6666 - val_loss: 0.6329\n",
      "Epoch 381/500\n",
      "12/12 [==============================] - 0s 3ms/step - loss: 0.6068 - val_loss: 0.6361\n",
      "Epoch 382/500\n",
      "12/12 [==============================] - 0s 3ms/step - loss: 0.6540 - val_loss: 0.6359\n",
      "Epoch 383/500\n",
      "12/12 [==============================] - 0s 3ms/step - loss: 0.6196 - val_loss: 0.6352\n",
      "Epoch 384/500\n",
      "12/12 [==============================] - 0s 3ms/step - loss: 0.6207 - val_loss: 0.6361\n",
      "Epoch 385/500\n",
      "12/12 [==============================] - 0s 3ms/step - loss: 0.6281 - val_loss: 0.6356\n",
      "Epoch 386/500\n",
      "12/12 [==============================] - 0s 4ms/step - loss: 0.6232 - val_loss: 0.6361\n",
      "Epoch 387/500\n",
      "12/12 [==============================] - 0s 4ms/step - loss: 0.6116 - val_loss: 0.6361\n",
      "Epoch 388/500\n",
      "12/12 [==============================] - 0s 4ms/step - loss: 0.6409 - val_loss: 0.6361\n",
      "Epoch 389/500\n",
      "12/12 [==============================] - 0s 3ms/step - loss: 0.6212 - val_loss: 0.6362\n",
      "Epoch 390/500\n",
      "12/12 [==============================] - 0s 3ms/step - loss: 0.6423 - val_loss: 0.6346\n",
      "Epoch 391/500\n",
      "12/12 [==============================] - 0s 3ms/step - loss: 0.6158 - val_loss: 0.6375\n",
      "Epoch 392/500\n",
      "12/12 [==============================] - 0s 3ms/step - loss: 0.6532 - val_loss: 0.6367\n",
      "Epoch 393/500\n",
      "12/12 [==============================] - 0s 3ms/step - loss: 0.6067 - val_loss: 0.6340\n",
      "Epoch 394/500\n",
      "12/12 [==============================] - 0s 3ms/step - loss: 0.6145 - val_loss: 0.6383\n",
      "Epoch 395/500\n",
      "12/12 [==============================] - 0s 3ms/step - loss: 0.6330 - val_loss: 0.6361\n",
      "Epoch 396/500\n",
      "12/12 [==============================] - 0s 3ms/step - loss: 0.6373 - val_loss: 0.6369\n",
      "Epoch 397/500\n",
      "12/12 [==============================] - 0s 3ms/step - loss: 0.6250 - val_loss: 0.6359\n",
      "Epoch 398/500\n",
      "12/12 [==============================] - 0s 3ms/step - loss: 0.6021 - val_loss: 0.6364\n",
      "Epoch 399/500\n",
      "12/12 [==============================] - 0s 3ms/step - loss: 0.6329 - val_loss: 0.6368\n",
      "Epoch 400/500\n",
      "12/12 [==============================] - 0s 4ms/step - loss: 0.6243 - val_loss: 0.6369\n",
      "Epoch 401/500\n",
      "12/12 [==============================] - 0s 4ms/step - loss: 0.6204 - val_loss: 0.6365\n",
      "Epoch 402/500\n",
      "12/12 [==============================] - 0s 4ms/step - loss: 0.6423 - val_loss: 0.6366\n",
      "Epoch 403/500\n",
      "12/12 [==============================] - 0s 3ms/step - loss: 0.5953 - val_loss: 0.6372\n",
      "Epoch 404/500\n",
      "12/12 [==============================] - 0s 3ms/step - loss: 0.6318 - val_loss: 0.6345\n",
      "Epoch 405/500\n",
      "12/12 [==============================] - 0s 3ms/step - loss: 0.6550 - val_loss: 0.6373\n",
      "Epoch 406/500\n",
      "12/12 [==============================] - 0s 3ms/step - loss: 0.6565 - val_loss: 0.6366\n",
      "Epoch 407/500\n",
      "12/12 [==============================] - 0s 3ms/step - loss: 0.6270 - val_loss: 0.6379\n",
      "Epoch 408/500\n",
      "12/12 [==============================] - 0s 3ms/step - loss: 0.6225 - val_loss: 0.6364\n",
      "Epoch 409/500\n",
      "12/12 [==============================] - 0s 3ms/step - loss: 0.6128 - val_loss: 0.6384\n",
      "Epoch 410/500\n",
      "12/12 [==============================] - 0s 3ms/step - loss: 0.6194 - val_loss: 0.6349\n",
      "Epoch 411/500\n",
      "12/12 [==============================] - 0s 4ms/step - loss: 0.6294 - val_loss: 0.6372\n",
      "Epoch 412/500\n",
      "12/12 [==============================] - 0s 4ms/step - loss: 0.6277 - val_loss: 0.6365\n",
      "Epoch 413/500\n",
      "12/12 [==============================] - 0s 4ms/step - loss: 0.6474 - val_loss: 0.6375\n",
      "Epoch 414/500\n",
      "12/12 [==============================] - 0s 4ms/step - loss: 0.6068 - val_loss: 0.6361\n",
      "Epoch 415/500\n",
      "12/12 [==============================] - 0s 4ms/step - loss: 0.6319 - val_loss: 0.6382\n",
      "Epoch 416/500\n",
      "12/12 [==============================] - 0s 4ms/step - loss: 0.6269 - val_loss: 0.6379\n",
      "Epoch 417/500\n",
      "12/12 [==============================] - 0s 3ms/step - loss: 0.6020 - val_loss: 0.6349\n",
      "Epoch 418/500\n",
      "12/12 [==============================] - 0s 3ms/step - loss: 0.6145 - val_loss: 0.6384\n",
      "Epoch 419/500\n",
      "12/12 [==============================] - 0s 3ms/step - loss: 0.5776 - val_loss: 0.6373\n",
      "Epoch 420/500\n",
      "12/12 [==============================] - 0s 3ms/step - loss: 0.6219 - val_loss: 0.6359\n",
      "Epoch 421/500\n",
      "12/12 [==============================] - 0s 3ms/step - loss: 0.6249 - val_loss: 0.6387\n",
      "Epoch 422/500\n",
      "12/12 [==============================] - 0s 3ms/step - loss: 0.6125 - val_loss: 0.6352\n",
      "Epoch 423/500\n",
      "12/12 [==============================] - 0s 4ms/step - loss: 0.6230 - val_loss: 0.6372\n",
      "Epoch 424/500\n",
      "12/12 [==============================] - 0s 4ms/step - loss: 0.6257 - val_loss: 0.6377\n",
      "Epoch 425/500\n",
      "12/12 [==============================] - 0s 4ms/step - loss: 0.6156 - val_loss: 0.6363\n",
      "Epoch 426/500\n",
      "12/12 [==============================] - 0s 3ms/step - loss: 0.6127 - val_loss: 0.6382\n",
      "Epoch 427/500\n",
      "12/12 [==============================] - 0s 4ms/step - loss: 0.6096 - val_loss: 0.6360\n",
      "Epoch 428/500\n",
      "12/12 [==============================] - 0s 4ms/step - loss: 0.6046 - val_loss: 0.6389\n",
      "Epoch 429/500\n",
      "12/12 [==============================] - 0s 4ms/step - loss: 0.6072 - val_loss: 0.6375\n",
      "Epoch 430/500\n",
      "12/12 [==============================] - 0s 4ms/step - loss: 0.6261 - val_loss: 0.6371\n",
      "Epoch 431/500\n",
      "12/12 [==============================] - 0s 4ms/step - loss: 0.6061 - val_loss: 0.6381\n",
      "Epoch 432/500\n",
      "12/12 [==============================] - 0s 4ms/step - loss: 0.6483 - val_loss: 0.6370\n",
      "Epoch 433/500\n",
      "12/12 [==============================] - 0s 3ms/step - loss: 0.6498 - val_loss: 0.6391\n",
      "Epoch 434/500\n",
      "12/12 [==============================] - 0s 4ms/step - loss: 0.6312 - val_loss: 0.6349\n",
      "Epoch 435/500\n",
      "12/12 [==============================] - 0s 4ms/step - loss: 0.6224 - val_loss: 0.6380\n",
      "Epoch 436/500\n",
      "12/12 [==============================] - 0s 4ms/step - loss: 0.6300 - val_loss: 0.6384\n",
      "Epoch 437/500\n",
      "12/12 [==============================] - 0s 4ms/step - loss: 0.6339 - val_loss: 0.6386\n",
      "Epoch 438/500\n",
      "12/12 [==============================] - 0s 3ms/step - loss: 0.6313 - val_loss: 0.6387\n",
      "Epoch 439/500\n",
      "12/12 [==============================] - 0s 3ms/step - loss: 0.6334 - val_loss: 0.6391\n",
      "Epoch 440/500\n",
      "12/12 [==============================] - 0s 4ms/step - loss: 0.6286 - val_loss: 0.6383\n",
      "Epoch 441/500\n",
      "12/12 [==============================] - 0s 4ms/step - loss: 0.6264 - val_loss: 0.6342\n",
      "Epoch 442/500\n",
      "12/12 [==============================] - 0s 4ms/step - loss: 0.6519 - val_loss: 0.6388\n",
      "Epoch 443/500\n",
      "12/12 [==============================] - 0s 4ms/step - loss: 0.6169 - val_loss: 0.6390\n",
      "Epoch 444/500\n",
      "12/12 [==============================] - 0s 4ms/step - loss: 0.6356 - val_loss: 0.6391\n",
      "Epoch 445/500\n",
      "12/12 [==============================] - 0s 3ms/step - loss: 0.6195 - val_loss: 0.6387\n",
      "Epoch 446/500\n",
      "12/12 [==============================] - 0s 3ms/step - loss: 0.6022 - val_loss: 0.6377\n",
      "Epoch 447/500\n",
      "12/12 [==============================] - 0s 4ms/step - loss: 0.6149 - val_loss: 0.6384\n",
      "Epoch 448/500\n",
      "12/12 [==============================] - 0s 4ms/step - loss: 0.6253 - val_loss: 0.6390\n",
      "Epoch 449/500\n",
      "12/12 [==============================] - 0s 4ms/step - loss: 0.5922 - val_loss: 0.6391\n",
      "Epoch 450/500\n",
      "12/12 [==============================] - 0s 4ms/step - loss: 0.6114 - val_loss: 0.6373\n",
      "Epoch 451/500\n",
      "12/12 [==============================] - 0s 4ms/step - loss: 0.5771 - val_loss: 0.6396\n",
      "Epoch 452/500\n",
      "12/12 [==============================] - 0s 4ms/step - loss: 0.6414 - val_loss: 0.6363\n",
      "Epoch 453/500\n",
      "12/12 [==============================] - 0s 3ms/step - loss: 0.6374 - val_loss: 0.6391\n",
      "Epoch 454/500\n",
      "12/12 [==============================] - 0s 4ms/step - loss: 0.6030 - val_loss: 0.6391\n",
      "Epoch 455/500\n",
      "12/12 [==============================] - 0s 4ms/step - loss: 0.6296 - val_loss: 0.6384\n",
      "Epoch 456/500\n",
      "12/12 [==============================] - 0s 4ms/step - loss: 0.6206 - val_loss: 0.6388\n",
      "Epoch 457/500\n",
      "12/12 [==============================] - 0s 4ms/step - loss: 0.6119 - val_loss: 0.6399\n",
      "Epoch 458/500\n",
      "12/12 [==============================] - 0s 4ms/step - loss: 0.5944 - val_loss: 0.6369\n",
      "Epoch 459/500\n",
      "12/12 [==============================] - 0s 4ms/step - loss: 0.6224 - val_loss: 0.6404\n",
      "Epoch 460/500\n",
      "12/12 [==============================] - 0s 3ms/step - loss: 0.6165 - val_loss: 0.6365\n",
      "Epoch 461/500\n",
      "12/12 [==============================] - 0s 4ms/step - loss: 0.6216 - val_loss: 0.6394\n",
      "Epoch 462/500\n",
      "12/12 [==============================] - 0s 3ms/step - loss: 0.6421 - val_loss: 0.6415\n",
      "Epoch 463/500\n",
      "12/12 [==============================] - 0s 3ms/step - loss: 0.6634 - val_loss: 0.6393\n",
      "Epoch 464/500\n",
      "12/12 [==============================] - 0s 3ms/step - loss: 0.6299 - val_loss: 0.6404\n",
      "Epoch 465/500\n",
      "12/12 [==============================] - 0s 3ms/step - loss: 0.6028 - val_loss: 0.6378\n",
      "Epoch 466/500\n",
      "12/12 [==============================] - 0s 3ms/step - loss: 0.6129 - val_loss: 0.6387\n",
      "Epoch 467/500\n",
      "12/12 [==============================] - 0s 3ms/step - loss: 0.6223 - val_loss: 0.6386\n",
      "Epoch 468/500\n",
      "12/12 [==============================] - 0s 3ms/step - loss: 0.6110 - val_loss: 0.6395\n",
      "Epoch 469/500\n",
      "12/12 [==============================] - 0s 3ms/step - loss: 0.6452 - val_loss: 0.6388\n",
      "Epoch 470/500\n",
      "12/12 [==============================] - 0s 3ms/step - loss: 0.6077 - val_loss: 0.6402\n",
      "Epoch 471/500\n",
      "12/12 [==============================] - 0s 3ms/step - loss: 0.5968 - val_loss: 0.6368\n",
      "Epoch 472/500\n",
      "12/12 [==============================] - 0s 3ms/step - loss: 0.6420 - val_loss: 0.6396\n",
      "Epoch 473/500\n",
      "12/12 [==============================] - 0s 3ms/step - loss: 0.6666 - val_loss: 0.6395\n",
      "Epoch 474/500\n",
      "12/12 [==============================] - 0s 3ms/step - loss: 0.6105 - val_loss: 0.6396\n",
      "Epoch 475/500\n",
      "12/12 [==============================] - 0s 3ms/step - loss: 0.6231 - val_loss: 0.6387\n",
      "Epoch 476/500\n",
      "12/12 [==============================] - 0s 3ms/step - loss: 0.6035 - val_loss: 0.6408\n",
      "Epoch 477/500\n",
      "12/12 [==============================] - 0s 3ms/step - loss: 0.6162 - val_loss: 0.6384\n",
      "Epoch 478/500\n",
      "12/12 [==============================] - 0s 3ms/step - loss: 0.5879 - val_loss: 0.6390\n",
      "Epoch 479/500\n",
      "12/12 [==============================] - 0s 3ms/step - loss: 0.6135 - val_loss: 0.6385\n",
      "Epoch 480/500\n",
      "12/12 [==============================] - 0s 3ms/step - loss: 0.6571 - val_loss: 0.6398\n",
      "Epoch 481/500\n",
      "12/12 [==============================] - 0s 4ms/step - loss: 0.6370 - val_loss: 0.6408\n",
      "Epoch 482/500\n",
      "12/12 [==============================] - 0s 4ms/step - loss: 0.6190 - val_loss: 0.6396\n",
      "Epoch 483/500\n",
      "12/12 [==============================] - 0s 4ms/step - loss: 0.6264 - val_loss: 0.6403\n",
      "Epoch 484/500\n",
      "12/12 [==============================] - 0s 4ms/step - loss: 0.6202 - val_loss: 0.6401\n",
      "Epoch 485/500\n",
      "12/12 [==============================] - 0s 4ms/step - loss: 0.6509 - val_loss: 0.6407\n",
      "Epoch 486/500\n",
      "12/12 [==============================] - 0s 4ms/step - loss: 0.6217 - val_loss: 0.6410\n",
      "Epoch 487/500\n",
      "12/12 [==============================] - 0s 3ms/step - loss: 0.6221 - val_loss: 0.6399\n",
      "Epoch 488/500\n",
      "12/12 [==============================] - 0s 3ms/step - loss: 0.5884 - val_loss: 0.6397\n",
      "Epoch 489/500\n",
      "12/12 [==============================] - 0s 3ms/step - loss: 0.5872 - val_loss: 0.6397\n",
      "Epoch 490/500\n",
      "12/12 [==============================] - 0s 3ms/step - loss: 0.6257 - val_loss: 0.6403\n",
      "Epoch 491/500\n",
      "12/12 [==============================] - 0s 3ms/step - loss: 0.6044 - val_loss: 0.6407\n",
      "Epoch 492/500\n",
      "12/12 [==============================] - 0s 3ms/step - loss: 0.6134 - val_loss: 0.6391\n",
      "Epoch 493/500\n",
      "12/12 [==============================] - 0s 3ms/step - loss: 0.6283 - val_loss: 0.6408\n",
      "Epoch 494/500\n",
      "12/12 [==============================] - 0s 3ms/step - loss: 0.6303 - val_loss: 0.6411\n",
      "Epoch 495/500\n",
      "12/12 [==============================] - 0s 3ms/step - loss: 0.6144 - val_loss: 0.6378\n",
      "Epoch 496/500\n",
      "12/12 [==============================] - 0s 3ms/step - loss: 0.6110 - val_loss: 0.6408\n",
      "Epoch 497/500\n",
      "12/12 [==============================] - 0s 3ms/step - loss: 0.6421 - val_loss: 0.6407\n",
      "Epoch 498/500\n",
      "12/12 [==============================] - 0s 3ms/step - loss: 0.6185 - val_loss: 0.6398\n",
      "Epoch 499/500\n",
      "12/12 [==============================] - 0s 3ms/step - loss: 0.6450 - val_loss: 0.6397\n",
      "Epoch 500/500\n",
      "12/12 [==============================] - 0s 3ms/step - loss: 0.6014 - val_loss: 0.6408\n"
     ]
    },
    {
     "data": {
      "text/plain": [
       "<tensorflow.python.keras.callbacks.History at 0x29fff71a7f0>"
      ]
     },
     "execution_count": 125,
     "metadata": {},
     "output_type": "execute_result"
    }
   ],
   "source": [
    "model.fit(X_train,y_train,batch_size=32,epochs=500, validation_data=(X_test,y_test))"
   ]
  },
  {
   "cell_type": "code",
   "execution_count": null,
   "metadata": {},
   "outputs": [],
   "source": []
  },
  {
   "cell_type": "code",
   "execution_count": null,
   "metadata": {},
   "outputs": [],
   "source": []
  },
  {
   "cell_type": "markdown",
   "metadata": {},
   "source": [
    "CLASSIFICATION APPROACH"
   ]
  },
  {
   "cell_type": "code",
   "execution_count": 126,
   "metadata": {},
   "outputs": [
    {
     "name": "stdout",
     "output_type": "stream",
     "text": [
      "[[22 44]\n",
      " [18 44]]\n",
      "              precision    recall  f1-score   support\n",
      "\n",
      "           1       0.55      0.33      0.42        66\n",
      "           2       0.50      0.71      0.59        62\n",
      "\n",
      "    accuracy                           0.52       128\n",
      "   macro avg       0.53      0.52      0.50       128\n",
      "weighted avg       0.53      0.52      0.50       128\n",
      "\n"
     ]
    }
   ],
   "source": [
    "#KNN classifier\n",
    "\n",
    "X = supernovae_df[['optical_depth','max_exp_vel','emergent_flux','optical_depth_unc','max_exp_vel_unc','rad_dist_encoding','mass_dist_encoding']]\n",
    "y = supernovae_df['class_of_explosion'] \n",
    "  \n",
    "\n",
    "X_train, X_test, y_train, y_test = train_test_split(X, y, test_size = 0.25, random_state=75)\n",
    "\n",
    "\n",
    "scaler = StandardScaler()\n",
    "scaler.fit(X_train)\n",
    "\n",
    "X_train = scaler.transform(X_train)\n",
    "X_test = scaler.transform(X_test)\n",
    "\n",
    "classifier = KNeighborsClassifier(n_neighbors=66)\n",
    "classifier.fit(X_train, y_train)\n",
    "\n",
    "y_pred = classifier.predict(X_test)\n",
    "\n",
    "\n",
    "print(confusion_matrix(y_test, y_pred))\n",
    "print(classification_report(y_test, y_pred))"
   ]
  },
  {
   "cell_type": "code",
   "execution_count": null,
   "metadata": {},
   "outputs": [],
   "source": []
  },
  {
   "cell_type": "code",
   "execution_count": null,
   "metadata": {},
   "outputs": [],
   "source": []
  },
  {
   "cell_type": "code",
   "execution_count": 127,
   "metadata": {},
   "outputs": [
    {
     "data": {
      "text/plain": [
       "0.4563106796116505"
      ]
     },
     "execution_count": 127,
     "metadata": {},
     "output_type": "execute_result"
    }
   ],
   "source": [
    "#Logistic regression\n",
    "\n",
    "X = supernovae_df[['optical_depth','max_exp_vel','emergent_flux', 'mass_ni_56','total_mass','mass_dist_encoding','rad_dist_encoding']]\n",
    "y = supernovae_df['class_of_explosion'] \n",
    "\n",
    "X_train, X_test, y_train, y_test = train_test_split(X, y, test_size = 0.2, random_state=75)\n",
    "\n",
    "\n",
    "\n",
    "model = LogisticRegression(solver='liblinear', random_state=0)\n",
    "\n",
    "model.fit(X_train,y_train)\n",
    "model.score(X_test,y_test)"
   ]
  },
  {
   "cell_type": "code",
   "execution_count": null,
   "metadata": {},
   "outputs": [],
   "source": []
  },
  {
   "cell_type": "code",
   "execution_count": 128,
   "metadata": {},
   "outputs": [
    {
     "data": {
      "text/plain": [
       "KMeans(n_clusters=2, n_init=7, random_state=75)"
      ]
     },
     "execution_count": 128,
     "metadata": {},
     "output_type": "execute_result"
    }
   ],
   "source": [
    "#Kmeans clustering\n",
    "\n",
    "from sklearn.cluster import KMeans\n",
    "X = supernovae_df[['optical_depth','max_exp_vel','emergent_flux', 'mass_ni_56','total_mass','mass_dist_encoding','rad_dist_encoding']]\n",
    "y = supernovae_df['class_of_explosion']  \n",
    "\n",
    "X_train, X_test, y_train, y_test = train_test_split(X, y, test_size = 0.2, random_state=75)\n",
    "\n",
    "kmeans = KMeans(n_clusters=2, init='k-means++', max_iter=300, n_init=7, random_state=75)\n",
    "kmeans.fit(X_train)"
   ]
  },
  {
   "cell_type": "code",
   "execution_count": 129,
   "metadata": {},
   "outputs": [],
   "source": [
    "y_pred = kmeans.predict(X_test)"
   ]
  },
  {
   "cell_type": "code",
   "execution_count": 130,
   "metadata": {},
   "outputs": [],
   "source": [
    "y_pred+=1"
   ]
  },
  {
   "cell_type": "code",
   "execution_count": 131,
   "metadata": {},
   "outputs": [],
   "source": [
    "p1= np.array(y_pred)\n",
    "p2 = np.array((y_test))\n",
    "dddf = pd.DataFrame({'y_test':p2, 'y_pred':p1})"
   ]
  },
  {
   "cell_type": "code",
   "execution_count": 132,
   "metadata": {},
   "outputs": [
    {
     "data": {
      "text/html": [
       "<div>\n",
       "<style scoped>\n",
       "    .dataframe tbody tr th:only-of-type {\n",
       "        vertical-align: middle;\n",
       "    }\n",
       "\n",
       "    .dataframe tbody tr th {\n",
       "        vertical-align: top;\n",
       "    }\n",
       "\n",
       "    .dataframe thead th {\n",
       "        text-align: right;\n",
       "    }\n",
       "</style>\n",
       "<table border=\"1\" class=\"dataframe\">\n",
       "  <thead>\n",
       "    <tr style=\"text-align: right;\">\n",
       "      <th></th>\n",
       "      <th>y_test</th>\n",
       "      <th>y_pred</th>\n",
       "    </tr>\n",
       "  </thead>\n",
       "  <tbody>\n",
       "    <tr>\n",
       "      <th>0</th>\n",
       "      <td>2</td>\n",
       "      <td>2</td>\n",
       "    </tr>\n",
       "    <tr>\n",
       "      <th>1</th>\n",
       "      <td>2</td>\n",
       "      <td>1</td>\n",
       "    </tr>\n",
       "    <tr>\n",
       "      <th>2</th>\n",
       "      <td>1</td>\n",
       "      <td>2</td>\n",
       "    </tr>\n",
       "    <tr>\n",
       "      <th>3</th>\n",
       "      <td>2</td>\n",
       "      <td>2</td>\n",
       "    </tr>\n",
       "    <tr>\n",
       "      <th>4</th>\n",
       "      <td>1</td>\n",
       "      <td>1</td>\n",
       "    </tr>\n",
       "    <tr>\n",
       "      <th>...</th>\n",
       "      <td>...</td>\n",
       "      <td>...</td>\n",
       "    </tr>\n",
       "    <tr>\n",
       "      <th>98</th>\n",
       "      <td>1</td>\n",
       "      <td>1</td>\n",
       "    </tr>\n",
       "    <tr>\n",
       "      <th>99</th>\n",
       "      <td>1</td>\n",
       "      <td>2</td>\n",
       "    </tr>\n",
       "    <tr>\n",
       "      <th>100</th>\n",
       "      <td>2</td>\n",
       "      <td>1</td>\n",
       "    </tr>\n",
       "    <tr>\n",
       "      <th>101</th>\n",
       "      <td>1</td>\n",
       "      <td>1</td>\n",
       "    </tr>\n",
       "    <tr>\n",
       "      <th>102</th>\n",
       "      <td>2</td>\n",
       "      <td>2</td>\n",
       "    </tr>\n",
       "  </tbody>\n",
       "</table>\n",
       "<p>103 rows × 2 columns</p>\n",
       "</div>"
      ],
      "text/plain": [
       "     y_test  y_pred\n",
       "0         2       2\n",
       "1         2       1\n",
       "2         1       2\n",
       "3         2       2\n",
       "4         1       1\n",
       "..      ...     ...\n",
       "98        1       1\n",
       "99        1       2\n",
       "100       2       1\n",
       "101       1       1\n",
       "102       2       2\n",
       "\n",
       "[103 rows x 2 columns]"
      ]
     },
     "execution_count": 132,
     "metadata": {},
     "output_type": "execute_result"
    }
   ],
   "source": [
    "dddf"
   ]
  },
  {
   "cell_type": "code",
   "execution_count": 133,
   "metadata": {},
   "outputs": [
    {
     "name": "stdout",
     "output_type": "stream",
     "text": [
      "K means clustering accuracy:  0.5145631067961165\n"
     ]
    }
   ],
   "source": [
    "#ACCURACY OF KMEANS CLUSTERING\n",
    "acc = 0\n",
    "for i in range(len(dddf)):\n",
    "    if dddf.iloc[i]['y_test']==dddf.iloc[i]['y_pred']:\n",
    "        acc+=1\n",
    "    \n",
    "print('K means clustering accuracy: ',acc/len(dddf))"
   ]
  },
  {
   "cell_type": "code",
   "execution_count": null,
   "metadata": {},
   "outputs": [],
   "source": []
  },
  {
   "cell_type": "code",
   "execution_count": null,
   "metadata": {},
   "outputs": [],
   "source": []
  },
  {
   "cell_type": "code",
   "execution_count": 134,
   "metadata": {},
   "outputs": [],
   "source": [
    "#Decision tree classifier using gini index and entropy both as criterion\n",
    "\n",
    "X = supernovae_df[['optical_depth','max_exp_vel','emergent_flux', 'mass_ni_56','total_mass','mass_dist_encoding','rad_dist_encoding']]\n",
    "y = supernovae_df['class_of_explosion']  \n",
    " \n",
    "X_train, X_test, y_train, y_test = train_test_split(X, y, test_size = 0.2, random_state=75)\n",
    "      \n",
    "    "
   ]
  },
  {
   "cell_type": "code",
   "execution_count": 135,
   "metadata": {},
   "outputs": [
    {
     "data": {
      "text/plain": [
       "DecisionTreeClassifier(criterion='entropy', max_depth=3, min_samples_leaf=5,\n",
       "                       random_state=100)"
      ]
     },
     "execution_count": 135,
     "metadata": {},
     "output_type": "execute_result"
    }
   ],
   "source": [
    "    \n",
    "d_tree_gini= DecisionTreeClassifier(criterion = \"gini\", random_state = 121,max_depth=3, min_samples_leaf=5)\n",
    "  \n",
    "d_tree_gini.fit(X_train, y_train) \n",
    "    \n",
    "dtree_entropy= DecisionTreeClassifier(criterion = \"entropy\", random_state = 100, max_depth = 3, min_samples_leaf = 5)\n",
    "  \n",
    "dtree_entropy.fit(X_train, y_train)\n",
    "  \n",
    "  \n",
    "  "
   ]
  },
  {
   "cell_type": "code",
   "execution_count": 136,
   "metadata": {},
   "outputs": [],
   "source": [
    "\n",
    "y_gini_pred = d_tree_gini.predict(X_test)\n",
    "y_eb_pred = dtree_entropy.predict(X_test)\n",
    "      \n",
    "\n",
    "      "
   ]
  },
  {
   "cell_type": "code",
   "execution_count": 137,
   "metadata": {},
   "outputs": [
    {
     "data": {
      "text/plain": [
       "0.5242718446601942"
      ]
     },
     "execution_count": 137,
     "metadata": {},
     "output_type": "execute_result"
    }
   ],
   "source": [
    "accuracy_score(y_test, y_gini_pred)"
   ]
  },
  {
   "cell_type": "code",
   "execution_count": 138,
   "metadata": {},
   "outputs": [
    {
     "data": {
      "text/plain": [
       "0.5242718446601942"
      ]
     },
     "execution_count": 138,
     "metadata": {},
     "output_type": "execute_result"
    }
   ],
   "source": [
    "accuracy_score(y_test, y_eb_pred)"
   ]
  },
  {
   "cell_type": "code",
   "execution_count": null,
   "metadata": {},
   "outputs": [],
   "source": []
  },
  {
   "cell_type": "code",
   "execution_count": null,
   "metadata": {},
   "outputs": [],
   "source": []
  },
  {
   "cell_type": "code",
   "execution_count": null,
   "metadata": {},
   "outputs": [],
   "source": []
  },
  {
   "cell_type": "code",
   "execution_count": 139,
   "metadata": {},
   "outputs": [],
   "source": [
    "#Using a CNN classifier"
   ]
  },
  {
   "cell_type": "code",
   "execution_count": null,
   "metadata": {},
   "outputs": [],
   "source": []
  },
  {
   "cell_type": "code",
   "execution_count": 140,
   "metadata": {},
   "outputs": [],
   "source": [
    "X1 = supernovae_df[['optical_depth','max_exp_vel','emergent_flux', 'mass_ni_56','total_mass','mass_dist_encoding','rad_dist_encoding']]\n",
    "y1 = supernovae_df['class_of_explosion']\n",
    "\n",
    "X1_train, X1_test, y1_train, y1_test = train_test_split(X1, y1, test_size = 0.2, random_state=175)"
   ]
  },
  {
   "cell_type": "code",
   "execution_count": 141,
   "metadata": {},
   "outputs": [],
   "source": [
    "X1_train =np.expand_dims(X_train, axis=2)\n",
    "X1_test= np.expand_dims(X_test, axis=2)"
   ]
  },
  {
   "cell_type": "code",
   "execution_count": 142,
   "metadata": {},
   "outputs": [],
   "source": [
    "model = Sequential()\n",
    "\n",
    "model.add(Conv1D(16, 7, kernel_initializer='normal',padding='same'))\n",
    "model.add(Activation('relu'))\n",
    "model.add(Conv1D(12, 5,padding='same'))\n",
    "model.add(Activation('relu'))\n",
    "model.add(Dropout(0.5))\n",
    "model.add(MaxPooling1D(pool_size=(5)))\n",
    "model.add(Conv1D(12, 5,padding='same'))\n",
    "model.add(Activation('relu'))\n",
    "model.add(Dropout(0.4))\n",
    "model.add(Conv1D(10, 5,padding='same'))\n",
    "model.add(Activation('relu'))\n",
    "model.add(Flatten())\n",
    "model.add(Dense(1))\n",
    "model.add(Activation('softmax'))\n"
   ]
  },
  {
   "cell_type": "code",
   "execution_count": 143,
   "metadata": {},
   "outputs": [],
   "source": [
    "model.compile(loss='categorical_crossentropy', optimizer='adam',metrics=['accuracy'])"
   ]
  },
  {
   "cell_type": "code",
   "execution_count": 144,
   "metadata": {
    "scrolled": true
   },
   "outputs": [
    {
     "name": "stdout",
     "output_type": "stream",
     "text": [
      "Epoch 1/500\n",
      "9/9 [==============================] - 1s 29ms/step - loss: 0.0000e+00 - accuracy: 0.5048 - val_loss: 0.0000e+00 - val_accuracy: 0.5146\n",
      "Epoch 2/500\n",
      "9/9 [==============================] - 0s 6ms/step - loss: 0.0000e+00 - accuracy: 0.5020 - val_loss: 0.0000e+00 - val_accuracy: 0.5146\n",
      "Epoch 3/500\n",
      "9/9 [==============================] - 0s 6ms/step - loss: 0.0000e+00 - accuracy: 0.4828 - val_loss: 0.0000e+00 - val_accuracy: 0.5146\n",
      "Epoch 4/500\n",
      "9/9 [==============================] - 0s 6ms/step - loss: 0.0000e+00 - accuracy: 0.4979 - val_loss: 0.0000e+00 - val_accuracy: 0.5146\n",
      "Epoch 5/500\n",
      "9/9 [==============================] - 0s 5ms/step - loss: 0.0000e+00 - accuracy: 0.4977 - val_loss: 0.0000e+00 - val_accuracy: 0.5146\n",
      "Epoch 6/500\n",
      "9/9 [==============================] - 0s 5ms/step - loss: 0.0000e+00 - accuracy: 0.4682 - val_loss: 0.0000e+00 - val_accuracy: 0.5146\n",
      "Epoch 7/500\n",
      "9/9 [==============================] - 0s 6ms/step - loss: 0.0000e+00 - accuracy: 0.5086 - val_loss: 0.0000e+00 - val_accuracy: 0.5146\n",
      "Epoch 8/500\n",
      "9/9 [==============================] - 0s 6ms/step - loss: 0.0000e+00 - accuracy: 0.5279 - val_loss: 0.0000e+00 - val_accuracy: 0.5146\n",
      "Epoch 9/500\n",
      "9/9 [==============================] - 0s 5ms/step - loss: 0.0000e+00 - accuracy: 0.4779 - val_loss: 0.0000e+00 - val_accuracy: 0.5146\n",
      "Epoch 10/500\n",
      "9/9 [==============================] - 0s 6ms/step - loss: 0.0000e+00 - accuracy: 0.4599 - val_loss: 0.0000e+00 - val_accuracy: 0.5146\n",
      "Epoch 11/500\n",
      "9/9 [==============================] - 0s 6ms/step - loss: 0.0000e+00 - accuracy: 0.5033 - val_loss: 0.0000e+00 - val_accuracy: 0.5146\n",
      "Epoch 12/500\n",
      "9/9 [==============================] - 0s 6ms/step - loss: 0.0000e+00 - accuracy: 0.5200 - val_loss: 0.0000e+00 - val_accuracy: 0.5146\n",
      "Epoch 13/500\n",
      "9/9 [==============================] - 0s 6ms/step - loss: 0.0000e+00 - accuracy: 0.4971 - val_loss: 0.0000e+00 - val_accuracy: 0.5146\n",
      "Epoch 14/500\n",
      "9/9 [==============================] - 0s 6ms/step - loss: 0.0000e+00 - accuracy: 0.4913 - val_loss: 0.0000e+00 - val_accuracy: 0.5146\n",
      "Epoch 15/500\n",
      "9/9 [==============================] - 0s 5ms/step - loss: 0.0000e+00 - accuracy: 0.5044 - val_loss: 0.0000e+00 - val_accuracy: 0.5146\n",
      "Epoch 16/500\n",
      "9/9 [==============================] - 0s 5ms/step - loss: 0.0000e+00 - accuracy: 0.5559 - val_loss: 0.0000e+00 - val_accuracy: 0.5146\n",
      "Epoch 17/500\n",
      "9/9 [==============================] - 0s 4ms/step - loss: 0.0000e+00 - accuracy: 0.4680 - val_loss: 0.0000e+00 - val_accuracy: 0.5146\n",
      "Epoch 18/500\n",
      "9/9 [==============================] - 0s 5ms/step - loss: 0.0000e+00 - accuracy: 0.5033 - val_loss: 0.0000e+00 - val_accuracy: 0.5146\n",
      "Epoch 19/500\n",
      "9/9 [==============================] - 0s 4ms/step - loss: 0.0000e+00 - accuracy: 0.4880 - val_loss: 0.0000e+00 - val_accuracy: 0.5146\n",
      "Epoch 20/500\n",
      "9/9 [==============================] - 0s 5ms/step - loss: 0.0000e+00 - accuracy: 0.4731 - val_loss: 0.0000e+00 - val_accuracy: 0.5146\n",
      "Epoch 21/500\n",
      "9/9 [==============================] - 0s 5ms/step - loss: 0.0000e+00 - accuracy: 0.4842 - val_loss: 0.0000e+00 - val_accuracy: 0.5146\n",
      "Epoch 22/500\n",
      "9/9 [==============================] - 0s 6ms/step - loss: 0.0000e+00 - accuracy: 0.4933 - val_loss: 0.0000e+00 - val_accuracy: 0.5146\n",
      "Epoch 23/500\n",
      "9/9 [==============================] - 0s 6ms/step - loss: 0.0000e+00 - accuracy: 0.5097 - val_loss: 0.0000e+00 - val_accuracy: 0.5146\n",
      "Epoch 24/500\n",
      "9/9 [==============================] - 0s 6ms/step - loss: 0.0000e+00 - accuracy: 0.5074 - val_loss: 0.0000e+00 - val_accuracy: 0.5146\n",
      "Epoch 25/500\n",
      "9/9 [==============================] - 0s 6ms/step - loss: 0.0000e+00 - accuracy: 0.5232 - val_loss: 0.0000e+00 - val_accuracy: 0.5146\n",
      "Epoch 26/500\n",
      "9/9 [==============================] - 0s 6ms/step - loss: 0.0000e+00 - accuracy: 0.4988 - val_loss: 0.0000e+00 - val_accuracy: 0.5146\n",
      "Epoch 27/500\n",
      "9/9 [==============================] - 0s 5ms/step - loss: 0.0000e+00 - accuracy: 0.4748 - val_loss: 0.0000e+00 - val_accuracy: 0.5146\n",
      "Epoch 28/500\n",
      "9/9 [==============================] - 0s 5ms/step - loss: 0.0000e+00 - accuracy: 0.4851 - val_loss: 0.0000e+00 - val_accuracy: 0.5146\n",
      "Epoch 29/500\n",
      "9/9 [==============================] - 0s 4ms/step - loss: 0.0000e+00 - accuracy: 0.4904 - val_loss: 0.0000e+00 - val_accuracy: 0.5146\n",
      "Epoch 30/500\n",
      "9/9 [==============================] - 0s 5ms/step - loss: 0.0000e+00 - accuracy: 0.4975 - val_loss: 0.0000e+00 - val_accuracy: 0.5146\n",
      "Epoch 31/500\n",
      "9/9 [==============================] - 0s 5ms/step - loss: 0.0000e+00 - accuracy: 0.4940 - val_loss: 0.0000e+00 - val_accuracy: 0.5146\n",
      "Epoch 32/500\n",
      "9/9 [==============================] - 0s 5ms/step - loss: 0.0000e+00 - accuracy: 0.4964 - val_loss: 0.0000e+00 - val_accuracy: 0.5146\n",
      "Epoch 33/500\n",
      "9/9 [==============================] - 0s 4ms/step - loss: 0.0000e+00 - accuracy: 0.5173 - val_loss: 0.0000e+00 - val_accuracy: 0.5146\n",
      "Epoch 34/500\n",
      "9/9 [==============================] - 0s 5ms/step - loss: 0.0000e+00 - accuracy: 0.4605 - val_loss: 0.0000e+00 - val_accuracy: 0.5146\n",
      "Epoch 35/500\n",
      "9/9 [==============================] - 0s 6ms/step - loss: 0.0000e+00 - accuracy: 0.5028 - val_loss: 0.0000e+00 - val_accuracy: 0.5146\n",
      "Epoch 36/500\n",
      "9/9 [==============================] - 0s 6ms/step - loss: 0.0000e+00 - accuracy: 0.4745 - val_loss: 0.0000e+00 - val_accuracy: 0.5146\n",
      "Epoch 37/500\n",
      "9/9 [==============================] - 0s 6ms/step - loss: 0.0000e+00 - accuracy: 0.4783 - val_loss: 0.0000e+00 - val_accuracy: 0.5146\n",
      "Epoch 38/500\n",
      "9/9 [==============================] - 0s 6ms/step - loss: 0.0000e+00 - accuracy: 0.5095 - val_loss: 0.0000e+00 - val_accuracy: 0.5146\n",
      "Epoch 39/500\n",
      "9/9 [==============================] - 0s 6ms/step - loss: 0.0000e+00 - accuracy: 0.4824 - val_loss: 0.0000e+00 - val_accuracy: 0.5146\n",
      "Epoch 40/500\n",
      "9/9 [==============================] - 0s 6ms/step - loss: 0.0000e+00 - accuracy: 0.5042 - val_loss: 0.0000e+00 - val_accuracy: 0.5146\n",
      "Epoch 41/500\n",
      "9/9 [==============================] - 0s 5ms/step - loss: 0.0000e+00 - accuracy: 0.4931 - val_loss: 0.0000e+00 - val_accuracy: 0.5146\n",
      "Epoch 42/500\n",
      "9/9 [==============================] - 0s 5ms/step - loss: 0.0000e+00 - accuracy: 0.5260 - val_loss: 0.0000e+00 - val_accuracy: 0.5146\n",
      "Epoch 43/500\n",
      "9/9 [==============================] - 0s 5ms/step - loss: 0.0000e+00 - accuracy: 0.5064 - val_loss: 0.0000e+00 - val_accuracy: 0.5146\n",
      "Epoch 44/500\n",
      "9/9 [==============================] - 0s 5ms/step - loss: 0.0000e+00 - accuracy: 0.4829 - val_loss: 0.0000e+00 - val_accuracy: 0.5146\n",
      "Epoch 45/500\n",
      "9/9 [==============================] - 0s 5ms/step - loss: 0.0000e+00 - accuracy: 0.5070 - val_loss: 0.0000e+00 - val_accuracy: 0.5146\n",
      "Epoch 46/500\n",
      "9/9 [==============================] - 0s 6ms/step - loss: 0.0000e+00 - accuracy: 0.4890 - val_loss: 0.0000e+00 - val_accuracy: 0.5146\n",
      "Epoch 47/500\n",
      "9/9 [==============================] - 0s 6ms/step - loss: 0.0000e+00 - accuracy: 0.4963 - val_loss: 0.0000e+00 - val_accuracy: 0.5146\n",
      "Epoch 48/500\n",
      "9/9 [==============================] - 0s 6ms/step - loss: 0.0000e+00 - accuracy: 0.5254 - val_loss: 0.0000e+00 - val_accuracy: 0.5146\n",
      "Epoch 49/500\n",
      "9/9 [==============================] - 0s 6ms/step - loss: 0.0000e+00 - accuracy: 0.5300 - val_loss: 0.0000e+00 - val_accuracy: 0.5146\n",
      "Epoch 50/500\n",
      "9/9 [==============================] - 0s 6ms/step - loss: 0.0000e+00 - accuracy: 0.5072 - val_loss: 0.0000e+00 - val_accuracy: 0.5146\n",
      "Epoch 51/500\n",
      "9/9 [==============================] - 0s 5ms/step - loss: 0.0000e+00 - accuracy: 0.4819 - val_loss: 0.0000e+00 - val_accuracy: 0.5146\n",
      "Epoch 52/500\n",
      "9/9 [==============================] - 0s 5ms/step - loss: 0.0000e+00 - accuracy: 0.5053 - val_loss: 0.0000e+00 - val_accuracy: 0.5146\n",
      "Epoch 53/500\n",
      "9/9 [==============================] - 0s 5ms/step - loss: 0.0000e+00 - accuracy: 0.5252 - val_loss: 0.0000e+00 - val_accuracy: 0.5146\n",
      "Epoch 54/500\n",
      "9/9 [==============================] - 0s 5ms/step - loss: 0.0000e+00 - accuracy: 0.4992 - val_loss: 0.0000e+00 - val_accuracy: 0.5146\n",
      "Epoch 55/500\n",
      "9/9 [==============================] - 0s 5ms/step - loss: 0.0000e+00 - accuracy: 0.4746 - val_loss: 0.0000e+00 - val_accuracy: 0.5146\n",
      "Epoch 56/500\n",
      "9/9 [==============================] - 0s 5ms/step - loss: 0.0000e+00 - accuracy: 0.5007 - val_loss: 0.0000e+00 - val_accuracy: 0.5146\n",
      "Epoch 57/500\n",
      "9/9 [==============================] - 0s 5ms/step - loss: 0.0000e+00 - accuracy: 0.5129 - val_loss: 0.0000e+00 - val_accuracy: 0.5146\n",
      "Epoch 58/500\n",
      "9/9 [==============================] - 0s 5ms/step - loss: 0.0000e+00 - accuracy: 0.5145 - val_loss: 0.0000e+00 - val_accuracy: 0.5146\n",
      "Epoch 59/500\n",
      "9/9 [==============================] - 0s 4ms/step - loss: 0.0000e+00 - accuracy: 0.5132 - val_loss: 0.0000e+00 - val_accuracy: 0.5146\n",
      "Epoch 60/500\n",
      "9/9 [==============================] - 0s 5ms/step - loss: 0.0000e+00 - accuracy: 0.4790 - val_loss: 0.0000e+00 - val_accuracy: 0.5146\n",
      "Epoch 61/500\n",
      "9/9 [==============================] - 0s 5ms/step - loss: 0.0000e+00 - accuracy: 0.4886 - val_loss: 0.0000e+00 - val_accuracy: 0.5146\n",
      "Epoch 62/500\n",
      "9/9 [==============================] - 0s 6ms/step - loss: 0.0000e+00 - accuracy: 0.4844 - val_loss: 0.0000e+00 - val_accuracy: 0.5146\n",
      "Epoch 63/500\n",
      "9/9 [==============================] - 0s 7ms/step - loss: 0.0000e+00 - accuracy: 0.5040 - val_loss: 0.0000e+00 - val_accuracy: 0.5146\n",
      "Epoch 64/500\n",
      "9/9 [==============================] - 0s 6ms/step - loss: 0.0000e+00 - accuracy: 0.4912 - val_loss: 0.0000e+00 - val_accuracy: 0.5146\n",
      "Epoch 65/500\n",
      "9/9 [==============================] - 0s 6ms/step - loss: 0.0000e+00 - accuracy: 0.5143 - val_loss: 0.0000e+00 - val_accuracy: 0.5146\n",
      "Epoch 66/500\n",
      "9/9 [==============================] - 0s 6ms/step - loss: 0.0000e+00 - accuracy: 0.4977 - val_loss: 0.0000e+00 - val_accuracy: 0.5146\n",
      "Epoch 67/500\n",
      "9/9 [==============================] - 0s 6ms/step - loss: 0.0000e+00 - accuracy: 0.5225 - val_loss: 0.0000e+00 - val_accuracy: 0.5146\n",
      "Epoch 68/500\n",
      "9/9 [==============================] - 0s 6ms/step - loss: 0.0000e+00 - accuracy: 0.5073 - val_loss: 0.0000e+00 - val_accuracy: 0.5146\n",
      "Epoch 69/500\n",
      "9/9 [==============================] - 0s 6ms/step - loss: 0.0000e+00 - accuracy: 0.4986 - val_loss: 0.0000e+00 - val_accuracy: 0.5146\n",
      "Epoch 70/500\n",
      "9/9 [==============================] - 0s 6ms/step - loss: 0.0000e+00 - accuracy: 0.4772 - val_loss: 0.0000e+00 - val_accuracy: 0.5146\n",
      "Epoch 71/500\n",
      "9/9 [==============================] - 0s 6ms/step - loss: 0.0000e+00 - accuracy: 0.4832 - val_loss: 0.0000e+00 - val_accuracy: 0.5146\n",
      "Epoch 72/500\n",
      "9/9 [==============================] - 0s 7ms/step - loss: 0.0000e+00 - accuracy: 0.4799 - val_loss: 0.0000e+00 - val_accuracy: 0.5146\n",
      "Epoch 73/500\n",
      "9/9 [==============================] - 0s 6ms/step - loss: 0.0000e+00 - accuracy: 0.5092 - val_loss: 0.0000e+00 - val_accuracy: 0.5146\n",
      "Epoch 74/500\n",
      "9/9 [==============================] - 0s 5ms/step - loss: 0.0000e+00 - accuracy: 0.4759 - val_loss: 0.0000e+00 - val_accuracy: 0.5146\n",
      "Epoch 75/500\n",
      "9/9 [==============================] - 0s 5ms/step - loss: 0.0000e+00 - accuracy: 0.4720 - val_loss: 0.0000e+00 - val_accuracy: 0.5146\n",
      "Epoch 76/500\n",
      "9/9 [==============================] - 0s 5ms/step - loss: 0.0000e+00 - accuracy: 0.5039 - val_loss: 0.0000e+00 - val_accuracy: 0.5146\n",
      "Epoch 77/500\n",
      "9/9 [==============================] - 0s 5ms/step - loss: 0.0000e+00 - accuracy: 0.4767 - val_loss: 0.0000e+00 - val_accuracy: 0.5146\n",
      "Epoch 78/500\n",
      "9/9 [==============================] - 0s 6ms/step - loss: 0.0000e+00 - accuracy: 0.5029 - val_loss: 0.0000e+00 - val_accuracy: 0.5146\n",
      "Epoch 79/500\n",
      "9/9 [==============================] - 0s 7ms/step - loss: 0.0000e+00 - accuracy: 0.4700 - val_loss: 0.0000e+00 - val_accuracy: 0.5146\n",
      "Epoch 80/500\n",
      "9/9 [==============================] - 0s 5ms/step - loss: 0.0000e+00 - accuracy: 0.4822 - val_loss: 0.0000e+00 - val_accuracy: 0.5146\n",
      "Epoch 81/500\n",
      "9/9 [==============================] - 0s 5ms/step - loss: 0.0000e+00 - accuracy: 0.4999 - val_loss: 0.0000e+00 - val_accuracy: 0.5146\n",
      "Epoch 82/500\n",
      "9/9 [==============================] - 0s 5ms/step - loss: 0.0000e+00 - accuracy: 0.5017 - val_loss: 0.0000e+00 - val_accuracy: 0.5146\n",
      "Epoch 83/500\n",
      "9/9 [==============================] - 0s 5ms/step - loss: 0.0000e+00 - accuracy: 0.5163 - val_loss: 0.0000e+00 - val_accuracy: 0.5146\n",
      "Epoch 84/500\n",
      "9/9 [==============================] - 0s 5ms/step - loss: 0.0000e+00 - accuracy: 0.4835 - val_loss: 0.0000e+00 - val_accuracy: 0.5146\n",
      "Epoch 85/500\n",
      "9/9 [==============================] - 0s 5ms/step - loss: 0.0000e+00 - accuracy: 0.4875 - val_loss: 0.0000e+00 - val_accuracy: 0.5146\n",
      "Epoch 86/500\n",
      "9/9 [==============================] - 0s 5ms/step - loss: 0.0000e+00 - accuracy: 0.5163 - val_loss: 0.0000e+00 - val_accuracy: 0.5146\n",
      "Epoch 87/500\n",
      "9/9 [==============================] - 0s 6ms/step - loss: 0.0000e+00 - accuracy: 0.5166 - val_loss: 0.0000e+00 - val_accuracy: 0.5146\n",
      "Epoch 88/500\n",
      "9/9 [==============================] - 0s 5ms/step - loss: 0.0000e+00 - accuracy: 0.4849 - val_loss: 0.0000e+00 - val_accuracy: 0.5146\n",
      "Epoch 89/500\n",
      "9/9 [==============================] - 0s 5ms/step - loss: 0.0000e+00 - accuracy: 0.4726 - val_loss: 0.0000e+00 - val_accuracy: 0.5146\n",
      "Epoch 90/500\n",
      "9/9 [==============================] - 0s 5ms/step - loss: 0.0000e+00 - accuracy: 0.5022 - val_loss: 0.0000e+00 - val_accuracy: 0.5146\n",
      "Epoch 91/500\n",
      "9/9 [==============================] - 0s 5ms/step - loss: 0.0000e+00 - accuracy: 0.5230 - val_loss: 0.0000e+00 - val_accuracy: 0.5146\n",
      "Epoch 92/500\n",
      "9/9 [==============================] - 0s 5ms/step - loss: 0.0000e+00 - accuracy: 0.4885 - val_loss: 0.0000e+00 - val_accuracy: 0.5146\n",
      "Epoch 93/500\n",
      "9/9 [==============================] - 0s 5ms/step - loss: 0.0000e+00 - accuracy: 0.4853 - val_loss: 0.0000e+00 - val_accuracy: 0.5146\n",
      "Epoch 94/500\n",
      "9/9 [==============================] - 0s 5ms/step - loss: 0.0000e+00 - accuracy: 0.4488 - val_loss: 0.0000e+00 - val_accuracy: 0.5146\n",
      "Epoch 95/500\n",
      "9/9 [==============================] - 0s 5ms/step - loss: 0.0000e+00 - accuracy: 0.4916 - val_loss: 0.0000e+00 - val_accuracy: 0.5146\n",
      "Epoch 96/500\n",
      "9/9 [==============================] - 0s 5ms/step - loss: 0.0000e+00 - accuracy: 0.5066 - val_loss: 0.0000e+00 - val_accuracy: 0.5146\n",
      "Epoch 97/500\n",
      "9/9 [==============================] - 0s 6ms/step - loss: 0.0000e+00 - accuracy: 0.4998 - val_loss: 0.0000e+00 - val_accuracy: 0.5146\n",
      "Epoch 98/500\n",
      "9/9 [==============================] - 0s 5ms/step - loss: 0.0000e+00 - accuracy: 0.5040 - val_loss: 0.0000e+00 - val_accuracy: 0.5146\n",
      "Epoch 99/500\n",
      "9/9 [==============================] - 0s 6ms/step - loss: 0.0000e+00 - accuracy: 0.5025 - val_loss: 0.0000e+00 - val_accuracy: 0.5146\n",
      "Epoch 100/500\n",
      "9/9 [==============================] - 0s 6ms/step - loss: 0.0000e+00 - accuracy: 0.4966 - val_loss: 0.0000e+00 - val_accuracy: 0.5146\n",
      "Epoch 101/500\n",
      "9/9 [==============================] - 0s 6ms/step - loss: 0.0000e+00 - accuracy: 0.4805 - val_loss: 0.0000e+00 - val_accuracy: 0.5146\n",
      "Epoch 102/500\n",
      "9/9 [==============================] - 0s 5ms/step - loss: 0.0000e+00 - accuracy: 0.5212 - val_loss: 0.0000e+00 - val_accuracy: 0.5146\n",
      "Epoch 103/500\n",
      "9/9 [==============================] - 0s 6ms/step - loss: 0.0000e+00 - accuracy: 0.4881 - val_loss: 0.0000e+00 - val_accuracy: 0.5146\n",
      "Epoch 104/500\n",
      "9/9 [==============================] - 0s 6ms/step - loss: 0.0000e+00 - accuracy: 0.4694 - val_loss: 0.0000e+00 - val_accuracy: 0.5146\n",
      "Epoch 105/500\n",
      "9/9 [==============================] - 0s 6ms/step - loss: 0.0000e+00 - accuracy: 0.4892 - val_loss: 0.0000e+00 - val_accuracy: 0.5146\n",
      "Epoch 106/500\n",
      "9/9 [==============================] - 0s 6ms/step - loss: 0.0000e+00 - accuracy: 0.5255 - val_loss: 0.0000e+00 - val_accuracy: 0.5146\n",
      "Epoch 107/500\n",
      "9/9 [==============================] - 0s 7ms/step - loss: 0.0000e+00 - accuracy: 0.4864 - val_loss: 0.0000e+00 - val_accuracy: 0.5146\n",
      "Epoch 108/500\n",
      "9/9 [==============================] - 0s 6ms/step - loss: 0.0000e+00 - accuracy: 0.4970 - val_loss: 0.0000e+00 - val_accuracy: 0.5146\n",
      "Epoch 109/500\n",
      "9/9 [==============================] - 0s 5ms/step - loss: 0.0000e+00 - accuracy: 0.4737 - val_loss: 0.0000e+00 - val_accuracy: 0.5146\n",
      "Epoch 110/500\n",
      "9/9 [==============================] - 0s 6ms/step - loss: 0.0000e+00 - accuracy: 0.5120 - val_loss: 0.0000e+00 - val_accuracy: 0.5146\n",
      "Epoch 111/500\n",
      "9/9 [==============================] - 0s 5ms/step - loss: 0.0000e+00 - accuracy: 0.4811 - val_loss: 0.0000e+00 - val_accuracy: 0.5146\n",
      "Epoch 112/500\n",
      "9/9 [==============================] - 0s 5ms/step - loss: 0.0000e+00 - accuracy: 0.4964 - val_loss: 0.0000e+00 - val_accuracy: 0.5146\n",
      "Epoch 113/500\n",
      "9/9 [==============================] - 0s 6ms/step - loss: 0.0000e+00 - accuracy: 0.4935 - val_loss: 0.0000e+00 - val_accuracy: 0.5146\n",
      "Epoch 114/500\n",
      "9/9 [==============================] - 0s 6ms/step - loss: 0.0000e+00 - accuracy: 0.4799 - val_loss: 0.0000e+00 - val_accuracy: 0.5146\n",
      "Epoch 115/500\n",
      "9/9 [==============================] - 0s 6ms/step - loss: 0.0000e+00 - accuracy: 0.4985 - val_loss: 0.0000e+00 - val_accuracy: 0.5146\n",
      "Epoch 116/500\n",
      "9/9 [==============================] - 0s 6ms/step - loss: 0.0000e+00 - accuracy: 0.4666 - val_loss: 0.0000e+00 - val_accuracy: 0.5146\n",
      "Epoch 117/500\n",
      "9/9 [==============================] - 0s 6ms/step - loss: 0.0000e+00 - accuracy: 0.5086 - val_loss: 0.0000e+00 - val_accuracy: 0.5146\n",
      "Epoch 118/500\n",
      "9/9 [==============================] - 0s 6ms/step - loss: 0.0000e+00 - accuracy: 0.5097 - val_loss: 0.0000e+00 - val_accuracy: 0.5146\n",
      "Epoch 119/500\n",
      "9/9 [==============================] - 0s 6ms/step - loss: 0.0000e+00 - accuracy: 0.4903 - val_loss: 0.0000e+00 - val_accuracy: 0.5146\n",
      "Epoch 120/500\n",
      "9/9 [==============================] - 0s 6ms/step - loss: 0.0000e+00 - accuracy: 0.4910 - val_loss: 0.0000e+00 - val_accuracy: 0.5146\n",
      "Epoch 121/500\n",
      "9/9 [==============================] - 0s 5ms/step - loss: 0.0000e+00 - accuracy: 0.5229 - val_loss: 0.0000e+00 - val_accuracy: 0.5146\n",
      "Epoch 122/500\n",
      "9/9 [==============================] - 0s 5ms/step - loss: 0.0000e+00 - accuracy: 0.4800 - val_loss: 0.0000e+00 - val_accuracy: 0.5146\n",
      "Epoch 123/500\n",
      "9/9 [==============================] - 0s 5ms/step - loss: 0.0000e+00 - accuracy: 0.4950 - val_loss: 0.0000e+00 - val_accuracy: 0.5146\n",
      "Epoch 124/500\n",
      "9/9 [==============================] - 0s 6ms/step - loss: 0.0000e+00 - accuracy: 0.4743 - val_loss: 0.0000e+00 - val_accuracy: 0.5146\n",
      "Epoch 125/500\n",
      "9/9 [==============================] - 0s 6ms/step - loss: 0.0000e+00 - accuracy: 0.4859 - val_loss: 0.0000e+00 - val_accuracy: 0.5146\n",
      "Epoch 126/500\n",
      "9/9 [==============================] - 0s 6ms/step - loss: 0.0000e+00 - accuracy: 0.4921 - val_loss: 0.0000e+00 - val_accuracy: 0.5146\n",
      "Epoch 127/500\n",
      "9/9 [==============================] - 0s 6ms/step - loss: 0.0000e+00 - accuracy: 0.4797 - val_loss: 0.0000e+00 - val_accuracy: 0.5146\n",
      "Epoch 128/500\n",
      "9/9 [==============================] - 0s 6ms/step - loss: 0.0000e+00 - accuracy: 0.4792 - val_loss: 0.0000e+00 - val_accuracy: 0.5146\n",
      "Epoch 129/500\n",
      "9/9 [==============================] - 0s 6ms/step - loss: 0.0000e+00 - accuracy: 0.4948 - val_loss: 0.0000e+00 - val_accuracy: 0.5146\n",
      "Epoch 130/500\n",
      "9/9 [==============================] - 0s 7ms/step - loss: 0.0000e+00 - accuracy: 0.5032 - val_loss: 0.0000e+00 - val_accuracy: 0.5146\n",
      "Epoch 131/500\n",
      "9/9 [==============================] - 0s 6ms/step - loss: 0.0000e+00 - accuracy: 0.4949 - val_loss: 0.0000e+00 - val_accuracy: 0.5146\n",
      "Epoch 132/500\n",
      "9/9 [==============================] - 0s 6ms/step - loss: 0.0000e+00 - accuracy: 0.4841 - val_loss: 0.0000e+00 - val_accuracy: 0.5146\n",
      "Epoch 133/500\n",
      "9/9 [==============================] - 0s 6ms/step - loss: 0.0000e+00 - accuracy: 0.5120 - val_loss: 0.0000e+00 - val_accuracy: 0.5146\n",
      "Epoch 134/500\n",
      "9/9 [==============================] - 0s 6ms/step - loss: 0.0000e+00 - accuracy: 0.5054 - val_loss: 0.0000e+00 - val_accuracy: 0.5146\n",
      "Epoch 135/500\n",
      "9/9 [==============================] - 0s 6ms/step - loss: 0.0000e+00 - accuracy: 0.5024 - val_loss: 0.0000e+00 - val_accuracy: 0.5146\n",
      "Epoch 136/500\n",
      "9/9 [==============================] - 0s 6ms/step - loss: 0.0000e+00 - accuracy: 0.4800 - val_loss: 0.0000e+00 - val_accuracy: 0.5146\n",
      "Epoch 137/500\n",
      "9/9 [==============================] - 0s 6ms/step - loss: 0.0000e+00 - accuracy: 0.4821 - val_loss: 0.0000e+00 - val_accuracy: 0.5146\n",
      "Epoch 138/500\n",
      "9/9 [==============================] - 0s 6ms/step - loss: 0.0000e+00 - accuracy: 0.5477 - val_loss: 0.0000e+00 - val_accuracy: 0.5146\n",
      "Epoch 139/500\n",
      "9/9 [==============================] - 0s 6ms/step - loss: 0.0000e+00 - accuracy: 0.5002 - val_loss: 0.0000e+00 - val_accuracy: 0.5146\n",
      "Epoch 140/500\n",
      "9/9 [==============================] - 0s 5ms/step - loss: 0.0000e+00 - accuracy: 0.4922 - val_loss: 0.0000e+00 - val_accuracy: 0.5146\n",
      "Epoch 141/500\n",
      "9/9 [==============================] - 0s 5ms/step - loss: 0.0000e+00 - accuracy: 0.5043 - val_loss: 0.0000e+00 - val_accuracy: 0.5146\n",
      "Epoch 142/500\n",
      "9/9 [==============================] - 0s 5ms/step - loss: 0.0000e+00 - accuracy: 0.5011 - val_loss: 0.0000e+00 - val_accuracy: 0.5146\n",
      "Epoch 143/500\n",
      "9/9 [==============================] - 0s 5ms/step - loss: 0.0000e+00 - accuracy: 0.4872 - val_loss: 0.0000e+00 - val_accuracy: 0.5146\n",
      "Epoch 144/500\n",
      "9/9 [==============================] - 0s 6ms/step - loss: 0.0000e+00 - accuracy: 0.4918 - val_loss: 0.0000e+00 - val_accuracy: 0.5146\n",
      "Epoch 145/500\n",
      "9/9 [==============================] - 0s 5ms/step - loss: 0.0000e+00 - accuracy: 0.4804 - val_loss: 0.0000e+00 - val_accuracy: 0.5146\n",
      "Epoch 146/500\n",
      "9/9 [==============================] - 0s 5ms/step - loss: 0.0000e+00 - accuracy: 0.4960 - val_loss: 0.0000e+00 - val_accuracy: 0.5146\n",
      "Epoch 147/500\n",
      "9/9 [==============================] - 0s 5ms/step - loss: 0.0000e+00 - accuracy: 0.4803 - val_loss: 0.0000e+00 - val_accuracy: 0.5146\n",
      "Epoch 148/500\n",
      "9/9 [==============================] - 0s 5ms/step - loss: 0.0000e+00 - accuracy: 0.4815 - val_loss: 0.0000e+00 - val_accuracy: 0.5146\n",
      "Epoch 149/500\n",
      "9/9 [==============================] - 0s 5ms/step - loss: 0.0000e+00 - accuracy: 0.4906 - val_loss: 0.0000e+00 - val_accuracy: 0.5146\n",
      "Epoch 150/500\n",
      "9/9 [==============================] - 0s 5ms/step - loss: 0.0000e+00 - accuracy: 0.5313 - val_loss: 0.0000e+00 - val_accuracy: 0.5146\n",
      "Epoch 151/500\n",
      "9/9 [==============================] - 0s 5ms/step - loss: 0.0000e+00 - accuracy: 0.5023 - val_loss: 0.0000e+00 - val_accuracy: 0.5146\n",
      "Epoch 152/500\n",
      "9/9 [==============================] - 0s 4ms/step - loss: 0.0000e+00 - accuracy: 0.5237 - val_loss: 0.0000e+00 - val_accuracy: 0.5146\n",
      "Epoch 153/500\n",
      "9/9 [==============================] - 0s 4ms/step - loss: 0.0000e+00 - accuracy: 0.5075 - val_loss: 0.0000e+00 - val_accuracy: 0.5146\n",
      "Epoch 154/500\n",
      "9/9 [==============================] - 0s 5ms/step - loss: 0.0000e+00 - accuracy: 0.5107 - val_loss: 0.0000e+00 - val_accuracy: 0.5146\n",
      "Epoch 155/500\n",
      "9/9 [==============================] - 0s 5ms/step - loss: 0.0000e+00 - accuracy: 0.5161 - val_loss: 0.0000e+00 - val_accuracy: 0.5146\n",
      "Epoch 156/500\n",
      "9/9 [==============================] - 0s 5ms/step - loss: 0.0000e+00 - accuracy: 0.4682 - val_loss: 0.0000e+00 - val_accuracy: 0.5146\n",
      "Epoch 157/500\n",
      "9/9 [==============================] - 0s 5ms/step - loss: 0.0000e+00 - accuracy: 0.5096 - val_loss: 0.0000e+00 - val_accuracy: 0.5146\n",
      "Epoch 158/500\n",
      "9/9 [==============================] - 0s 5ms/step - loss: 0.0000e+00 - accuracy: 0.5115 - val_loss: 0.0000e+00 - val_accuracy: 0.5146\n",
      "Epoch 159/500\n",
      "9/9 [==============================] - 0s 5ms/step - loss: 0.0000e+00 - accuracy: 0.4909 - val_loss: 0.0000e+00 - val_accuracy: 0.5146\n",
      "Epoch 160/500\n",
      "9/9 [==============================] - 0s 5ms/step - loss: 0.0000e+00 - accuracy: 0.4833 - val_loss: 0.0000e+00 - val_accuracy: 0.5146\n",
      "Epoch 161/500\n",
      "9/9 [==============================] - 0s 6ms/step - loss: 0.0000e+00 - accuracy: 0.4851 - val_loss: 0.0000e+00 - val_accuracy: 0.5146\n",
      "Epoch 162/500\n",
      "9/9 [==============================] - 0s 6ms/step - loss: 0.0000e+00 - accuracy: 0.4850 - val_loss: 0.0000e+00 - val_accuracy: 0.5146\n",
      "Epoch 163/500\n",
      "9/9 [==============================] - 0s 6ms/step - loss: 0.0000e+00 - accuracy: 0.4795 - val_loss: 0.0000e+00 - val_accuracy: 0.5146\n",
      "Epoch 164/500\n",
      "9/9 [==============================] - 0s 6ms/step - loss: 0.0000e+00 - accuracy: 0.5295 - val_loss: 0.0000e+00 - val_accuracy: 0.5146\n",
      "Epoch 165/500\n",
      "9/9 [==============================] - 0s 6ms/step - loss: 0.0000e+00 - accuracy: 0.4735 - val_loss: 0.0000e+00 - val_accuracy: 0.5146\n",
      "Epoch 166/500\n",
      "9/9 [==============================] - 0s 5ms/step - loss: 0.0000e+00 - accuracy: 0.5017 - val_loss: 0.0000e+00 - val_accuracy: 0.5146\n",
      "Epoch 167/500\n",
      "9/9 [==============================] - 0s 5ms/step - loss: 0.0000e+00 - accuracy: 0.5115 - val_loss: 0.0000e+00 - val_accuracy: 0.5146\n",
      "Epoch 168/500\n",
      "9/9 [==============================] - 0s 5ms/step - loss: 0.0000e+00 - accuracy: 0.4612 - val_loss: 0.0000e+00 - val_accuracy: 0.5146\n",
      "Epoch 169/500\n",
      "9/9 [==============================] - 0s 4ms/step - loss: 0.0000e+00 - accuracy: 0.4912 - val_loss: 0.0000e+00 - val_accuracy: 0.5146\n",
      "Epoch 170/500\n",
      "9/9 [==============================] - 0s 5ms/step - loss: 0.0000e+00 - accuracy: 0.4592 - val_loss: 0.0000e+00 - val_accuracy: 0.5146\n",
      "Epoch 171/500\n",
      "9/9 [==============================] - 0s 5ms/step - loss: 0.0000e+00 - accuracy: 0.5078 - val_loss: 0.0000e+00 - val_accuracy: 0.5146\n",
      "Epoch 172/500\n",
      "9/9 [==============================] - 0s 5ms/step - loss: 0.0000e+00 - accuracy: 0.4936 - val_loss: 0.0000e+00 - val_accuracy: 0.5146\n",
      "Epoch 173/500\n",
      "9/9 [==============================] - 0s 5ms/step - loss: 0.0000e+00 - accuracy: 0.5041 - val_loss: 0.0000e+00 - val_accuracy: 0.5146\n",
      "Epoch 174/500\n",
      "9/9 [==============================] - 0s 6ms/step - loss: 0.0000e+00 - accuracy: 0.4774 - val_loss: 0.0000e+00 - val_accuracy: 0.5146\n",
      "Epoch 175/500\n",
      "9/9 [==============================] - 0s 6ms/step - loss: 0.0000e+00 - accuracy: 0.4865 - val_loss: 0.0000e+00 - val_accuracy: 0.5146\n",
      "Epoch 176/500\n",
      "9/9 [==============================] - 0s 6ms/step - loss: 0.0000e+00 - accuracy: 0.5084 - val_loss: 0.0000e+00 - val_accuracy: 0.5146\n",
      "Epoch 177/500\n",
      "9/9 [==============================] - 0s 7ms/step - loss: 0.0000e+00 - accuracy: 0.5070 - val_loss: 0.0000e+00 - val_accuracy: 0.5146\n",
      "Epoch 178/500\n",
      "9/9 [==============================] - 0s 7ms/step - loss: 0.0000e+00 - accuracy: 0.4627 - val_loss: 0.0000e+00 - val_accuracy: 0.5146\n",
      "Epoch 179/500\n",
      "9/9 [==============================] - 0s 6ms/step - loss: 0.0000e+00 - accuracy: 0.5150 - val_loss: 0.0000e+00 - val_accuracy: 0.5146\n",
      "Epoch 180/500\n",
      "9/9 [==============================] - 0s 6ms/step - loss: 0.0000e+00 - accuracy: 0.4957 - val_loss: 0.0000e+00 - val_accuracy: 0.5146\n",
      "Epoch 181/500\n",
      "9/9 [==============================] - 0s 7ms/step - loss: 0.0000e+00 - accuracy: 0.5065 - val_loss: 0.0000e+00 - val_accuracy: 0.5146\n",
      "Epoch 182/500\n",
      "9/9 [==============================] - 0s 6ms/step - loss: 0.0000e+00 - accuracy: 0.5067 - val_loss: 0.0000e+00 - val_accuracy: 0.5146\n",
      "Epoch 183/500\n",
      "9/9 [==============================] - 0s 6ms/step - loss: 0.0000e+00 - accuracy: 0.4840 - val_loss: 0.0000e+00 - val_accuracy: 0.5146\n",
      "Epoch 184/500\n",
      "9/9 [==============================] - 0s 6ms/step - loss: 0.0000e+00 - accuracy: 0.5049 - val_loss: 0.0000e+00 - val_accuracy: 0.5146\n",
      "Epoch 185/500\n",
      "9/9 [==============================] - 0s 5ms/step - loss: 0.0000e+00 - accuracy: 0.4751 - val_loss: 0.0000e+00 - val_accuracy: 0.5146\n",
      "Epoch 186/500\n",
      "9/9 [==============================] - 0s 5ms/step - loss: 0.0000e+00 - accuracy: 0.5016 - val_loss: 0.0000e+00 - val_accuracy: 0.5146\n",
      "Epoch 187/500\n",
      "9/9 [==============================] - 0s 5ms/step - loss: 0.0000e+00 - accuracy: 0.4572 - val_loss: 0.0000e+00 - val_accuracy: 0.5146\n",
      "Epoch 188/500\n",
      "9/9 [==============================] - 0s 5ms/step - loss: 0.0000e+00 - accuracy: 0.5038 - val_loss: 0.0000e+00 - val_accuracy: 0.5146\n",
      "Epoch 189/500\n",
      "9/9 [==============================] - 0s 5ms/step - loss: 0.0000e+00 - accuracy: 0.5231 - val_loss: 0.0000e+00 - val_accuracy: 0.5146\n",
      "Epoch 190/500\n",
      "9/9 [==============================] - 0s 5ms/step - loss: 0.0000e+00 - accuracy: 0.4869 - val_loss: 0.0000e+00 - val_accuracy: 0.5146\n",
      "Epoch 191/500\n",
      "9/9 [==============================] - 0s 6ms/step - loss: 0.0000e+00 - accuracy: 0.4909 - val_loss: 0.0000e+00 - val_accuracy: 0.5146\n",
      "Epoch 192/500\n",
      "9/9 [==============================] - 0s 7ms/step - loss: 0.0000e+00 - accuracy: 0.5135 - val_loss: 0.0000e+00 - val_accuracy: 0.5146\n",
      "Epoch 193/500\n",
      "9/9 [==============================] - 0s 6ms/step - loss: 0.0000e+00 - accuracy: 0.4655 - val_loss: 0.0000e+00 - val_accuracy: 0.5146\n",
      "Epoch 194/500\n",
      "9/9 [==============================] - 0s 6ms/step - loss: 0.0000e+00 - accuracy: 0.4850 - val_loss: 0.0000e+00 - val_accuracy: 0.5146\n",
      "Epoch 195/500\n",
      "9/9 [==============================] - 0s 5ms/step - loss: 0.0000e+00 - accuracy: 0.4883 - val_loss: 0.0000e+00 - val_accuracy: 0.5146\n",
      "Epoch 196/500\n",
      "9/9 [==============================] - 0s 5ms/step - loss: 0.0000e+00 - accuracy: 0.5024 - val_loss: 0.0000e+00 - val_accuracy: 0.5146\n",
      "Epoch 197/500\n",
      "9/9 [==============================] - 0s 4ms/step - loss: 0.0000e+00 - accuracy: 0.5068 - val_loss: 0.0000e+00 - val_accuracy: 0.5146\n",
      "Epoch 198/500\n",
      "9/9 [==============================] - 0s 5ms/step - loss: 0.0000e+00 - accuracy: 0.4838 - val_loss: 0.0000e+00 - val_accuracy: 0.5146\n",
      "Epoch 199/500\n",
      "9/9 [==============================] - 0s 5ms/step - loss: 0.0000e+00 - accuracy: 0.4695 - val_loss: 0.0000e+00 - val_accuracy: 0.5146\n",
      "Epoch 200/500\n",
      "9/9 [==============================] - 0s 5ms/step - loss: 0.0000e+00 - accuracy: 0.5088 - val_loss: 0.0000e+00 - val_accuracy: 0.5146\n",
      "Epoch 201/500\n",
      "9/9 [==============================] - 0s 5ms/step - loss: 0.0000e+00 - accuracy: 0.5006 - val_loss: 0.0000e+00 - val_accuracy: 0.5146\n",
      "Epoch 202/500\n",
      "9/9 [==============================] - 0s 5ms/step - loss: 0.0000e+00 - accuracy: 0.4685 - val_loss: 0.0000e+00 - val_accuracy: 0.5146\n",
      "Epoch 203/500\n",
      "9/9 [==============================] - 0s 5ms/step - loss: 0.0000e+00 - accuracy: 0.4914 - val_loss: 0.0000e+00 - val_accuracy: 0.5146\n",
      "Epoch 204/500\n",
      "9/9 [==============================] - 0s 5ms/step - loss: 0.0000e+00 - accuracy: 0.4791 - val_loss: 0.0000e+00 - val_accuracy: 0.5146\n",
      "Epoch 205/500\n",
      "9/9 [==============================] - 0s 5ms/step - loss: 0.0000e+00 - accuracy: 0.4634 - val_loss: 0.0000e+00 - val_accuracy: 0.5146\n",
      "Epoch 206/500\n",
      "9/9 [==============================] - 0s 5ms/step - loss: 0.0000e+00 - accuracy: 0.5134 - val_loss: 0.0000e+00 - val_accuracy: 0.5146\n",
      "Epoch 207/500\n",
      "9/9 [==============================] - 0s 5ms/step - loss: 0.0000e+00 - accuracy: 0.4681 - val_loss: 0.0000e+00 - val_accuracy: 0.5146\n",
      "Epoch 208/500\n",
      "9/9 [==============================] - 0s 4ms/step - loss: 0.0000e+00 - accuracy: 0.5199 - val_loss: 0.0000e+00 - val_accuracy: 0.5146\n",
      "Epoch 209/500\n",
      "9/9 [==============================] - 0s 5ms/step - loss: 0.0000e+00 - accuracy: 0.5155 - val_loss: 0.0000e+00 - val_accuracy: 0.5146\n",
      "Epoch 210/500\n",
      "9/9 [==============================] - 0s 5ms/step - loss: 0.0000e+00 - accuracy: 0.4792 - val_loss: 0.0000e+00 - val_accuracy: 0.5146\n",
      "Epoch 211/500\n",
      "9/9 [==============================] - 0s 5ms/step - loss: 0.0000e+00 - accuracy: 0.4878 - val_loss: 0.0000e+00 - val_accuracy: 0.5146\n",
      "Epoch 212/500\n",
      "9/9 [==============================] - 0s 5ms/step - loss: 0.0000e+00 - accuracy: 0.4606 - val_loss: 0.0000e+00 - val_accuracy: 0.5146\n",
      "Epoch 213/500\n",
      "9/9 [==============================] - 0s 5ms/step - loss: 0.0000e+00 - accuracy: 0.4882 - val_loss: 0.0000e+00 - val_accuracy: 0.5146\n",
      "Epoch 214/500\n",
      "9/9 [==============================] - 0s 5ms/step - loss: 0.0000e+00 - accuracy: 0.5056 - val_loss: 0.0000e+00 - val_accuracy: 0.5146\n",
      "Epoch 215/500\n",
      "9/9 [==============================] - 0s 5ms/step - loss: 0.0000e+00 - accuracy: 0.4886 - val_loss: 0.0000e+00 - val_accuracy: 0.5146\n",
      "Epoch 216/500\n",
      "9/9 [==============================] - 0s 5ms/step - loss: 0.0000e+00 - accuracy: 0.4982 - val_loss: 0.0000e+00 - val_accuracy: 0.5146\n",
      "Epoch 217/500\n",
      "9/9 [==============================] - 0s 5ms/step - loss: 0.0000e+00 - accuracy: 0.4844 - val_loss: 0.0000e+00 - val_accuracy: 0.5146\n",
      "Epoch 218/500\n",
      "9/9 [==============================] - 0s 5ms/step - loss: 0.0000e+00 - accuracy: 0.4998 - val_loss: 0.0000e+00 - val_accuracy: 0.5146\n",
      "Epoch 219/500\n",
      "9/9 [==============================] - 0s 5ms/step - loss: 0.0000e+00 - accuracy: 0.5249 - val_loss: 0.0000e+00 - val_accuracy: 0.5146\n",
      "Epoch 220/500\n",
      "9/9 [==============================] - 0s 5ms/step - loss: 0.0000e+00 - accuracy: 0.4877 - val_loss: 0.0000e+00 - val_accuracy: 0.5146\n",
      "Epoch 221/500\n",
      "9/9 [==============================] - 0s 5ms/step - loss: 0.0000e+00 - accuracy: 0.4999 - val_loss: 0.0000e+00 - val_accuracy: 0.5146\n",
      "Epoch 222/500\n",
      "9/9 [==============================] - 0s 4ms/step - loss: 0.0000e+00 - accuracy: 0.5003 - val_loss: 0.0000e+00 - val_accuracy: 0.5146\n",
      "Epoch 223/500\n",
      "9/9 [==============================] - 0s 4ms/step - loss: 0.0000e+00 - accuracy: 0.4914 - val_loss: 0.0000e+00 - val_accuracy: 0.5146\n",
      "Epoch 224/500\n",
      "9/9 [==============================] - 0s 5ms/step - loss: 0.0000e+00 - accuracy: 0.4924 - val_loss: 0.0000e+00 - val_accuracy: 0.5146\n",
      "Epoch 225/500\n",
      "9/9 [==============================] - 0s 4ms/step - loss: 0.0000e+00 - accuracy: 0.4661 - val_loss: 0.0000e+00 - val_accuracy: 0.5146\n",
      "Epoch 226/500\n",
      "9/9 [==============================] - 0s 5ms/step - loss: 0.0000e+00 - accuracy: 0.4808 - val_loss: 0.0000e+00 - val_accuracy: 0.5146\n",
      "Epoch 227/500\n",
      "9/9 [==============================] - 0s 5ms/step - loss: 0.0000e+00 - accuracy: 0.4926 - val_loss: 0.0000e+00 - val_accuracy: 0.5146\n",
      "Epoch 228/500\n",
      "9/9 [==============================] - 0s 5ms/step - loss: 0.0000e+00 - accuracy: 0.4886 - val_loss: 0.0000e+00 - val_accuracy: 0.5146\n",
      "Epoch 229/500\n",
      "9/9 [==============================] - 0s 5ms/step - loss: 0.0000e+00 - accuracy: 0.5185 - val_loss: 0.0000e+00 - val_accuracy: 0.5146\n",
      "Epoch 230/500\n",
      "9/9 [==============================] - 0s 5ms/step - loss: 0.0000e+00 - accuracy: 0.4860 - val_loss: 0.0000e+00 - val_accuracy: 0.5146\n",
      "Epoch 231/500\n",
      "9/9 [==============================] - 0s 5ms/step - loss: 0.0000e+00 - accuracy: 0.4648 - val_loss: 0.0000e+00 - val_accuracy: 0.5146\n",
      "Epoch 232/500\n",
      "9/9 [==============================] - 0s 5ms/step - loss: 0.0000e+00 - accuracy: 0.4724 - val_loss: 0.0000e+00 - val_accuracy: 0.5146\n",
      "Epoch 233/500\n",
      "9/9 [==============================] - 0s 5ms/step - loss: 0.0000e+00 - accuracy: 0.5099 - val_loss: 0.0000e+00 - val_accuracy: 0.5146\n",
      "Epoch 234/500\n",
      "9/9 [==============================] - 0s 5ms/step - loss: 0.0000e+00 - accuracy: 0.5171 - val_loss: 0.0000e+00 - val_accuracy: 0.5146\n",
      "Epoch 235/500\n",
      "9/9 [==============================] - 0s 5ms/step - loss: 0.0000e+00 - accuracy: 0.5044 - val_loss: 0.0000e+00 - val_accuracy: 0.5146\n",
      "Epoch 236/500\n",
      "9/9 [==============================] - 0s 5ms/step - loss: 0.0000e+00 - accuracy: 0.4508 - val_loss: 0.0000e+00 - val_accuracy: 0.5146\n",
      "Epoch 237/500\n",
      "9/9 [==============================] - 0s 5ms/step - loss: 0.0000e+00 - accuracy: 0.4994 - val_loss: 0.0000e+00 - val_accuracy: 0.5146\n",
      "Epoch 238/500\n",
      "9/9 [==============================] - 0s 5ms/step - loss: 0.0000e+00 - accuracy: 0.5060 - val_loss: 0.0000e+00 - val_accuracy: 0.5146\n",
      "Epoch 239/500\n",
      "9/9 [==============================] - 0s 5ms/step - loss: 0.0000e+00 - accuracy: 0.5096 - val_loss: 0.0000e+00 - val_accuracy: 0.5146\n",
      "Epoch 240/500\n",
      "9/9 [==============================] - 0s 5ms/step - loss: 0.0000e+00 - accuracy: 0.4984 - val_loss: 0.0000e+00 - val_accuracy: 0.5146\n",
      "Epoch 241/500\n",
      "9/9 [==============================] - 0s 5ms/step - loss: 0.0000e+00 - accuracy: 0.5319 - val_loss: 0.0000e+00 - val_accuracy: 0.5146\n",
      "Epoch 242/500\n",
      "9/9 [==============================] - 0s 4ms/step - loss: 0.0000e+00 - accuracy: 0.4968 - val_loss: 0.0000e+00 - val_accuracy: 0.5146\n",
      "Epoch 243/500\n",
      "9/9 [==============================] - 0s 5ms/step - loss: 0.0000e+00 - accuracy: 0.5190 - val_loss: 0.0000e+00 - val_accuracy: 0.5146\n",
      "Epoch 244/500\n",
      "9/9 [==============================] - 0s 5ms/step - loss: 0.0000e+00 - accuracy: 0.5086 - val_loss: 0.0000e+00 - val_accuracy: 0.5146\n",
      "Epoch 245/500\n",
      "9/9 [==============================] - 0s 5ms/step - loss: 0.0000e+00 - accuracy: 0.4948 - val_loss: 0.0000e+00 - val_accuracy: 0.5146\n",
      "Epoch 246/500\n",
      "9/9 [==============================] - 0s 5ms/step - loss: 0.0000e+00 - accuracy: 0.5224 - val_loss: 0.0000e+00 - val_accuracy: 0.5146\n",
      "Epoch 247/500\n",
      "9/9 [==============================] - 0s 5ms/step - loss: 0.0000e+00 - accuracy: 0.5027 - val_loss: 0.0000e+00 - val_accuracy: 0.5146\n",
      "Epoch 248/500\n",
      "9/9 [==============================] - 0s 5ms/step - loss: 0.0000e+00 - accuracy: 0.4965 - val_loss: 0.0000e+00 - val_accuracy: 0.5146\n",
      "Epoch 249/500\n",
      "9/9 [==============================] - 0s 5ms/step - loss: 0.0000e+00 - accuracy: 0.5232 - val_loss: 0.0000e+00 - val_accuracy: 0.5146\n",
      "Epoch 250/500\n",
      "9/9 [==============================] - 0s 5ms/step - loss: 0.0000e+00 - accuracy: 0.4974 - val_loss: 0.0000e+00 - val_accuracy: 0.5146\n",
      "Epoch 251/500\n",
      "9/9 [==============================] - 0s 5ms/step - loss: 0.0000e+00 - accuracy: 0.4787 - val_loss: 0.0000e+00 - val_accuracy: 0.5146\n",
      "Epoch 252/500\n",
      "9/9 [==============================] - 0s 6ms/step - loss: 0.0000e+00 - accuracy: 0.4899 - val_loss: 0.0000e+00 - val_accuracy: 0.5146\n",
      "Epoch 253/500\n",
      "9/9 [==============================] - 0s 5ms/step - loss: 0.0000e+00 - accuracy: 0.4827 - val_loss: 0.0000e+00 - val_accuracy: 0.5146\n",
      "Epoch 254/500\n",
      "9/9 [==============================] - 0s 5ms/step - loss: 0.0000e+00 - accuracy: 0.4629 - val_loss: 0.0000e+00 - val_accuracy: 0.5146\n",
      "Epoch 255/500\n",
      "9/9 [==============================] - 0s 5ms/step - loss: 0.0000e+00 - accuracy: 0.4927 - val_loss: 0.0000e+00 - val_accuracy: 0.5146\n",
      "Epoch 256/500\n",
      "9/9 [==============================] - 0s 5ms/step - loss: 0.0000e+00 - accuracy: 0.5033 - val_loss: 0.0000e+00 - val_accuracy: 0.5146\n",
      "Epoch 257/500\n",
      "9/9 [==============================] - 0s 5ms/step - loss: 0.0000e+00 - accuracy: 0.4705 - val_loss: 0.0000e+00 - val_accuracy: 0.5146\n",
      "Epoch 258/500\n",
      "9/9 [==============================] - 0s 5ms/step - loss: 0.0000e+00 - accuracy: 0.5016 - val_loss: 0.0000e+00 - val_accuracy: 0.5146\n",
      "Epoch 259/500\n",
      "9/9 [==============================] - 0s 5ms/step - loss: 0.0000e+00 - accuracy: 0.5132 - val_loss: 0.0000e+00 - val_accuracy: 0.5146\n",
      "Epoch 260/500\n",
      "9/9 [==============================] - 0s 5ms/step - loss: 0.0000e+00 - accuracy: 0.4786 - val_loss: 0.0000e+00 - val_accuracy: 0.5146\n",
      "Epoch 261/500\n",
      "9/9 [==============================] - 0s 5ms/step - loss: 0.0000e+00 - accuracy: 0.5078 - val_loss: 0.0000e+00 - val_accuracy: 0.5146\n",
      "Epoch 262/500\n",
      "9/9 [==============================] - 0s 5ms/step - loss: 0.0000e+00 - accuracy: 0.5003 - val_loss: 0.0000e+00 - val_accuracy: 0.5146\n",
      "Epoch 263/500\n",
      "9/9 [==============================] - 0s 4ms/step - loss: 0.0000e+00 - accuracy: 0.5017 - val_loss: 0.0000e+00 - val_accuracy: 0.5146\n",
      "Epoch 264/500\n",
      "9/9 [==============================] - 0s 5ms/step - loss: 0.0000e+00 - accuracy: 0.4960 - val_loss: 0.0000e+00 - val_accuracy: 0.5146\n",
      "Epoch 265/500\n",
      "9/9 [==============================] - 0s 5ms/step - loss: 0.0000e+00 - accuracy: 0.4976 - val_loss: 0.0000e+00 - val_accuracy: 0.5146\n",
      "Epoch 266/500\n",
      "9/9 [==============================] - 0s 4ms/step - loss: 0.0000e+00 - accuracy: 0.4905 - val_loss: 0.0000e+00 - val_accuracy: 0.5146\n",
      "Epoch 267/500\n",
      "9/9 [==============================] - 0s 5ms/step - loss: 0.0000e+00 - accuracy: 0.5036 - val_loss: 0.0000e+00 - val_accuracy: 0.5146\n",
      "Epoch 268/500\n",
      "9/9 [==============================] - 0s 5ms/step - loss: 0.0000e+00 - accuracy: 0.4867 - val_loss: 0.0000e+00 - val_accuracy: 0.5146\n",
      "Epoch 269/500\n",
      "9/9 [==============================] - 0s 5ms/step - loss: 0.0000e+00 - accuracy: 0.5013 - val_loss: 0.0000e+00 - val_accuracy: 0.5146\n",
      "Epoch 270/500\n",
      "9/9 [==============================] - 0s 5ms/step - loss: 0.0000e+00 - accuracy: 0.5156 - val_loss: 0.0000e+00 - val_accuracy: 0.5146\n",
      "Epoch 271/500\n",
      "9/9 [==============================] - 0s 5ms/step - loss: 0.0000e+00 - accuracy: 0.4968 - val_loss: 0.0000e+00 - val_accuracy: 0.5146\n",
      "Epoch 272/500\n",
      "9/9 [==============================] - 0s 5ms/step - loss: 0.0000e+00 - accuracy: 0.5286 - val_loss: 0.0000e+00 - val_accuracy: 0.5146\n",
      "Epoch 273/500\n",
      "9/9 [==============================] - 0s 6ms/step - loss: 0.0000e+00 - accuracy: 0.5022 - val_loss: 0.0000e+00 - val_accuracy: 0.5146\n",
      "Epoch 274/500\n",
      "9/9 [==============================] - 0s 5ms/step - loss: 0.0000e+00 - accuracy: 0.5052 - val_loss: 0.0000e+00 - val_accuracy: 0.5146\n",
      "Epoch 275/500\n",
      "9/9 [==============================] - 0s 5ms/step - loss: 0.0000e+00 - accuracy: 0.4878 - val_loss: 0.0000e+00 - val_accuracy: 0.5146\n",
      "Epoch 276/500\n",
      "9/9 [==============================] - 0s 5ms/step - loss: 0.0000e+00 - accuracy: 0.4781 - val_loss: 0.0000e+00 - val_accuracy: 0.5146\n",
      "Epoch 277/500\n",
      "9/9 [==============================] - 0s 5ms/step - loss: 0.0000e+00 - accuracy: 0.4629 - val_loss: 0.0000e+00 - val_accuracy: 0.5146\n",
      "Epoch 278/500\n",
      "9/9 [==============================] - 0s 5ms/step - loss: 0.0000e+00 - accuracy: 0.5132 - val_loss: 0.0000e+00 - val_accuracy: 0.5146\n",
      "Epoch 279/500\n",
      "9/9 [==============================] - 0s 4ms/step - loss: 0.0000e+00 - accuracy: 0.4742 - val_loss: 0.0000e+00 - val_accuracy: 0.5146\n",
      "Epoch 280/500\n",
      "9/9 [==============================] - 0s 5ms/step - loss: 0.0000e+00 - accuracy: 0.5149 - val_loss: 0.0000e+00 - val_accuracy: 0.5146\n",
      "Epoch 281/500\n",
      "9/9 [==============================] - 0s 5ms/step - loss: 0.0000e+00 - accuracy: 0.5088 - val_loss: 0.0000e+00 - val_accuracy: 0.5146\n",
      "Epoch 282/500\n",
      "9/9 [==============================] - 0s 5ms/step - loss: 0.0000e+00 - accuracy: 0.4785 - val_loss: 0.0000e+00 - val_accuracy: 0.5146\n",
      "Epoch 283/500\n",
      "9/9 [==============================] - 0s 5ms/step - loss: 0.0000e+00 - accuracy: 0.4882 - val_loss: 0.0000e+00 - val_accuracy: 0.5146\n",
      "Epoch 284/500\n",
      "9/9 [==============================] - 0s 4ms/step - loss: 0.0000e+00 - accuracy: 0.5011 - val_loss: 0.0000e+00 - val_accuracy: 0.5146\n",
      "Epoch 285/500\n",
      "9/9 [==============================] - 0s 5ms/step - loss: 0.0000e+00 - accuracy: 0.5075 - val_loss: 0.0000e+00 - val_accuracy: 0.5146\n",
      "Epoch 286/500\n",
      "9/9 [==============================] - 0s 5ms/step - loss: 0.0000e+00 - accuracy: 0.5088 - val_loss: 0.0000e+00 - val_accuracy: 0.5146\n",
      "Epoch 287/500\n",
      "9/9 [==============================] - 0s 5ms/step - loss: 0.0000e+00 - accuracy: 0.4845 - val_loss: 0.0000e+00 - val_accuracy: 0.5146\n",
      "Epoch 288/500\n",
      "9/9 [==============================] - 0s 5ms/step - loss: 0.0000e+00 - accuracy: 0.4954 - val_loss: 0.0000e+00 - val_accuracy: 0.5146\n",
      "Epoch 289/500\n",
      "9/9 [==============================] - 0s 5ms/step - loss: 0.0000e+00 - accuracy: 0.5148 - val_loss: 0.0000e+00 - val_accuracy: 0.5146\n",
      "Epoch 290/500\n",
      "9/9 [==============================] - 0s 4ms/step - loss: 0.0000e+00 - accuracy: 0.5018 - val_loss: 0.0000e+00 - val_accuracy: 0.5146\n",
      "Epoch 291/500\n",
      "9/9 [==============================] - 0s 5ms/step - loss: 0.0000e+00 - accuracy: 0.5207 - val_loss: 0.0000e+00 - val_accuracy: 0.5146\n",
      "Epoch 292/500\n",
      "9/9 [==============================] - 0s 5ms/step - loss: 0.0000e+00 - accuracy: 0.4893 - val_loss: 0.0000e+00 - val_accuracy: 0.5146\n",
      "Epoch 293/500\n",
      "9/9 [==============================] - 0s 5ms/step - loss: 0.0000e+00 - accuracy: 0.4872 - val_loss: 0.0000e+00 - val_accuracy: 0.5146\n",
      "Epoch 294/500\n",
      "9/9 [==============================] - 0s 5ms/step - loss: 0.0000e+00 - accuracy: 0.5080 - val_loss: 0.0000e+00 - val_accuracy: 0.5146\n",
      "Epoch 295/500\n",
      "9/9 [==============================] - 0s 5ms/step - loss: 0.0000e+00 - accuracy: 0.4993 - val_loss: 0.0000e+00 - val_accuracy: 0.5146\n",
      "Epoch 296/500\n",
      "9/9 [==============================] - 0s 5ms/step - loss: 0.0000e+00 - accuracy: 0.4739 - val_loss: 0.0000e+00 - val_accuracy: 0.5146\n",
      "Epoch 297/500\n",
      "9/9 [==============================] - 0s 5ms/step - loss: 0.0000e+00 - accuracy: 0.5051 - val_loss: 0.0000e+00 - val_accuracy: 0.5146\n",
      "Epoch 298/500\n",
      "9/9 [==============================] - 0s 5ms/step - loss: 0.0000e+00 - accuracy: 0.5156 - val_loss: 0.0000e+00 - val_accuracy: 0.5146\n",
      "Epoch 299/500\n",
      "9/9 [==============================] - 0s 5ms/step - loss: 0.0000e+00 - accuracy: 0.5036 - val_loss: 0.0000e+00 - val_accuracy: 0.5146\n",
      "Epoch 300/500\n",
      "9/9 [==============================] - 0s 5ms/step - loss: 0.0000e+00 - accuracy: 0.5033 - val_loss: 0.0000e+00 - val_accuracy: 0.5146\n",
      "Epoch 301/500\n",
      "9/9 [==============================] - 0s 5ms/step - loss: 0.0000e+00 - accuracy: 0.4858 - val_loss: 0.0000e+00 - val_accuracy: 0.5146\n",
      "Epoch 302/500\n",
      "9/9 [==============================] - 0s 5ms/step - loss: 0.0000e+00 - accuracy: 0.4831 - val_loss: 0.0000e+00 - val_accuracy: 0.5146\n",
      "Epoch 303/500\n",
      "9/9 [==============================] - 0s 5ms/step - loss: 0.0000e+00 - accuracy: 0.5064 - val_loss: 0.0000e+00 - val_accuracy: 0.5146\n",
      "Epoch 304/500\n",
      "9/9 [==============================] - 0s 5ms/step - loss: 0.0000e+00 - accuracy: 0.4997 - val_loss: 0.0000e+00 - val_accuracy: 0.5146\n",
      "Epoch 305/500\n",
      "9/9 [==============================] - 0s 5ms/step - loss: 0.0000e+00 - accuracy: 0.5080 - val_loss: 0.0000e+00 - val_accuracy: 0.5146\n",
      "Epoch 306/500\n",
      "9/9 [==============================] - 0s 5ms/step - loss: 0.0000e+00 - accuracy: 0.4908 - val_loss: 0.0000e+00 - val_accuracy: 0.5146\n",
      "Epoch 307/500\n",
      "9/9 [==============================] - 0s 5ms/step - loss: 0.0000e+00 - accuracy: 0.5133 - val_loss: 0.0000e+00 - val_accuracy: 0.5146\n",
      "Epoch 308/500\n",
      "9/9 [==============================] - 0s 5ms/step - loss: 0.0000e+00 - accuracy: 0.4712 - val_loss: 0.0000e+00 - val_accuracy: 0.5146\n",
      "Epoch 309/500\n",
      "9/9 [==============================] - 0s 4ms/step - loss: 0.0000e+00 - accuracy: 0.4927 - val_loss: 0.0000e+00 - val_accuracy: 0.5146\n",
      "Epoch 310/500\n",
      "9/9 [==============================] - 0s 5ms/step - loss: 0.0000e+00 - accuracy: 0.4913 - val_loss: 0.0000e+00 - val_accuracy: 0.5146\n",
      "Epoch 311/500\n",
      "9/9 [==============================] - 0s 5ms/step - loss: 0.0000e+00 - accuracy: 0.5048 - val_loss: 0.0000e+00 - val_accuracy: 0.5146\n",
      "Epoch 312/500\n",
      "9/9 [==============================] - 0s 5ms/step - loss: 0.0000e+00 - accuracy: 0.4790 - val_loss: 0.0000e+00 - val_accuracy: 0.5146\n",
      "Epoch 313/500\n",
      "9/9 [==============================] - 0s 4ms/step - loss: 0.0000e+00 - accuracy: 0.5056 - val_loss: 0.0000e+00 - val_accuracy: 0.5146\n",
      "Epoch 314/500\n",
      "9/9 [==============================] - 0s 5ms/step - loss: 0.0000e+00 - accuracy: 0.4825 - val_loss: 0.0000e+00 - val_accuracy: 0.5146\n",
      "Epoch 315/500\n",
      "9/9 [==============================] - 0s 5ms/step - loss: 0.0000e+00 - accuracy: 0.4479 - val_loss: 0.0000e+00 - val_accuracy: 0.5146\n",
      "Epoch 316/500\n",
      "9/9 [==============================] - 0s 5ms/step - loss: 0.0000e+00 - accuracy: 0.4573 - val_loss: 0.0000e+00 - val_accuracy: 0.5146\n",
      "Epoch 317/500\n",
      "9/9 [==============================] - 0s 5ms/step - loss: 0.0000e+00 - accuracy: 0.4726 - val_loss: 0.0000e+00 - val_accuracy: 0.5146\n",
      "Epoch 318/500\n",
      "9/9 [==============================] - 0s 4ms/step - loss: 0.0000e+00 - accuracy: 0.4667 - val_loss: 0.0000e+00 - val_accuracy: 0.5146\n",
      "Epoch 319/500\n",
      "9/9 [==============================] - 0s 5ms/step - loss: 0.0000e+00 - accuracy: 0.5148 - val_loss: 0.0000e+00 - val_accuracy: 0.5146\n",
      "Epoch 320/500\n",
      "9/9 [==============================] - 0s 5ms/step - loss: 0.0000e+00 - accuracy: 0.4842 - val_loss: 0.0000e+00 - val_accuracy: 0.5146\n",
      "Epoch 321/500\n",
      "9/9 [==============================] - 0s 5ms/step - loss: 0.0000e+00 - accuracy: 0.4966 - val_loss: 0.0000e+00 - val_accuracy: 0.5146\n",
      "Epoch 322/500\n",
      "9/9 [==============================] - 0s 4ms/step - loss: 0.0000e+00 - accuracy: 0.4994 - val_loss: 0.0000e+00 - val_accuracy: 0.5146\n",
      "Epoch 323/500\n",
      "9/9 [==============================] - 0s 5ms/step - loss: 0.0000e+00 - accuracy: 0.4651 - val_loss: 0.0000e+00 - val_accuracy: 0.5146\n",
      "Epoch 324/500\n",
      "9/9 [==============================] - 0s 5ms/step - loss: 0.0000e+00 - accuracy: 0.4795 - val_loss: 0.0000e+00 - val_accuracy: 0.5146\n",
      "Epoch 325/500\n",
      "9/9 [==============================] - 0s 4ms/step - loss: 0.0000e+00 - accuracy: 0.4721 - val_loss: 0.0000e+00 - val_accuracy: 0.5146\n",
      "Epoch 326/500\n",
      "9/9 [==============================] - 0s 5ms/step - loss: 0.0000e+00 - accuracy: 0.5160 - val_loss: 0.0000e+00 - val_accuracy: 0.5146\n",
      "Epoch 327/500\n",
      "9/9 [==============================] - 0s 5ms/step - loss: 0.0000e+00 - accuracy: 0.5223 - val_loss: 0.0000e+00 - val_accuracy: 0.5146\n",
      "Epoch 328/500\n",
      "9/9 [==============================] - 0s 5ms/step - loss: 0.0000e+00 - accuracy: 0.4638 - val_loss: 0.0000e+00 - val_accuracy: 0.5146\n",
      "Epoch 329/500\n",
      "9/9 [==============================] - 0s 5ms/step - loss: 0.0000e+00 - accuracy: 0.5264 - val_loss: 0.0000e+00 - val_accuracy: 0.5146\n",
      "Epoch 330/500\n",
      "9/9 [==============================] - 0s 5ms/step - loss: 0.0000e+00 - accuracy: 0.4880 - val_loss: 0.0000e+00 - val_accuracy: 0.5146\n",
      "Epoch 331/500\n",
      "9/9 [==============================] - 0s 5ms/step - loss: 0.0000e+00 - accuracy: 0.4645 - val_loss: 0.0000e+00 - val_accuracy: 0.5146\n",
      "Epoch 332/500\n",
      "9/9 [==============================] - 0s 5ms/step - loss: 0.0000e+00 - accuracy: 0.5155 - val_loss: 0.0000e+00 - val_accuracy: 0.5146\n",
      "Epoch 333/500\n",
      "9/9 [==============================] - 0s 5ms/step - loss: 0.0000e+00 - accuracy: 0.4938 - val_loss: 0.0000e+00 - val_accuracy: 0.5146\n",
      "Epoch 334/500\n",
      "9/9 [==============================] - 0s 5ms/step - loss: 0.0000e+00 - accuracy: 0.4845 - val_loss: 0.0000e+00 - val_accuracy: 0.5146\n",
      "Epoch 335/500\n",
      "9/9 [==============================] - 0s 5ms/step - loss: 0.0000e+00 - accuracy: 0.5239 - val_loss: 0.0000e+00 - val_accuracy: 0.5146\n",
      "Epoch 336/500\n",
      "9/9 [==============================] - 0s 5ms/step - loss: 0.0000e+00 - accuracy: 0.5201 - val_loss: 0.0000e+00 - val_accuracy: 0.5146\n",
      "Epoch 337/500\n",
      "9/9 [==============================] - 0s 5ms/step - loss: 0.0000e+00 - accuracy: 0.5135 - val_loss: 0.0000e+00 - val_accuracy: 0.5146\n",
      "Epoch 338/500\n",
      "9/9 [==============================] - 0s 5ms/step - loss: 0.0000e+00 - accuracy: 0.5062 - val_loss: 0.0000e+00 - val_accuracy: 0.5146\n",
      "Epoch 339/500\n",
      "9/9 [==============================] - 0s 5ms/step - loss: 0.0000e+00 - accuracy: 0.5004 - val_loss: 0.0000e+00 - val_accuracy: 0.5146\n",
      "Epoch 340/500\n",
      "9/9 [==============================] - 0s 5ms/step - loss: 0.0000e+00 - accuracy: 0.4774 - val_loss: 0.0000e+00 - val_accuracy: 0.5146\n",
      "Epoch 341/500\n",
      "9/9 [==============================] - 0s 5ms/step - loss: 0.0000e+00 - accuracy: 0.5243 - val_loss: 0.0000e+00 - val_accuracy: 0.5146\n",
      "Epoch 342/500\n",
      "9/9 [==============================] - 0s 5ms/step - loss: 0.0000e+00 - accuracy: 0.5263 - val_loss: 0.0000e+00 - val_accuracy: 0.5146\n",
      "Epoch 343/500\n",
      "9/9 [==============================] - 0s 6ms/step - loss: 0.0000e+00 - accuracy: 0.4639 - val_loss: 0.0000e+00 - val_accuracy: 0.5146\n",
      "Epoch 344/500\n",
      "9/9 [==============================] - 0s 5ms/step - loss: 0.0000e+00 - accuracy: 0.5165 - val_loss: 0.0000e+00 - val_accuracy: 0.5146\n",
      "Epoch 345/500\n",
      "9/9 [==============================] - 0s 5ms/step - loss: 0.0000e+00 - accuracy: 0.4762 - val_loss: 0.0000e+00 - val_accuracy: 0.5146\n",
      "Epoch 346/500\n",
      "9/9 [==============================] - 0s 5ms/step - loss: 0.0000e+00 - accuracy: 0.4959 - val_loss: 0.0000e+00 - val_accuracy: 0.5146\n",
      "Epoch 347/500\n",
      "9/9 [==============================] - 0s 5ms/step - loss: 0.0000e+00 - accuracy: 0.5052 - val_loss: 0.0000e+00 - val_accuracy: 0.5146\n",
      "Epoch 348/500\n",
      "9/9 [==============================] - 0s 5ms/step - loss: 0.0000e+00 - accuracy: 0.4899 - val_loss: 0.0000e+00 - val_accuracy: 0.5146\n",
      "Epoch 349/500\n",
      "9/9 [==============================] - 0s 4ms/step - loss: 0.0000e+00 - accuracy: 0.5325 - val_loss: 0.0000e+00 - val_accuracy: 0.5146\n",
      "Epoch 350/500\n",
      "9/9 [==============================] - 0s 5ms/step - loss: 0.0000e+00 - accuracy: 0.5021 - val_loss: 0.0000e+00 - val_accuracy: 0.5146\n",
      "Epoch 351/500\n",
      "9/9 [==============================] - 0s 5ms/step - loss: 0.0000e+00 - accuracy: 0.5012 - val_loss: 0.0000e+00 - val_accuracy: 0.5146\n",
      "Epoch 352/500\n",
      "9/9 [==============================] - 0s 5ms/step - loss: 0.0000e+00 - accuracy: 0.5144 - val_loss: 0.0000e+00 - val_accuracy: 0.5146\n",
      "Epoch 353/500\n",
      "9/9 [==============================] - 0s 5ms/step - loss: 0.0000e+00 - accuracy: 0.4643 - val_loss: 0.0000e+00 - val_accuracy: 0.5146\n",
      "Epoch 354/500\n",
      "9/9 [==============================] - 0s 4ms/step - loss: 0.0000e+00 - accuracy: 0.5104 - val_loss: 0.0000e+00 - val_accuracy: 0.5146\n",
      "Epoch 355/500\n",
      "9/9 [==============================] - 0s 5ms/step - loss: 0.0000e+00 - accuracy: 0.4705 - val_loss: 0.0000e+00 - val_accuracy: 0.5146\n",
      "Epoch 356/500\n",
      "9/9 [==============================] - 0s 5ms/step - loss: 0.0000e+00 - accuracy: 0.5186 - val_loss: 0.0000e+00 - val_accuracy: 0.5146\n",
      "Epoch 357/500\n",
      "9/9 [==============================] - 0s 5ms/step - loss: 0.0000e+00 - accuracy: 0.4993 - val_loss: 0.0000e+00 - val_accuracy: 0.5146\n",
      "Epoch 358/500\n",
      "9/9 [==============================] - 0s 5ms/step - loss: 0.0000e+00 - accuracy: 0.5026 - val_loss: 0.0000e+00 - val_accuracy: 0.5146\n",
      "Epoch 359/500\n",
      "9/9 [==============================] - 0s 5ms/step - loss: 0.0000e+00 - accuracy: 0.5076 - val_loss: 0.0000e+00 - val_accuracy: 0.5146\n",
      "Epoch 360/500\n",
      "9/9 [==============================] - 0s 5ms/step - loss: 0.0000e+00 - accuracy: 0.4820 - val_loss: 0.0000e+00 - val_accuracy: 0.5146\n",
      "Epoch 361/500\n",
      "9/9 [==============================] - 0s 4ms/step - loss: 0.0000e+00 - accuracy: 0.5115 - val_loss: 0.0000e+00 - val_accuracy: 0.5146\n",
      "Epoch 362/500\n",
      "9/9 [==============================] - 0s 5ms/step - loss: 0.0000e+00 - accuracy: 0.5165 - val_loss: 0.0000e+00 - val_accuracy: 0.5146\n",
      "Epoch 363/500\n",
      "9/9 [==============================] - 0s 5ms/step - loss: 0.0000e+00 - accuracy: 0.4880 - val_loss: 0.0000e+00 - val_accuracy: 0.5146\n",
      "Epoch 364/500\n",
      "9/9 [==============================] - 0s 5ms/step - loss: 0.0000e+00 - accuracy: 0.4938 - val_loss: 0.0000e+00 - val_accuracy: 0.5146\n",
      "Epoch 365/500\n",
      "9/9 [==============================] - 0s 5ms/step - loss: 0.0000e+00 - accuracy: 0.4625 - val_loss: 0.0000e+00 - val_accuracy: 0.5146\n",
      "Epoch 366/500\n",
      "9/9 [==============================] - 0s 4ms/step - loss: 0.0000e+00 - accuracy: 0.5203 - val_loss: 0.0000e+00 - val_accuracy: 0.5146\n",
      "Epoch 367/500\n",
      "9/9 [==============================] - 0s 4ms/step - loss: 0.0000e+00 - accuracy: 0.5306 - val_loss: 0.0000e+00 - val_accuracy: 0.5146\n",
      "Epoch 368/500\n",
      "9/9 [==============================] - 0s 5ms/step - loss: 0.0000e+00 - accuracy: 0.4983 - val_loss: 0.0000e+00 - val_accuracy: 0.5146\n",
      "Epoch 369/500\n",
      "9/9 [==============================] - 0s 5ms/step - loss: 0.0000e+00 - accuracy: 0.5092 - val_loss: 0.0000e+00 - val_accuracy: 0.5146\n",
      "Epoch 370/500\n",
      "9/9 [==============================] - 0s 5ms/step - loss: 0.0000e+00 - accuracy: 0.4813 - val_loss: 0.0000e+00 - val_accuracy: 0.5146\n",
      "Epoch 371/500\n",
      "9/9 [==============================] - 0s 5ms/step - loss: 0.0000e+00 - accuracy: 0.4693 - val_loss: 0.0000e+00 - val_accuracy: 0.5146\n",
      "Epoch 372/500\n",
      "9/9 [==============================] - 0s 5ms/step - loss: 0.0000e+00 - accuracy: 0.4872 - val_loss: 0.0000e+00 - val_accuracy: 0.5146\n",
      "Epoch 373/500\n",
      "9/9 [==============================] - 0s 5ms/step - loss: 0.0000e+00 - accuracy: 0.5015 - val_loss: 0.0000e+00 - val_accuracy: 0.5146\n",
      "Epoch 374/500\n",
      "9/9 [==============================] - 0s 5ms/step - loss: 0.0000e+00 - accuracy: 0.4945 - val_loss: 0.0000e+00 - val_accuracy: 0.5146\n",
      "Epoch 375/500\n",
      "9/9 [==============================] - 0s 4ms/step - loss: 0.0000e+00 - accuracy: 0.4804 - val_loss: 0.0000e+00 - val_accuracy: 0.5146\n",
      "Epoch 376/500\n",
      "9/9 [==============================] - 0s 5ms/step - loss: 0.0000e+00 - accuracy: 0.4909 - val_loss: 0.0000e+00 - val_accuracy: 0.5146\n",
      "Epoch 377/500\n",
      "9/9 [==============================] - 0s 4ms/step - loss: 0.0000e+00 - accuracy: 0.4734 - val_loss: 0.0000e+00 - val_accuracy: 0.5146\n",
      "Epoch 378/500\n",
      "9/9 [==============================] - 0s 5ms/step - loss: 0.0000e+00 - accuracy: 0.4959 - val_loss: 0.0000e+00 - val_accuracy: 0.5146\n",
      "Epoch 379/500\n",
      "9/9 [==============================] - 0s 5ms/step - loss: 0.0000e+00 - accuracy: 0.4936 - val_loss: 0.0000e+00 - val_accuracy: 0.5146\n",
      "Epoch 380/500\n",
      "9/9 [==============================] - 0s 5ms/step - loss: 0.0000e+00 - accuracy: 0.4738 - val_loss: 0.0000e+00 - val_accuracy: 0.5146\n",
      "Epoch 381/500\n",
      "9/9 [==============================] - 0s 5ms/step - loss: 0.0000e+00 - accuracy: 0.4518 - val_loss: 0.0000e+00 - val_accuracy: 0.5146\n",
      "Epoch 382/500\n",
      "9/9 [==============================] - 0s 5ms/step - loss: 0.0000e+00 - accuracy: 0.5297 - val_loss: 0.0000e+00 - val_accuracy: 0.5146\n",
      "Epoch 383/500\n",
      "9/9 [==============================] - 0s 5ms/step - loss: 0.0000e+00 - accuracy: 0.4921 - val_loss: 0.0000e+00 - val_accuracy: 0.5146\n",
      "Epoch 384/500\n",
      "9/9 [==============================] - 0s 5ms/step - loss: 0.0000e+00 - accuracy: 0.4843 - val_loss: 0.0000e+00 - val_accuracy: 0.5146\n",
      "Epoch 385/500\n",
      "9/9 [==============================] - 0s 5ms/step - loss: 0.0000e+00 - accuracy: 0.4788 - val_loss: 0.0000e+00 - val_accuracy: 0.5146\n",
      "Epoch 386/500\n",
      "9/9 [==============================] - 0s 5ms/step - loss: 0.0000e+00 - accuracy: 0.5063 - val_loss: 0.0000e+00 - val_accuracy: 0.5146\n",
      "Epoch 387/500\n",
      "9/9 [==============================] - 0s 4ms/step - loss: 0.0000e+00 - accuracy: 0.4949 - val_loss: 0.0000e+00 - val_accuracy: 0.5146\n",
      "Epoch 388/500\n",
      "9/9 [==============================] - 0s 5ms/step - loss: 0.0000e+00 - accuracy: 0.5044 - val_loss: 0.0000e+00 - val_accuracy: 0.5146\n",
      "Epoch 389/500\n",
      "9/9 [==============================] - 0s 5ms/step - loss: 0.0000e+00 - accuracy: 0.4800 - val_loss: 0.0000e+00 - val_accuracy: 0.5146\n",
      "Epoch 390/500\n",
      "9/9 [==============================] - 0s 5ms/step - loss: 0.0000e+00 - accuracy: 0.5159 - val_loss: 0.0000e+00 - val_accuracy: 0.5146\n",
      "Epoch 391/500\n",
      "9/9 [==============================] - 0s 4ms/step - loss: 0.0000e+00 - accuracy: 0.5096 - val_loss: 0.0000e+00 - val_accuracy: 0.5146\n",
      "Epoch 392/500\n",
      "9/9 [==============================] - 0s 5ms/step - loss: 0.0000e+00 - accuracy: 0.5111 - val_loss: 0.0000e+00 - val_accuracy: 0.5146\n",
      "Epoch 393/500\n",
      "9/9 [==============================] - 0s 5ms/step - loss: 0.0000e+00 - accuracy: 0.4954 - val_loss: 0.0000e+00 - val_accuracy: 0.5146\n",
      "Epoch 394/500\n",
      "9/9 [==============================] - 0s 4ms/step - loss: 0.0000e+00 - accuracy: 0.4771 - val_loss: 0.0000e+00 - val_accuracy: 0.5146\n",
      "Epoch 395/500\n",
      "9/9 [==============================] - 0s 5ms/step - loss: 0.0000e+00 - accuracy: 0.4992 - val_loss: 0.0000e+00 - val_accuracy: 0.5146\n",
      "Epoch 396/500\n",
      "9/9 [==============================] - 0s 5ms/step - loss: 0.0000e+00 - accuracy: 0.4863 - val_loss: 0.0000e+00 - val_accuracy: 0.5146\n",
      "Epoch 397/500\n",
      "9/9 [==============================] - 0s 5ms/step - loss: 0.0000e+00 - accuracy: 0.4799 - val_loss: 0.0000e+00 - val_accuracy: 0.5146\n",
      "Epoch 398/500\n",
      "9/9 [==============================] - 0s 5ms/step - loss: 0.0000e+00 - accuracy: 0.4659 - val_loss: 0.0000e+00 - val_accuracy: 0.5146\n",
      "Epoch 399/500\n",
      "9/9 [==============================] - 0s 4ms/step - loss: 0.0000e+00 - accuracy: 0.5361 - val_loss: 0.0000e+00 - val_accuracy: 0.5146\n",
      "Epoch 400/500\n",
      "9/9 [==============================] - 0s 5ms/step - loss: 0.0000e+00 - accuracy: 0.5053 - val_loss: 0.0000e+00 - val_accuracy: 0.5146\n",
      "Epoch 401/500\n",
      "9/9 [==============================] - 0s 5ms/step - loss: 0.0000e+00 - accuracy: 0.4800 - val_loss: 0.0000e+00 - val_accuracy: 0.5146\n",
      "Epoch 402/500\n",
      "9/9 [==============================] - 0s 5ms/step - loss: 0.0000e+00 - accuracy: 0.5162 - val_loss: 0.0000e+00 - val_accuracy: 0.5146\n",
      "Epoch 403/500\n",
      "9/9 [==============================] - 0s 4ms/step - loss: 0.0000e+00 - accuracy: 0.4803 - val_loss: 0.0000e+00 - val_accuracy: 0.5146\n",
      "Epoch 404/500\n",
      "9/9 [==============================] - 0s 5ms/step - loss: 0.0000e+00 - accuracy: 0.5167 - val_loss: 0.0000e+00 - val_accuracy: 0.5146\n",
      "Epoch 405/500\n",
      "9/9 [==============================] - 0s 5ms/step - loss: 0.0000e+00 - accuracy: 0.4964 - val_loss: 0.0000e+00 - val_accuracy: 0.5146\n",
      "Epoch 406/500\n",
      "9/9 [==============================] - 0s 5ms/step - loss: 0.0000e+00 - accuracy: 0.5156 - val_loss: 0.0000e+00 - val_accuracy: 0.5146\n",
      "Epoch 407/500\n",
      "9/9 [==============================] - 0s 4ms/step - loss: 0.0000e+00 - accuracy: 0.5167 - val_loss: 0.0000e+00 - val_accuracy: 0.5146\n",
      "Epoch 408/500\n",
      "9/9 [==============================] - 0s 5ms/step - loss: 0.0000e+00 - accuracy: 0.4975 - val_loss: 0.0000e+00 - val_accuracy: 0.5146\n",
      "Epoch 409/500\n",
      "9/9 [==============================] - 0s 5ms/step - loss: 0.0000e+00 - accuracy: 0.5108 - val_loss: 0.0000e+00 - val_accuracy: 0.5146\n",
      "Epoch 410/500\n",
      "9/9 [==============================] - 0s 5ms/step - loss: 0.0000e+00 - accuracy: 0.4937 - val_loss: 0.0000e+00 - val_accuracy: 0.5146\n",
      "Epoch 411/500\n",
      "9/9 [==============================] - 0s 5ms/step - loss: 0.0000e+00 - accuracy: 0.4634 - val_loss: 0.0000e+00 - val_accuracy: 0.5146\n",
      "Epoch 412/500\n",
      "9/9 [==============================] - 0s 5ms/step - loss: 0.0000e+00 - accuracy: 0.4951 - val_loss: 0.0000e+00 - val_accuracy: 0.5146\n",
      "Epoch 413/500\n",
      "9/9 [==============================] - 0s 4ms/step - loss: 0.0000e+00 - accuracy: 0.4885 - val_loss: 0.0000e+00 - val_accuracy: 0.5146\n",
      "Epoch 414/500\n",
      "9/9 [==============================] - 0s 5ms/step - loss: 0.0000e+00 - accuracy: 0.4857 - val_loss: 0.0000e+00 - val_accuracy: 0.5146\n",
      "Epoch 415/500\n",
      "9/9 [==============================] - 0s 4ms/step - loss: 0.0000e+00 - accuracy: 0.5027 - val_loss: 0.0000e+00 - val_accuracy: 0.5146\n",
      "Epoch 416/500\n",
      "9/9 [==============================] - 0s 5ms/step - loss: 0.0000e+00 - accuracy: 0.4685 - val_loss: 0.0000e+00 - val_accuracy: 0.5146\n",
      "Epoch 417/500\n",
      "9/9 [==============================] - 0s 4ms/step - loss: 0.0000e+00 - accuracy: 0.4847 - val_loss: 0.0000e+00 - val_accuracy: 0.5146\n",
      "Epoch 418/500\n",
      "9/9 [==============================] - 0s 4ms/step - loss: 0.0000e+00 - accuracy: 0.5010 - val_loss: 0.0000e+00 - val_accuracy: 0.5146\n",
      "Epoch 419/500\n",
      "9/9 [==============================] - 0s 5ms/step - loss: 0.0000e+00 - accuracy: 0.4674 - val_loss: 0.0000e+00 - val_accuracy: 0.5146\n",
      "Epoch 420/500\n",
      "9/9 [==============================] - 0s 5ms/step - loss: 0.0000e+00 - accuracy: 0.5242 - val_loss: 0.0000e+00 - val_accuracy: 0.5146\n",
      "Epoch 421/500\n",
      "9/9 [==============================] - 0s 4ms/step - loss: 0.0000e+00 - accuracy: 0.4816 - val_loss: 0.0000e+00 - val_accuracy: 0.5146\n",
      "Epoch 422/500\n",
      "9/9 [==============================] - 0s 5ms/step - loss: 0.0000e+00 - accuracy: 0.4919 - val_loss: 0.0000e+00 - val_accuracy: 0.5146\n",
      "Epoch 423/500\n",
      "9/9 [==============================] - 0s 5ms/step - loss: 0.0000e+00 - accuracy: 0.5124 - val_loss: 0.0000e+00 - val_accuracy: 0.5146\n",
      "Epoch 424/500\n",
      "9/9 [==============================] - 0s 5ms/step - loss: 0.0000e+00 - accuracy: 0.5206 - val_loss: 0.0000e+00 - val_accuracy: 0.5146\n",
      "Epoch 425/500\n",
      "9/9 [==============================] - 0s 5ms/step - loss: 0.0000e+00 - accuracy: 0.4955 - val_loss: 0.0000e+00 - val_accuracy: 0.5146\n",
      "Epoch 426/500\n",
      "9/9 [==============================] - 0s 6ms/step - loss: 0.0000e+00 - accuracy: 0.4909 - val_loss: 0.0000e+00 - val_accuracy: 0.5146\n",
      "Epoch 427/500\n",
      "9/9 [==============================] - 0s 5ms/step - loss: 0.0000e+00 - accuracy: 0.4786 - val_loss: 0.0000e+00 - val_accuracy: 0.5146\n",
      "Epoch 428/500\n",
      "9/9 [==============================] - 0s 5ms/step - loss: 0.0000e+00 - accuracy: 0.5201 - val_loss: 0.0000e+00 - val_accuracy: 0.5146\n",
      "Epoch 429/500\n",
      "9/9 [==============================] - 0s 5ms/step - loss: 0.0000e+00 - accuracy: 0.5013 - val_loss: 0.0000e+00 - val_accuracy: 0.5146\n",
      "Epoch 430/500\n",
      "9/9 [==============================] - 0s 5ms/step - loss: 0.0000e+00 - accuracy: 0.4863 - val_loss: 0.0000e+00 - val_accuracy: 0.5146\n",
      "Epoch 431/500\n",
      "9/9 [==============================] - 0s 5ms/step - loss: 0.0000e+00 - accuracy: 0.5140 - val_loss: 0.0000e+00 - val_accuracy: 0.5146\n",
      "Epoch 432/500\n",
      "9/9 [==============================] - 0s 5ms/step - loss: 0.0000e+00 - accuracy: 0.4881 - val_loss: 0.0000e+00 - val_accuracy: 0.5146\n",
      "Epoch 433/500\n",
      "9/9 [==============================] - 0s 5ms/step - loss: 0.0000e+00 - accuracy: 0.5002 - val_loss: 0.0000e+00 - val_accuracy: 0.5146\n",
      "Epoch 434/500\n",
      "9/9 [==============================] - 0s 5ms/step - loss: 0.0000e+00 - accuracy: 0.4833 - val_loss: 0.0000e+00 - val_accuracy: 0.5146\n",
      "Epoch 435/500\n",
      "9/9 [==============================] - 0s 4ms/step - loss: 0.0000e+00 - accuracy: 0.4869 - val_loss: 0.0000e+00 - val_accuracy: 0.5146\n",
      "Epoch 436/500\n",
      "9/9 [==============================] - 0s 5ms/step - loss: 0.0000e+00 - accuracy: 0.5062 - val_loss: 0.0000e+00 - val_accuracy: 0.5146\n",
      "Epoch 437/500\n",
      "9/9 [==============================] - 0s 5ms/step - loss: 0.0000e+00 - accuracy: 0.4884 - val_loss: 0.0000e+00 - val_accuracy: 0.5146\n",
      "Epoch 438/500\n",
      "9/9 [==============================] - 0s 5ms/step - loss: 0.0000e+00 - accuracy: 0.4834 - val_loss: 0.0000e+00 - val_accuracy: 0.5146\n",
      "Epoch 439/500\n",
      "9/9 [==============================] - 0s 5ms/step - loss: 0.0000e+00 - accuracy: 0.5249 - val_loss: 0.0000e+00 - val_accuracy: 0.5146\n",
      "Epoch 440/500\n",
      "9/9 [==============================] - 0s 5ms/step - loss: 0.0000e+00 - accuracy: 0.5144 - val_loss: 0.0000e+00 - val_accuracy: 0.5146\n",
      "Epoch 441/500\n",
      "9/9 [==============================] - 0s 5ms/step - loss: 0.0000e+00 - accuracy: 0.5166 - val_loss: 0.0000e+00 - val_accuracy: 0.5146\n",
      "Epoch 442/500\n",
      "9/9 [==============================] - 0s 6ms/step - loss: 0.0000e+00 - accuracy: 0.5044 - val_loss: 0.0000e+00 - val_accuracy: 0.5146\n",
      "Epoch 443/500\n",
      "9/9 [==============================] - 0s 5ms/step - loss: 0.0000e+00 - accuracy: 0.5288 - val_loss: 0.0000e+00 - val_accuracy: 0.5146\n",
      "Epoch 444/500\n",
      "9/9 [==============================] - 0s 5ms/step - loss: 0.0000e+00 - accuracy: 0.4952 - val_loss: 0.0000e+00 - val_accuracy: 0.5146\n",
      "Epoch 445/500\n",
      "9/9 [==============================] - 0s 5ms/step - loss: 0.0000e+00 - accuracy: 0.5099 - val_loss: 0.0000e+00 - val_accuracy: 0.5146\n",
      "Epoch 446/500\n",
      "9/9 [==============================] - 0s 5ms/step - loss: 0.0000e+00 - accuracy: 0.5179 - val_loss: 0.0000e+00 - val_accuracy: 0.5146\n",
      "Epoch 447/500\n",
      "9/9 [==============================] - 0s 5ms/step - loss: 0.0000e+00 - accuracy: 0.4596 - val_loss: 0.0000e+00 - val_accuracy: 0.5146\n",
      "Epoch 448/500\n",
      "9/9 [==============================] - 0s 5ms/step - loss: 0.0000e+00 - accuracy: 0.5105 - val_loss: 0.0000e+00 - val_accuracy: 0.5146\n",
      "Epoch 449/500\n",
      "9/9 [==============================] - 0s 5ms/step - loss: 0.0000e+00 - accuracy: 0.4726 - val_loss: 0.0000e+00 - val_accuracy: 0.5146\n",
      "Epoch 450/500\n",
      "9/9 [==============================] - 0s 5ms/step - loss: 0.0000e+00 - accuracy: 0.5143 - val_loss: 0.0000e+00 - val_accuracy: 0.5146\n",
      "Epoch 451/500\n",
      "9/9 [==============================] - 0s 5ms/step - loss: 0.0000e+00 - accuracy: 0.5116 - val_loss: 0.0000e+00 - val_accuracy: 0.5146\n",
      "Epoch 452/500\n",
      "9/9 [==============================] - 0s 5ms/step - loss: 0.0000e+00 - accuracy: 0.4905 - val_loss: 0.0000e+00 - val_accuracy: 0.5146\n",
      "Epoch 453/500\n",
      "9/9 [==============================] - 0s 5ms/step - loss: 0.0000e+00 - accuracy: 0.5044 - val_loss: 0.0000e+00 - val_accuracy: 0.5146\n",
      "Epoch 454/500\n",
      "9/9 [==============================] - 0s 5ms/step - loss: 0.0000e+00 - accuracy: 0.5085 - val_loss: 0.0000e+00 - val_accuracy: 0.5146\n",
      "Epoch 455/500\n",
      "9/9 [==============================] - 0s 5ms/step - loss: 0.0000e+00 - accuracy: 0.5053 - val_loss: 0.0000e+00 - val_accuracy: 0.5146\n",
      "Epoch 456/500\n",
      "9/9 [==============================] - 0s 5ms/step - loss: 0.0000e+00 - accuracy: 0.4923 - val_loss: 0.0000e+00 - val_accuracy: 0.5146\n",
      "Epoch 457/500\n",
      "9/9 [==============================] - 0s 5ms/step - loss: 0.0000e+00 - accuracy: 0.4700 - val_loss: 0.0000e+00 - val_accuracy: 0.5146\n",
      "Epoch 458/500\n",
      "9/9 [==============================] - 0s 5ms/step - loss: 0.0000e+00 - accuracy: 0.4675 - val_loss: 0.0000e+00 - val_accuracy: 0.5146\n",
      "Epoch 459/500\n",
      "9/9 [==============================] - 0s 5ms/step - loss: 0.0000e+00 - accuracy: 0.4611 - val_loss: 0.0000e+00 - val_accuracy: 0.5146\n",
      "Epoch 460/500\n",
      "9/9 [==============================] - 0s 5ms/step - loss: 0.0000e+00 - accuracy: 0.4671 - val_loss: 0.0000e+00 - val_accuracy: 0.5146\n",
      "Epoch 461/500\n",
      "9/9 [==============================] - 0s 5ms/step - loss: 0.0000e+00 - accuracy: 0.5447 - val_loss: 0.0000e+00 - val_accuracy: 0.5146\n",
      "Epoch 462/500\n",
      "9/9 [==============================] - 0s 4ms/step - loss: 0.0000e+00 - accuracy: 0.5106 - val_loss: 0.0000e+00 - val_accuracy: 0.5146\n",
      "Epoch 463/500\n",
      "9/9 [==============================] - 0s 5ms/step - loss: 0.0000e+00 - accuracy: 0.5079 - val_loss: 0.0000e+00 - val_accuracy: 0.5146\n",
      "Epoch 464/500\n",
      "9/9 [==============================] - 0s 5ms/step - loss: 0.0000e+00 - accuracy: 0.4687 - val_loss: 0.0000e+00 - val_accuracy: 0.5146\n",
      "Epoch 465/500\n",
      "9/9 [==============================] - 0s 6ms/step - loss: 0.0000e+00 - accuracy: 0.4853 - val_loss: 0.0000e+00 - val_accuracy: 0.5146\n",
      "Epoch 466/500\n",
      "9/9 [==============================] - 0s 5ms/step - loss: 0.0000e+00 - accuracy: 0.5055 - val_loss: 0.0000e+00 - val_accuracy: 0.5146\n",
      "Epoch 467/500\n",
      "9/9 [==============================] - 0s 5ms/step - loss: 0.0000e+00 - accuracy: 0.4620 - val_loss: 0.0000e+00 - val_accuracy: 0.5146\n",
      "Epoch 468/500\n",
      "9/9 [==============================] - 0s 5ms/step - loss: 0.0000e+00 - accuracy: 0.5089 - val_loss: 0.0000e+00 - val_accuracy: 0.5146\n",
      "Epoch 469/500\n",
      "9/9 [==============================] - 0s 5ms/step - loss: 0.0000e+00 - accuracy: 0.5072 - val_loss: 0.0000e+00 - val_accuracy: 0.5146\n",
      "Epoch 470/500\n",
      "9/9 [==============================] - 0s 5ms/step - loss: 0.0000e+00 - accuracy: 0.5138 - val_loss: 0.0000e+00 - val_accuracy: 0.5146\n",
      "Epoch 471/500\n",
      "9/9 [==============================] - 0s 5ms/step - loss: 0.0000e+00 - accuracy: 0.4775 - val_loss: 0.0000e+00 - val_accuracy: 0.5146\n",
      "Epoch 472/500\n",
      "9/9 [==============================] - 0s 5ms/step - loss: 0.0000e+00 - accuracy: 0.4782 - val_loss: 0.0000e+00 - val_accuracy: 0.5146\n",
      "Epoch 473/500\n",
      "9/9 [==============================] - 0s 5ms/step - loss: 0.0000e+00 - accuracy: 0.5079 - val_loss: 0.0000e+00 - val_accuracy: 0.5146\n",
      "Epoch 474/500\n",
      "9/9 [==============================] - 0s 5ms/step - loss: 0.0000e+00 - accuracy: 0.4913 - val_loss: 0.0000e+00 - val_accuracy: 0.5146\n",
      "Epoch 475/500\n",
      "9/9 [==============================] - 0s 5ms/step - loss: 0.0000e+00 - accuracy: 0.4830 - val_loss: 0.0000e+00 - val_accuracy: 0.5146\n",
      "Epoch 476/500\n",
      "9/9 [==============================] - 0s 4ms/step - loss: 0.0000e+00 - accuracy: 0.5066 - val_loss: 0.0000e+00 - val_accuracy: 0.5146\n",
      "Epoch 477/500\n",
      "9/9 [==============================] - 0s 5ms/step - loss: 0.0000e+00 - accuracy: 0.5195 - val_loss: 0.0000e+00 - val_accuracy: 0.5146\n",
      "Epoch 478/500\n",
      "9/9 [==============================] - 0s 5ms/step - loss: 0.0000e+00 - accuracy: 0.4945 - val_loss: 0.0000e+00 - val_accuracy: 0.5146\n",
      "Epoch 479/500\n",
      "9/9 [==============================] - 0s 5ms/step - loss: 0.0000e+00 - accuracy: 0.4909 - val_loss: 0.0000e+00 - val_accuracy: 0.5146\n",
      "Epoch 480/500\n",
      "9/9 [==============================] - 0s 5ms/step - loss: 0.0000e+00 - accuracy: 0.5175 - val_loss: 0.0000e+00 - val_accuracy: 0.5146\n",
      "Epoch 481/500\n",
      "9/9 [==============================] - 0s 5ms/step - loss: 0.0000e+00 - accuracy: 0.5158 - val_loss: 0.0000e+00 - val_accuracy: 0.5146\n",
      "Epoch 482/500\n",
      "9/9 [==============================] - 0s 5ms/step - loss: 0.0000e+00 - accuracy: 0.4652 - val_loss: 0.0000e+00 - val_accuracy: 0.5146\n",
      "Epoch 483/500\n",
      "9/9 [==============================] - 0s 5ms/step - loss: 0.0000e+00 - accuracy: 0.5167 - val_loss: 0.0000e+00 - val_accuracy: 0.5146\n",
      "Epoch 484/500\n",
      "9/9 [==============================] - 0s 5ms/step - loss: 0.0000e+00 - accuracy: 0.5230 - val_loss: 0.0000e+00 - val_accuracy: 0.5146\n",
      "Epoch 485/500\n",
      "9/9 [==============================] - 0s 5ms/step - loss: 0.0000e+00 - accuracy: 0.4971 - val_loss: 0.0000e+00 - val_accuracy: 0.5146\n",
      "Epoch 486/500\n",
      "9/9 [==============================] - 0s 5ms/step - loss: 0.0000e+00 - accuracy: 0.5052 - val_loss: 0.0000e+00 - val_accuracy: 0.5146\n",
      "Epoch 487/500\n",
      "9/9 [==============================] - 0s 5ms/step - loss: 0.0000e+00 - accuracy: 0.5001 - val_loss: 0.0000e+00 - val_accuracy: 0.5146\n",
      "Epoch 488/500\n",
      "9/9 [==============================] - 0s 5ms/step - loss: 0.0000e+00 - accuracy: 0.5104 - val_loss: 0.0000e+00 - val_accuracy: 0.5146\n",
      "Epoch 489/500\n",
      "9/9 [==============================] - 0s 5ms/step - loss: 0.0000e+00 - accuracy: 0.4976 - val_loss: 0.0000e+00 - val_accuracy: 0.5146\n",
      "Epoch 490/500\n",
      "9/9 [==============================] - 0s 4ms/step - loss: 0.0000e+00 - accuracy: 0.4886 - val_loss: 0.0000e+00 - val_accuracy: 0.5146\n",
      "Epoch 491/500\n",
      "9/9 [==============================] - 0s 5ms/step - loss: 0.0000e+00 - accuracy: 0.5191 - val_loss: 0.0000e+00 - val_accuracy: 0.5146\n",
      "Epoch 492/500\n",
      "9/9 [==============================] - 0s 5ms/step - loss: 0.0000e+00 - accuracy: 0.4919 - val_loss: 0.0000e+00 - val_accuracy: 0.5146\n",
      "Epoch 493/500\n",
      "9/9 [==============================] - 0s 6ms/step - loss: 0.0000e+00 - accuracy: 0.5058 - val_loss: 0.0000e+00 - val_accuracy: 0.5146\n",
      "Epoch 494/500\n",
      "9/9 [==============================] - 0s 5ms/step - loss: 0.0000e+00 - accuracy: 0.5255 - val_loss: 0.0000e+00 - val_accuracy: 0.5146\n",
      "Epoch 495/500\n",
      "9/9 [==============================] - 0s 5ms/step - loss: 0.0000e+00 - accuracy: 0.4748 - val_loss: 0.0000e+00 - val_accuracy: 0.5146\n",
      "Epoch 496/500\n",
      "9/9 [==============================] - 0s 5ms/step - loss: 0.0000e+00 - accuracy: 0.4870 - val_loss: 0.0000e+00 - val_accuracy: 0.5146\n",
      "Epoch 497/500\n",
      "9/9 [==============================] - 0s 5ms/step - loss: 0.0000e+00 - accuracy: 0.4832 - val_loss: 0.0000e+00 - val_accuracy: 0.5146\n",
      "Epoch 498/500\n",
      "9/9 [==============================] - 0s 5ms/step - loss: 0.0000e+00 - accuracy: 0.5086 - val_loss: 0.0000e+00 - val_accuracy: 0.5146\n",
      "Epoch 499/500\n",
      "9/9 [==============================] - 0s 4ms/step - loss: 0.0000e+00 - accuracy: 0.4661 - val_loss: 0.0000e+00 - val_accuracy: 0.5146\n",
      "Epoch 500/500\n",
      "9/9 [==============================] - 0s 4ms/step - loss: 0.0000e+00 - accuracy: 0.5054 - val_loss: 0.0000e+00 - val_accuracy: 0.5146\n"
     ]
    }
   ],
   "source": [
    "cnntrain=model.fit(X1_train, y1_train, batch_size=48, epochs=500, validation_data=(X1_test, y1_test))"
   ]
  },
  {
   "cell_type": "code",
   "execution_count": null,
   "metadata": {},
   "outputs": [],
   "source": []
  },
  {
   "cell_type": "markdown",
   "metadata": {},
   "source": [
    "INFERENCE:"
   ]
  },
  {
   "cell_type": "markdown",
   "metadata": {},
   "source": [
    "The best method for predicting explosion energy seems to be classification using gini index followed by assigning the average value of the class to the new supernova."
   ]
  },
  {
   "cell_type": "code",
   "execution_count": null,
   "metadata": {},
   "outputs": [],
   "source": []
  },
  {
   "cell_type": "markdown",
   "metadata": {},
   "source": [
    "# Compiling the final models together in steps"
   ]
  },
  {
   "cell_type": "markdown",
   "metadata": {},
   "source": [
    "## Linear regression for ni-56"
   ]
  },
  {
   "cell_type": "code",
   "execution_count": 145,
   "metadata": {},
   "outputs": [
    {
     "data": {
      "text/plain": [
       "LogisticRegression()"
      ]
     },
     "execution_count": 145,
     "metadata": {},
     "output_type": "execute_result"
    }
   ],
   "source": [
    "X = supernovae_df[['class_of_flux']]\n",
    "y = supernovae_df['class_of_ni'] \n",
    "\n",
    "ni56 = LogisticRegression() \n",
    "  \n",
    "ni56.fit(X,y) \n"
   ]
  },
  {
   "cell_type": "markdown",
   "metadata": {},
   "source": [
    "## XGBclassification for total mass class"
   ]
  },
  {
   "cell_type": "code",
   "execution_count": 146,
   "metadata": {},
   "outputs": [
    {
     "name": "stdout",
     "output_type": "stream",
     "text": [
      "[00:36:43] WARNING: C:/Users/Administrator/workspace/xgboost-win64_release_1.3.0/src/learner.cc:1061: Starting in XGBoost 1.3.0, the default evaluation metric used with the objective 'multi:softprob' was changed from 'merror' to 'mlogloss'. Explicitly set eval_metric if you'd like to restore the old behavior.\n"
     ]
    },
    {
     "name": "stderr",
     "output_type": "stream",
     "text": [
      "C:\\Users\\Aarya\\anaconda3\\lib\\site-packages\\xgboost\\sklearn.py:888: UserWarning: The use of label encoder in XGBClassifier is deprecated and will be removed in a future release. To remove this warning, do the following: 1) Pass option use_label_encoder=False when constructing XGBClassifier object; and 2) Encode your labels (y) as integers starting with 0, i.e. 0, 1, 2, ..., [num_class - 1].\n",
      "  warnings.warn(label_encoder_deprecation_msg, UserWarning)\n"
     ]
    },
    {
     "data": {
      "text/plain": [
       "XGBClassifier(base_score=0.5, booster='gbtree', colsample_bylevel=1,\n",
       "              colsample_bynode=1, colsample_bytree=1, gamma=0, gpu_id=-1,\n",
       "              importance_type='gain', interaction_constraints='',\n",
       "              learning_rate=0.300000012, max_delta_step=0, max_depth=6,\n",
       "              min_child_weight=1, missing=nan, monotone_constraints='()',\n",
       "              n_estimators=100, n_jobs=12, num_parallel_tree=1,\n",
       "              objective='multi:softprob', random_state=0, reg_alpha=0,\n",
       "              reg_lambda=1, scale_pos_weight=None, subsample=1,\n",
       "              tree_method='exact', validate_parameters=1, verbosity=None)"
      ]
     },
     "execution_count": 146,
     "metadata": {},
     "output_type": "execute_result"
    }
   ],
   "source": [
    "X = supernovae_df[['optical_depth','max_exp_vel','emergent_flux']]\n",
    "y = supernovae_df['class_of_total_mass'] \n",
    "\n",
    "\n",
    "totalmass = XGBClassifier()\n",
    "totalmass.fit(X,y)\n",
    "\n"
   ]
  },
  {
   "cell_type": "markdown",
   "metadata": {},
   "source": [
    "## xgbclassifier for init mass dist"
   ]
  },
  {
   "cell_type": "code",
   "execution_count": 147,
   "metadata": {},
   "outputs": [
    {
     "name": "stdout",
     "output_type": "stream",
     "text": [
      "[00:36:43] WARNING: C:/Users/Administrator/workspace/xgboost-win64_release_1.3.0/src/learner.cc:1061: Starting in XGBoost 1.3.0, the default evaluation metric used with the objective 'multi:softprob' was changed from 'merror' to 'mlogloss'. Explicitly set eval_metric if you'd like to restore the old behavior.\n"
     ]
    },
    {
     "data": {
      "text/plain": [
       "XGBClassifier(base_score=0.5, booster='gbtree', colsample_bylevel=1,\n",
       "              colsample_bynode=1, colsample_bytree=1, gamma=0, gpu_id=-1,\n",
       "              importance_type='gain', interaction_constraints='',\n",
       "              learning_rate=0.300000012, max_delta_step=0, max_depth=6,\n",
       "              min_child_weight=1, missing=nan, monotone_constraints='()',\n",
       "              n_estimators=100, n_jobs=12, num_parallel_tree=1,\n",
       "              objective='multi:softprob', random_state=0, reg_alpha=0,\n",
       "              reg_lambda=1, scale_pos_weight=None, subsample=1,\n",
       "              tree_method='exact', validate_parameters=1, verbosity=None)"
      ]
     },
     "execution_count": 147,
     "metadata": {},
     "output_type": "execute_result"
    }
   ],
   "source": [
    "#Using all currently know variables except max_exp_vel\n",
    "\n",
    "X = supernovae_df[['optical_depth','max_exp_vel','emergent_flux','total_mass','mass_ni_56','optical_depth_unc']]\n",
    "y = supernovae_df['mass_dist_encoding'] \n",
    "\n",
    "\n",
    "initmassdist = XGBClassifier()\n",
    "initmassdist.fit(X,y)\n"
   ]
  },
  {
   "cell_type": "markdown",
   "metadata": {},
   "source": [
    "## Init rad dist  xgb classifier"
   ]
  },
  {
   "cell_type": "code",
   "execution_count": 148,
   "metadata": {},
   "outputs": [
    {
     "name": "stdout",
     "output_type": "stream",
     "text": [
      "[00:36:43] WARNING: C:/Users/Administrator/workspace/xgboost-win64_release_1.3.0/src/learner.cc:1061: Starting in XGBoost 1.3.0, the default evaluation metric used with the objective 'multi:softprob' was changed from 'merror' to 'mlogloss'. Explicitly set eval_metric if you'd like to restore the old behavior.\n"
     ]
    },
    {
     "data": {
      "text/plain": [
       "XGBClassifier(base_score=0.5, booster='gbtree', colsample_bylevel=1,\n",
       "              colsample_bynode=1, colsample_bytree=1, gamma=0, gpu_id=-1,\n",
       "              importance_type='gain', interaction_constraints='',\n",
       "              learning_rate=0.300000012, max_delta_step=0, max_depth=6,\n",
       "              min_child_weight=1, missing=nan, monotone_constraints='()',\n",
       "              n_estimators=100, n_jobs=12, num_parallel_tree=1,\n",
       "              objective='multi:softprob', random_state=0, reg_alpha=0,\n",
       "              reg_lambda=1, scale_pos_weight=None, subsample=1,\n",
       "              tree_method='exact', validate_parameters=1, verbosity=None)"
      ]
     },
     "execution_count": 148,
     "metadata": {},
     "output_type": "execute_result"
    }
   ],
   "source": [
    "X = supernovae_df[['optical_depth','max_exp_vel','emergent_flux','total_mass','mass_ni_56','mass_dist_encoding', 'optical_depth_unc']]\n",
    "y = supernovae_df['rad_dist_encoding'] \n",
    "\n",
    "\n",
    "initraddist = XGBClassifier()\n",
    "initraddist.fit(X,y)\n"
   ]
  },
  {
   "cell_type": "markdown",
   "metadata": {},
   "source": [
    "## Explosion class"
   ]
  },
  {
   "cell_type": "code",
   "execution_count": 149,
   "metadata": {},
   "outputs": [
    {
     "data": {
      "text/plain": [
       "DecisionTreeClassifier(max_depth=3, min_samples_leaf=5, random_state=121)"
      ]
     },
     "execution_count": 149,
     "metadata": {},
     "output_type": "execute_result"
    }
   ],
   "source": [
    "\n",
    "X = supernovae_df[['optical_depth','max_exp_vel','emergent_flux', 'mass_ni_56','total_mass','mass_dist_encoding','rad_dist_encoding']]\n",
    "y = supernovae_df['class_of_explosion']\n",
    "\n",
    "    \n",
    "explosionclassgini= DecisionTreeClassifier(criterion = \"gini\", random_state = 121,max_depth=3, min_samples_leaf=5)\n",
    "  \n",
    "explosionclassgini.fit(X,y) "
   ]
  },
  {
   "cell_type": "markdown",
   "metadata": {},
   "source": [
    "# Routine:\n",
    "\n",
    "pre-processing: find the uncertainities\n",
    "1. predict ni-56 mass\n",
    "2. predict total mass class, and convert to total mass \n",
    "3. predict distributions\n",
    "4. predict explosion class and assign average value"
   ]
  },
  {
   "cell_type": "code",
   "execution_count": 150,
   "metadata": {
    "scrolled": true
   },
   "outputs": [
    {
     "name": "stdout",
     "output_type": "stream",
     "text": [
      "Average OD uncertainity ratio 0.078545\n",
      "Average MEV uncertainity ratio 0.039927\n"
     ]
    }
   ],
   "source": [
    "print('Average OD uncertainity ratio', mean_od_unc_per)\n",
    "print('Average MEV uncertainity ratio', mean_mev_unc_per)"
   ]
  },
  {
   "cell_type": "code",
   "execution_count": 151,
   "metadata": {},
   "outputs": [
    {
     "data": {
      "text/plain": [
       "array([0.15, 0.3 , 0.6 , 0.75])"
      ]
     },
     "execution_count": 151,
     "metadata": {},
     "output_type": "execute_result"
    }
   ],
   "source": [
    "supernovae_df['mass_ni_56'].unique()"
   ]
  },
  {
   "cell_type": "code",
   "execution_count": 152,
   "metadata": {},
   "outputs": [
    {
     "data": {
      "text/plain": [
       "array([0.75, 1.  , 1.4 , 1.8 , 2.  ])"
      ]
     },
     "execution_count": 152,
     "metadata": {},
     "output_type": "execute_result"
    }
   ],
   "source": [
    "supernovae_df['total_mass'].unique()"
   ]
  },
  {
   "cell_type": "code",
   "execution_count": 153,
   "metadata": {},
   "outputs": [],
   "source": [
    "sumeclass1 = 0\n",
    "noeclass1 = 0\n",
    "sumeclass2 = 0\n",
    "noeclass2 = 0\n",
    "\n",
    "for i in range(len(supernovae_df)):\n",
    "    if supernovae_df.iloc[i]['class_of_explosion']==1:\n",
    "        noeclass1+=1\n",
    "        sumeclass1+=supernovae_df.iloc[i]['explosion_energy']\n",
    "    else:\n",
    "        noeclass2+=1\n",
    "        sumeclass2+=supernovae_df.iloc[i]['explosion_energy']\n",
    "        \n",
    "        \n",
    "eclass1avg = sumeclass1/noeclass1\n",
    "eclass2avg = sumeclass2/noeclass2"
   ]
  },
  {
   "cell_type": "code",
   "execution_count": 154,
   "metadata": {},
   "outputs": [
    {
     "data": {
      "text/plain": [
       "0.75"
      ]
     },
     "execution_count": 154,
     "metadata": {},
     "output_type": "execute_result"
    }
   ],
   "source": [
    "eclass1avg"
   ]
  },
  {
   "cell_type": "code",
   "execution_count": 155,
   "metadata": {},
   "outputs": [
    {
     "data": {
      "text/plain": [
       "2.0"
      ]
     },
     "execution_count": 155,
     "metadata": {},
     "output_type": "execute_result"
    }
   ],
   "source": [
    "eclass2avg"
   ]
  },
  {
   "cell_type": "code",
   "execution_count": 156,
   "metadata": {},
   "outputs": [],
   "source": [
    "def assign_flux_class(efluxparam):\n",
    "    if efluxparam<0.000004:\n",
    "        return 1\n",
    "    if  efluxparam<0.000008 and efluxparam>0.000004:\n",
    "        return 2\n",
    "    if  efluxparam <0.000013 and efluxparam>0.000010:\n",
    "        return 3\n",
    "    if efluxparam >0.000013:\n",
    "        return 4\n",
    "    \n",
    "    \n",
    "def get_ni_56_mass(ni_56):\n",
    "    if ni_56 == 1:\n",
    "        return 0.15\n",
    "    if ni_56==2:\n",
    "        return 0.3\n",
    "    if ni_56 == 3:\n",
    "        return 0.6\n",
    "    if ni_56 == 4:\n",
    "        return 0.75\n",
    "\n",
    "def return_total_mass(totalmassclass):\n",
    "    if totalmassclass == 1:\n",
    "        return 0.75\n",
    "    if totalmassclass ==2:\n",
    "        return 1\n",
    "    if totalmassclass ==3:\n",
    "        return 1.4\n",
    "    if totalmassclass ==4:\n",
    "        return 1.8\n",
    "    if totalmassclass ==5:\n",
    "        return 2\n",
    "\n",
    "\n",
    "def return_dist_class_to_str(distclass):\n",
    "    if distclass == 1:\n",
    "        return 'hed8'\n",
    "    if distclass == 2:\n",
    "        return 'mwd'\n",
    "    if distclass == 3:\n",
    "        return 'N100'\n",
    "    if distclass ==4:\n",
    "        return 'w7dt'\n",
    "\n",
    "def return_avg_explosion_eng(eclassflag):\n",
    "    if eclassflag == 1:\n",
    "        return eclass1avg\n",
    "    else:\n",
    "        return eclass2avg\n",
    "\n",
    "def supernovae_routine(odparam, mevparam, efluxparam):\n",
    "    od_unc = mean_od_unc_per * odparam\n",
    "    mev_unc = mean_mev_unc_per * mevparam\n",
    "    \n",
    "    efluxclass = assign_flux_class(efluxparam)\n",
    "    \n",
    "    efluxclasslist =[]\n",
    "    efluxclasslist.append(efluxclass)\n",
    "    efluxclasslistnp = np.array(efluxclasslist)\n",
    "    efluxclassdf = pd.DataFrame(efluxclasslistnp)\n",
    "    ni_56 = ni56.predict(efluxclassdf)\n",
    "    nimass = get_ni_56_mass(ni_56)\n",
    "    \n",
    "    tmdata = {'optical_depth':[odparam], 'max_exp_vel':[mevparam], 'emergent_flux':[efluxparam]}\n",
    "    tmdf = pd.DataFrame(tmdata)\n",
    "    totalmassclass_val = totalmass.predict(tmdf)\n",
    "    totalmass_val = return_total_mass(totalmassclass_val)\n",
    "    \n",
    "    massdistdata = {'optical_depth':[odparam], 'max_exp_vel':[mevparam], 'emergent_flux':[efluxparam], 'total_mass':[totalmass_val],'mass_ni_56':[nimass],'optical_depth_unc':[od_unc]}\n",
    "    massdistdf = pd.DataFrame(massdistdata)\n",
    "    massdistflag = initmassdist.predict(massdistdf)\n",
    "    print(type(massdistflag[0]))\n",
    "    initmassdist_str = return_dist_class_to_str(massdistflag)\n",
    "    \n",
    "    raddistdata = {'optical_depth':[odparam], 'max_exp_vel':[mevparam], 'emergent_flux':[efluxparam], 'total_mass':[totalmass_val], 'mass_ni_56':[nimass], 'mass_dist_encoding':[massdistflag[0]],'optical_depth_unc':[od_unc]}\n",
    "    raddistdf = pd.DataFrame(raddistdata)\n",
    "    raddistflag = initraddist.predict(raddistdf)\n",
    "    initraddist_str = return_dist_class_to_str(raddistflag)\n",
    "    \n",
    "    expldata = {'optical_depth':[odparam], 'max_exp_vel':[mevparam], 'emergent_flux':[efluxparam], 'mass_ni_56':[nimass], 'total_mass':[totalmass_val],  'mass_dist_encoding':[massdistflag[0]], 'rad_dist_encoding':[raddistflag[0]]}\n",
    "    expldf = pd.DataFrame(expldata)\n",
    "    eclassflag = explosionclassgini.predict(expldf)\n",
    "    explosion_energy_val = return_avg_explosion_eng(eclassflag)\n",
    "    \n",
    "    result = []\n",
    "    result.append(nimass)\n",
    "    result.append(totalmass_val)\n",
    "    result.append(explosion_energy_val)\n",
    "    result.append(initmassdist_str)\n",
    "    result.append(initraddist_str)\n",
    "    \n",
    "    return result"
   ]
  },
  {
   "cell_type": "code",
   "execution_count": 157,
   "metadata": {},
   "outputs": [],
   "source": [
    "#Example "
   ]
  },
  {
   "cell_type": "code",
   "execution_count": 158,
   "metadata": {},
   "outputs": [
    {
     "data": {
      "text/plain": [
       "optical_depth              1.94063\n",
       "optical_depth_unc         0.179354\n",
       "max_exp_vel              0.0135306\n",
       "max_exp_vel_unc        0.000669683\n",
       "emergent_flux          2.72379e-06\n",
       "total_mass                    0.75\n",
       "mass_ni_56                    0.15\n",
       "explosion_energy              0.75\n",
       "init_mass_dist                hed8\n",
       "init_rad_dist                 hed8\n",
       "class_of_flux                    1\n",
       "class_of_ni                      1\n",
       "class_of_total_mass              1\n",
       "class_of_explosion               1\n",
       "mass_dist_encoding               1\n",
       "rad_dist_encoding                1\n",
       "Name: 0, dtype: object"
      ]
     },
     "execution_count": 158,
     "metadata": {},
     "output_type": "execute_result"
    }
   ],
   "source": [
    "supernovae_df.iloc[0]"
   ]
  },
  {
   "cell_type": "code",
   "execution_count": 159,
   "metadata": {},
   "outputs": [
    {
     "name": "stdout",
     "output_type": "stream",
     "text": [
      "<class 'numpy.int32'>\n"
     ]
    },
    {
     "data": {
      "text/plain": [
       "[0.15, 0.75, 2.0, 'hed8', 'hed8']"
      ]
     },
     "execution_count": 159,
     "metadata": {},
     "output_type": "execute_result"
    }
   ],
   "source": [
    "supernovae_routine(1.94063, 0.0135306,.00000272379)"
   ]
  },
  {
   "cell_type": "code",
   "execution_count": null,
   "metadata": {},
   "outputs": [],
   "source": []
  },
  {
   "cell_type": "code",
   "execution_count": null,
   "metadata": {},
   "outputs": [],
   "source": []
  },
  {
   "cell_type": "markdown",
   "metadata": {},
   "source": [
    "# Test case 1:\n",
    "1. od= 3.35\n",
    "2. mev = 0.015\n",
    "3. eflux = 1.20×10-5"
   ]
  },
  {
   "cell_type": "code",
   "execution_count": 160,
   "metadata": {},
   "outputs": [
    {
     "name": "stdout",
     "output_type": "stream",
     "text": [
      "<class 'numpy.int32'>\n"
     ]
    },
    {
     "data": {
      "text/plain": [
       "[0.6, 1.8, 2.0, 'N100', 'mwd']"
      ]
     },
     "execution_count": 160,
     "metadata": {},
     "output_type": "execute_result"
    }
   ],
   "source": [
    "supernovae_routine(3.35, 0.015,.0000120)"
   ]
  },
  {
   "cell_type": "code",
   "execution_count": null,
   "metadata": {},
   "outputs": [],
   "source": []
  },
  {
   "cell_type": "markdown",
   "metadata": {},
   "source": [
    "# Test case 2:\n",
    "\n",
    "1. od = 2.54\n",
    "2. mev = 0.013\n",
    "3. eflux = 5.02×10-6"
   ]
  },
  {
   "cell_type": "code",
   "execution_count": 161,
   "metadata": {},
   "outputs": [
    {
     "name": "stdout",
     "output_type": "stream",
     "text": [
      "<class 'numpy.int32'>\n"
     ]
    },
    {
     "data": {
      "text/plain": [
       "[0.3, 2, 2.0, 'hed8', 'w7dt']"
      ]
     },
     "execution_count": 161,
     "metadata": {},
     "output_type": "execute_result"
    }
   ],
   "source": [
    "supernovae_routine(2.54, 0.013,.00000502)"
   ]
  },
  {
   "cell_type": "code",
   "execution_count": null,
   "metadata": {},
   "outputs": [],
   "source": []
  },
  {
   "cell_type": "markdown",
   "metadata": {},
   "source": [
    "# Test case 3:\n",
    "\n",
    "1. od = 2.46\n",
    "2. mev = 0.013\n",
    "3. eflux = 1.03×10-5"
   ]
  },
  {
   "cell_type": "code",
   "execution_count": 162,
   "metadata": {},
   "outputs": [
    {
     "name": "stdout",
     "output_type": "stream",
     "text": [
      "<class 'numpy.int32'>\n"
     ]
    },
    {
     "data": {
      "text/plain": [
       "[0.6, 1.4, 2.0, 'hed8', 'w7dt']"
      ]
     },
     "execution_count": 162,
     "metadata": {},
     "output_type": "execute_result"
    }
   ],
   "source": [
    "supernovae_routine(2.46, 0.013,.0000103)"
   ]
  },
  {
   "cell_type": "markdown",
   "metadata": {},
   "source": [
    "# Conclusion:\n",
    "\n",
    "The current routine can be used as a pipeline to predict physical parameters of supernovae. For the cases of mass ni-56 and total mass, the regression methods can also be adopted as those provide sufficiently good accuracy (0.99 R2 score with linear regression and 78.9% accuracy with XGBoost regressor respectively). \n",
    "\n",
    "\n",
    "\n"
   ]
  },
  {
   "cell_type": "code",
   "execution_count": null,
   "metadata": {},
   "outputs": [],
   "source": []
  }
 ],
 "metadata": {
  "kernelspec": {
   "display_name": "Python 3",
   "language": "python",
   "name": "python3"
  },
  "language_info": {
   "codemirror_mode": {
    "name": "ipython",
    "version": 3
   },
   "file_extension": ".py",
   "mimetype": "text/x-python",
   "name": "python",
   "nbconvert_exporter": "python",
   "pygments_lexer": "ipython3",
   "version": "3.8.5"
  }
 },
 "nbformat": 4,
 "nbformat_minor": 4
}
